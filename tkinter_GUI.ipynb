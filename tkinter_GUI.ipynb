{
 "cells": [
  {
   "cell_type": "code",
   "execution_count": 1,
   "id": "bb165cf3",
   "metadata": {},
   "outputs": [],
   "source": [
    "from tkinter import *"
   ]
  },
  {
   "cell_type": "code",
   "execution_count": 23,
   "id": "66cf6c0f",
   "metadata": {},
   "outputs": [],
   "source": [
    "root = Tk()\n",
    "root.title(\"처음 만난 Tkinter\")\n",
    "root.geometry(\"640x480\")\n",
    "root.mainloop()"
   ]
  },
  {
   "cell_type": "code",
   "execution_count": 31,
   "id": "eb1a2119",
   "metadata": {},
   "outputs": [
    {
     "name": "stdout",
     "output_type": "stream",
     "text": [
      "버튼이 눌러짐\n",
      "버튼이 눌러짐\n",
      "버튼이 눌러짐\n",
      "버튼이 눌러짐\n",
      "버튼이 눌러짐\n",
      "버튼이 눌러짐\n",
      "버튼이 눌러짐\n"
     ]
    }
   ],
   "source": [
    "root = Tk()\n",
    "root.title(\"처음 만난 Tkinter\")\n",
    "#root.geometry(\"640x480\")\n",
    "\n",
    "btn1 = Button(root, text=\"첫번째 버튼\")\n",
    "btn1.pack()      # btn1을 챙겨라\n",
    "\n",
    "btn2 = Button(root, padx=5, pady=10, text=\"두번째 버튼\")\n",
    "btn2.pack()\n",
    "\n",
    "btn3 = Button(root, padx=10, pady=5, text=\"세번째 버튼\")\n",
    "btn3.pack()\n",
    "\n",
    "btn4 = Button(root, fg = \"black\", bg = \"#5CD1E5\", text=\"세번째 버튼\")\n",
    "btn4.pack()\n",
    "\n",
    "img_str = PhotoImage(file=\"딸기이미지.png\")\n",
    "btn5 = Button(root,image=img_str)\n",
    "btn5.pack()\n",
    "\n",
    "btn6 = Button(root, width=10, height=2, text=\"6\")\n",
    "btn6.pack()\n",
    "\n",
    "def on_click1():\n",
    "    print(\"버튼이 눌러짐\")\n",
    "btn7 = Button(root, command=on_click1, text=\"7\")\n",
    "btn7.pack()\n",
    "\n",
    "root.mainloop()"
   ]
  },
  {
   "cell_type": "code",
   "execution_count": 32,
   "id": "e459c7a1",
   "metadata": {},
   "outputs": [],
   "source": [
    "root = Tk()\n",
    "root.title(\"2 Tkinter\")\n",
    "root.geometry(\"640x480\")\n",
    "\n",
    "la_1= Label(root, text=\"라벨이에요\")\n",
    "la_1.pack()\n",
    "\n",
    "img_str = PhotoImage(file=\"딸기이미지.png\")\n",
    "la_2= Label(root, image=img_str)\n",
    "la_2.pack()\n",
    "\n",
    "la_3 = Label(root, text = \"저는 바뀔거에요\")\n",
    "la_3.pack()\n",
    "\n",
    "def on_click1():\n",
    "    global photo2\n",
    "    photo2= PhotoImage(file=\"딸기케이크.png\")\n",
    "    la_3.config(text=\"바뀌었어요\")\n",
    "    la_2.config(image=photo2)\n",
    "    \n",
    "btn1 = Button(root, command=on_click1, text=\"버튼 1\")\n",
    "btn1.pack()\n",
    "\n",
    "root.mainloop()"
   ]
  },
  {
   "cell_type": "code",
   "execution_count": 46,
   "id": "325ad1eb",
   "metadata": {},
   "outputs": [
    {
     "name": "stdout",
     "output_type": "stream",
     "text": [
      "여러줄 입력 창으로부터:  글자를 입력하세요: ddd\n",
      "\n",
      "한줄 입력창으로부터:  한 줄만 입력 가능해요dd\n",
      "여러줄 입력 창으로부터:  eeeeee\n",
      "\n",
      "한줄 입력창으로부터:  lalala\n"
     ]
    }
   ],
   "source": [
    "root = Tk()\n",
    "root.title(\"TextEntry - Tkinter\")\n",
    "root.geometry(\"640x480\")\n",
    "\n",
    "txt1 = Text(root, width=30, height=3)\n",
    "txt1.pack()\n",
    "txt1.insert(END, \"글자를 입력하세요: \")\n",
    "\n",
    "e1 = Entry(root, width=30)\n",
    "e1.pack()\n",
    "e1.insert(0, \"한 줄만 입력 가능해요\")\n",
    "\n",
    "def on_click1():\n",
    "    print(\"여러줄 입력 창으로부터: \", txt1.get(\"1.0\", \"end\"))\n",
    "    print(\"한줄 입력창으로부터: \", e1.get())\n",
    "    txt1.delete(\"1.0\", END)\n",
    "    e1.delete(\"0\", END)\n",
    "btn1=Button(root, text=\"입력\", command=on_click1)\n",
    "btn1.pack()\n",
    "\n",
    "root.mainloop()"
   ]
  },
  {
   "cell_type": "code",
   "execution_count": 50,
   "id": "90e425cf",
   "metadata": {},
   "outputs": [
    {
     "name": "stdout",
     "output_type": "stream",
     "text": [
      "선택된 항목은 (3,)\n",
      "선택된 항목은 (2,)\n",
      "선택된 항목은 (1,)\n"
     ]
    }
   ],
   "source": [
    "root = Tk()\n",
    "root.title(\"ListBox - Tkinter\")\n",
    "root.geometry(\"640x480\")\n",
    "\n",
    "li_1 = Listbox(root, selectmode=\"extended\", height=0)\n",
    "li_1.insert(0, \"선택 1\")\n",
    "li_1.insert(1, \"선택 2\")\n",
    "li_1.insert(2, \"선택 3\")\n",
    "li_1.insert(3, \"선택 4\")\n",
    "li_1.pack()\n",
    "\n",
    "def on_click1():\n",
    "    print(\"선택된 항목은\", li_1.curselection())\n",
    "btn1=Button(root, text=\"선택했어요\", command=on_click1)\n",
    "btn1.pack()\n",
    "\n",
    "root.mainloop()"
   ]
  },
  {
   "cell_type": "code",
   "execution_count": 56,
   "id": "55e19839",
   "metadata": {},
   "outputs": [
    {
     "name": "stdout",
     "output_type": "stream",
     "text": [
      "한식\n",
      "3\n",
      "중식\n",
      "2\n"
     ]
    }
   ],
   "source": [
    "root = Tk()\n",
    "root.title(\"Radio Button - Tkinter\")\n",
    "root.geometry(\"640x480\")\n",
    "\n",
    "Label(root, text=\"메인 메뉴를 선택하세요\").pack()\n",
    "main_menu = StringVar()#IntVar()\n",
    "btn_main_menu1 = Radiobutton(root, text=\"양식\", value = \"양식\", variable=main_menu)\n",
    "btn_main_menu1.select()\n",
    "btn_main_menu2 = Radiobutton(root, text=\"중식\", value = \"중식\", variable=main_menu)\n",
    "btn_main_menu3 = Radiobutton(root, text=\"한식\", value = \"한식\", variable=main_menu)\n",
    "btn_main_menu1.pack()\n",
    "btn_main_menu2.pack()\n",
    "btn_main_menu3.pack()\n",
    "\n",
    "Label(root, text=\"후식 메뉴를 선택하세요\").pack()\n",
    "d_menu = IntVar()\n",
    "btn_d_menu1 = Radiobutton(root, text=\"음료\", value = 1, variable=d_menu)\n",
    "btn_d_menu1.select()\n",
    "btn_d_menu2 = Radiobutton(root, text=\"커피\", value = 2, variable=d_menu)\n",
    "btn_d_menu3 = Radiobutton(root, text=\"아이스크림\", value = 3, variable=d_menu)\n",
    "btn_d_menu1.pack()\n",
    "btn_d_menu2.pack()\n",
    "btn_d_menu3.pack()\n",
    "\n",
    "def on_click1():\n",
    "    print(main_menu.get())\n",
    "    print(d_menu.get())\n",
    "btn1=Button(root, text=\"주문\", command=on_click1)\n",
    "btn1.pack()\n",
    "\n",
    "\n",
    "root.mainloop()"
   ]
  },
  {
   "cell_type": "code",
   "execution_count": 4,
   "id": "7403b427",
   "metadata": {},
   "outputs": [],
   "source": [
    "from tkinter import *\n",
    "import time\n",
    "import tkinter.ttk as ttk"
   ]
  },
  {
   "cell_type": "code",
   "execution_count": 5,
   "id": "d2c3daf3",
   "metadata": {},
   "outputs": [],
   "source": [
    "root = Tk()\n",
    "root.title(\"프로그래스 바 테스트\")\n",
    "root.geometry(\"640x480\")\n",
    "\n",
    "val_now = DoubleVar()\n",
    "my_progressbar = ttk.Progressbar(root, maximum = 100, length=150, variable = val_now)\n",
    "my_progressbar.pack()\n",
    "\n",
    "학습결과라벨 = Label(root, text=\"이번 에포크의 학습 결과\")\n",
    "학습결과라벨.pack()\n",
    "\n",
    "def btncmd():\n",
    "    # val_now 수정 # progressbar update\n",
    "    for val in range(1, 11):\n",
    "        time.sleep(1)\n",
    "        학습결과라벨.config(text=\"이번 에포크: \"+ str(80+val))\n",
    "        val_now.set(val)\n",
    "        my_progressbar.update()\n",
    "\n",
    "btn = Button(root, text = \"테스트 시작\", command= btncmd)\n",
    "btn.pack()\n",
    "\n",
    "root.mainloop()"
   ]
  },
  {
   "cell_type": "code",
   "execution_count": 12,
   "id": "0099bbd1",
   "metadata": {},
   "outputs": [
    {
     "name": "stdout",
     "output_type": "stream",
     "text": [
      "True\n",
      "False\n"
     ]
    }
   ],
   "source": [
    "import tkinter.messagebox as msqbox\n",
    "\n",
    "root = Tk()\n",
    "root.title(\"메뉴 테스트\")\n",
    "root.geometry(\"640x480\")\n",
    "\n",
    "my_menu = Menu(root)\n",
    "\n",
    "# file menu\n",
    "def on_click_NewFile():\n",
    "    print(\"여기에서 새 파일 생성을 합니다.\")\n",
    "menu_file = Menu(my_menu, tearoff=0)\n",
    "menu_file.add_command(label=\"New File\", command=on_click_NewFile)\n",
    "menu_file.add_command(label=\"New Window\")\n",
    "menu_file.add_separator()\n",
    "menu_file.add_command(label=\"Open File\")\n",
    "menu_file.add_command(label=\"Save all\")\n",
    "menu_file.add_command(label=\"Save as\")\n",
    "menu_file.add_command(label=\"Save\")\n",
    "menu_file.add_command(label=\"Exit\", command=root.quit)\n",
    "my_menu.add_cascade(label = \"File\", menu=menu_file)\n",
    "\n",
    "# edit menu\n",
    "def on_click_Copy():\n",
    "    print(\"copy\")\n",
    "def on_click_Paste():\n",
    "    print(\"paste\")\n",
    "def on_click_Cut():\n",
    "    print(\"cut\")\n",
    "menu_edit = Menu(my_menu, tearoff=0)\n",
    "menu_edit.add_radiobutton(label=\"Copy\", command=on_click_Copy)\n",
    "menu_edit.add_radiobutton(label=\"Paste\", command=on_click_Paste)\n",
    "menu_edit.add_radiobutton(label=\"Cut\", command=on_click_Cut)\n",
    "my_menu.add_cascade(label = \"Edit\", menu=menu_edit)\n",
    "\n",
    "# view menu\n",
    "def on_click_알림():\n",
    "    msqbox.showinfo(\"알림\", \"정보를 표현합니다.\")\n",
    "def on_click_경고():\n",
    "    msqbox.showwarning(\"경고\", \"큰 일\")\n",
    "def on_click_에러():\n",
    "    msqbox.showerror(\"에러\", \"큰 일 남\")\n",
    "def on_click_ok_cancel():\n",
    "    res = msqbox.askokcancel(\"확인/취소\", \"진행\")\n",
    "    print(res)\n",
    "menu_view = Menu(my_menu, tearoff=0)\n",
    "menu_view.add_command(label=\"알림\", command=on_click_알림)\n",
    "menu_view.add_command(label=\"경고\", command=on_click_경고)\n",
    "menu_view.add_command(label=\"에러\", command=on_click_에러)\n",
    "menu_view.add_separator()\n",
    "menu_view.add_command(label=\"ok_cancel\", command= on_click_ok_cancel)\n",
    "my_menu.add_cascade(label = \"View\", menu=menu_view)\n",
    "\n",
    "root.config(menu=my_menu)\n",
    "root.mainloop()"
   ]
  },
  {
   "cell_type": "code",
   "execution_count": 18,
   "id": "8ba544cf",
   "metadata": {},
   "outputs": [],
   "source": [
    "root = Tk()\n",
    "root.title(\"프레임 테스트\")\n",
    "root.geometry(\"640x480\")\n",
    "\n",
    "Label(root, text=\"Frame 외부 컴포넌트 1\").pack(side=\"top\")\n",
    "frame1=Frame(root, relief=\"solid\", bd=1)\n",
    "frame1.pack(side=\"left\", fill=\"both\", expand=True)\n",
    "Label(frame1, text=\"Frame 내부 컴포넌트 1 l\").pack()\n",
    "Label(frame1, text=\"Frame 내부 컴포넌트 2 l\").pack()\n",
    "\n",
    "frame2=LabelFrame(root, text=\"frame2\", relief=\"solid\", bd=1)\n",
    "frame2.pack(side=\"right\", fill=\"both\", expand=True)\n",
    "Label(frame2, text=\"Frame 내부 컴포넌트 1 r\").pack()\n",
    "Label(frame2, text=\"Frame 내부 컴포넌트 2 r\").pack()\n",
    "Label(root, text=\"Frame 외부 컴포넌트 2\").pack(side=\"bottom\")\n",
    "\n",
    "root.mainloop()"
   ]
  },
  {
   "cell_type": "code",
   "execution_count": 31,
   "id": "10935f11",
   "metadata": {},
   "outputs": [],
   "source": [
    "root = Tk()\n",
    "root.title(\"Frame 테스트\")\n",
    "root.geometry(\"640x480\")\n",
    "\n",
    "# Grid(3행 4열)\n",
    "# 1행\n",
    "button1_1=Button(root, text=\"1_1\",width=10, height=5)\n",
    "button1_2=Button(root, text=\"1_2\",width=10, height=5)\n",
    "button1_3=Button(root, text=\"1_3\",width=10, height=5)\n",
    "button1_4=Button(root, text=\"1_4\",width=10, height=5)\n",
    "\n",
    "button1_1.grid(row=0, column=0, sticky=N+E+W+S, padx=3, pady=3)\n",
    "button1_2.grid(row=0, column=1, sticky=N+E+W+S, padx=3, pady=3)\n",
    "button1_3.grid(row=0, column=2, sticky=N+E+W+S, padx=3, pady=3)\n",
    "button1_4.grid(row=0, column=3, sticky=N+E+W+S, padx=3, pady=3)\n",
    "\n",
    "# 2행\n",
    "button2_1=Button(root, text=\"2_1\",width=10, height=5)\n",
    "#button2_2=Button(root, text=\"2_2\",width=10, height=5)\n",
    "button2_3=Button(root, text=\"2_3\",width=10, height=5)\n",
    "button2_4=Button(root, text=\"2_4\",width=10, height=5)\n",
    "\n",
    "button2_1.grid(row=1, column=0, columnspan=2, sticky=N+E+W+S, padx=3, pady=3)\n",
    "#button2_2.grid(row=1, column=1, sticky=N+E+W+S, padx=3, pady=3)\n",
    "button2_3.grid(row=1, column=2, sticky=N+E+W+S, padx=3, pady=3)\n",
    "button2_4.grid(row=1, column=3, rowspan=2, sticky=N+E+W+S, padx=3, pady=3)\n",
    "\n",
    "# 3행\n",
    "\n",
    "button3_1=Button(root, text=\"2_1\",width=10, height=5)\n",
    "button3_2=Button(root, text=\"2_2\",width=10, height=5)\n",
    "button3_3=Button(root, text=\"2_3\",width=10, height=5)\n",
    "\n",
    "button3_1.grid(row=2, column=0, sticky=N+E+W+S, padx=3, pady=3)\n",
    "button3_2.grid(row=2, column=1, sticky=N+E+W+S, padx=3, pady=3)\n",
    "button3_3.grid(row=2, column=2, rowspan=2, sticky=N+E+W+S, padx=3, pady=3)\n",
    "\n",
    "\n",
    "root.mainloop()"
   ]
  },
  {
   "cell_type": "code",
   "execution_count": null,
   "id": "e6213000",
   "metadata": {},
   "outputs": [],
   "source": []
  }
 ],
 "metadata": {
  "kernelspec": {
   "display_name": "Python 3 (ipykernel)",
   "language": "python",
   "name": "python3"
  },
  "language_info": {
   "codemirror_mode": {
    "name": "ipython",
    "version": 3
   },
   "file_extension": ".py",
   "mimetype": "text/x-python",
   "name": "python",
   "nbconvert_exporter": "python",
   "pygments_lexer": "ipython3",
   "version": "3.9.7"
  }
 },
 "nbformat": 4,
 "nbformat_minor": 5
}
