{
 "cells": [
  {
   "cell_type": "code",
   "execution_count": 4,
   "id": "ea631920-8959-4fe7-a7dd-34c07c4cc699",
   "metadata": {},
   "outputs": [],
   "source": [
    "import tensorflow as tf"
   ]
  },
  {
   "cell_type": "code",
   "execution_count": 6,
   "id": "202e795c-6703-4c7b-a0e0-ef2a3c9c5528",
   "metadata": {},
   "outputs": [
    {
     "data": {
      "text/plain": [
       "'2.5.0'"
      ]
     },
     "execution_count": 6,
     "metadata": {},
     "output_type": "execute_result"
    }
   ],
   "source": [
    "tf.__version__"
   ]
  },
  {
   "cell_type": "code",
   "execution_count": 7,
   "id": "04eba4a9-b04e-4194-b06d-9fae72f17e40",
   "metadata": {},
   "outputs": [
    {
     "name": "stdout",
     "output_type": "stream",
     "text": [
      " C 드라이브의 볼륨에는 이름이 없습니다.\n",
      " 볼륨 일련 번호: A2F1-29B5\n",
      "\n",
      " C:\\Users\\user 디렉터리\n",
      "\n",
      "2021-07-31  오후 02:19    <DIR>          .\n",
      "2021-07-31  오후 02:19    <DIR>          ..\n",
      "2021-07-31  오전 11:05    <DIR>          .conda\n",
      "2020-12-13  오전 08:53                43 .condarc\n",
      "2021-06-13  오후 03:22               180 .gitconfig\n",
      "2021-07-31  오후 02:15    <DIR>          .ipynb_checkpoints\n",
      "2020-12-06  오전 09:10    <DIR>          .ipython\n",
      "2020-12-12  오전 09:07    <DIR>          .jupyter\n",
      "2021-07-31  오후 02:17    <DIR>          .keras\n",
      "2020-12-13  오전 10:23    <DIR>          .matplotlib\n",
      "2020-12-13  오후 12:29    <DIR>          .pylint.d\n",
      "2020-11-21  오전 09:51    <DIR>          .vscode\n",
      "2021-06-13  오전 11:22    <DIR>          3D Objects\n",
      "2021-06-13  오전 11:22    <DIR>          Contacts\n",
      "2021-07-30  오전 11:03    <DIR>          Desktop\n",
      "2021-06-13  오후 03:26    <DIR>          Documents\n",
      "2021-07-31  오후 02:00    <DIR>          Downloads\n",
      "2021-05-16  오후 03:00    <DIR>          eth_net\n",
      "2021-05-16  오후 04:47    <DIR>          eth_net2\n",
      "2021-05-16  오후 05:30    <DIR>          eth_net3\n",
      "2021-06-13  오전 11:22    <DIR>          Favorites\n",
      "2019-06-04  오전 09:32    <DIR>          Intel\n",
      "2021-06-13  오전 11:22    <DIR>          Links\n",
      "2021-06-13  오전 11:22    <DIR>          Music\n",
      "2021-07-21  오전 08:56    <DIR>          OneDrive\n",
      "2021-06-13  오전 11:22    <DIR>          Pictures\n",
      "2021-06-13  오전 11:22    <DIR>          Saved Games\n",
      "2020-12-13  오전 09:26    <DIR>          scikit_learn_data\n",
      "2021-06-13  오전 11:22    <DIR>          Searches\n",
      "2021-07-31  오후 02:19             1,167 Untitled.ipynb\n",
      "2021-06-13  오전 11:22    <DIR>          Videos\n",
      "               3개 파일               1,390 바이트\n",
      "              28개 디렉터리  172,902,744,064 바이트 남음\n"
     ]
    }
   ],
   "source": [
    "!dir"
   ]
  },
  {
   "cell_type": "code",
   "execution_count": 8,
   "id": "d4415f84-2c6f-4a13-970e-12ff677daa7d",
   "metadata": {},
   "outputs": [
    {
     "name": "stderr",
     "output_type": "stream",
     "text": [
      "'apt-get'은(는) 내부 또는 외부 명령, 실행할 수 있는 프로그램, 또는\n",
      "배치 파일이 아닙니다.\n"
     ]
    }
   ],
   "source": []
  }
 ],
 "metadata": {
  "kernelspec": {
   "display_name": "Python 3 (ipykernel)",
   "language": "python",
   "name": "python3"
  },
  "language_info": {
   "codemirror_mode": {
    "name": "ipython",
    "version": 3
   },
   "file_extension": ".py",
   "mimetype": "text/x-python",
   "name": "python",
   "nbconvert_exporter": "python",
   "pygments_lexer": "ipython3",
   "version": "3.7.11"
  }
 },
 "nbformat": 4,
 "nbformat_minor": 5
}
