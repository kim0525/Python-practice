{
 "cells": [
  {
   "cell_type": "code",
   "execution_count": 1,
   "id": "5aaab357",
   "metadata": {},
   "outputs": [
    {
     "name": "stdout",
     "output_type": "stream",
     "text": [
      "3\n"
     ]
    }
   ],
   "source": [
    "a = 1\n",
    "b = 2\n",
    "c = a + b\n",
    "print(c)"
   ]
  },
  {
   "cell_type": "code",
   "execution_count": 2,
   "id": "69352ff7",
   "metadata": {},
   "outputs": [
    {
     "name": "stdout",
     "output_type": "stream",
     "text": [
      "30\n"
     ]
    }
   ],
   "source": [
    "d = c * 10\n",
    "print(d)"
   ]
  },
  {
   "cell_type": "code",
   "execution_count": 3,
   "id": "f96eae98",
   "metadata": {},
   "outputs": [
    {
     "data": {
      "text/plain": [
       "'주석'"
      ]
     },
     "execution_count": 3,
     "metadata": {},
     "output_type": "execute_result"
    }
   ],
   "source": [
    "\"\"\"주석\"\"\"\n",
    "# 주석\n"
   ]
  },
  {
   "cell_type": "code",
   "execution_count": 4,
   "id": "a49eb74a",
   "metadata": {},
   "outputs": [
    {
     "data": {
      "text/plain": [
       "3"
      ]
     },
     "execution_count": 4,
     "metadata": {},
     "output_type": "execute_result"
    }
   ],
   "source": [
    "# 숫자: 실수 정수\n",
    "1 + 2"
   ]
  },
  {
   "cell_type": "code",
   "execution_count": 5,
   "id": "2a6e6b12",
   "metadata": {},
   "outputs": [
    {
     "data": {
      "text/plain": [
       "3.0"
      ]
     },
     "execution_count": 5,
     "metadata": {},
     "output_type": "execute_result"
    }
   ],
   "source": [
    "1.0 + 2.0"
   ]
  },
  {
   "cell_type": "code",
   "execution_count": 6,
   "id": "760cd103",
   "metadata": {},
   "outputs": [
    {
     "data": {
      "text/plain": [
       "3"
      ]
     },
     "execution_count": 6,
     "metadata": {},
     "output_type": "execute_result"
    }
   ],
   "source": [
    "int(1.0 + 2.0)"
   ]
  },
  {
   "cell_type": "code",
   "execution_count": 7,
   "id": "fa5bbad7",
   "metadata": {},
   "outputs": [
    {
     "data": {
      "text/plain": [
       "3.0"
      ]
     },
     "execution_count": 7,
     "metadata": {},
     "output_type": "execute_result"
    }
   ],
   "source": [
    "float(1+2)"
   ]
  },
  {
   "cell_type": "code",
   "execution_count": 8,
   "id": "b3fa3122",
   "metadata": {},
   "outputs": [
    {
     "data": {
      "text/plain": [
       "8"
      ]
     },
     "execution_count": 8,
     "metadata": {},
     "output_type": "execute_result"
    }
   ],
   "source": [
    "3+ 5"
   ]
  },
  {
   "cell_type": "code",
   "execution_count": 9,
   "id": "babc6464",
   "metadata": {},
   "outputs": [
    {
     "data": {
      "text/plain": [
       "'0o10'"
      ]
     },
     "execution_count": 9,
     "metadata": {},
     "output_type": "execute_result"
    }
   ],
   "source": [
    "oct(0o3 + 0o5)"
   ]
  },
  {
   "cell_type": "code",
   "execution_count": 10,
   "id": "04e61ef0",
   "metadata": {},
   "outputs": [
    {
     "data": {
      "text/plain": [
       "'0xf'"
      ]
     },
     "execution_count": 10,
     "metadata": {},
     "output_type": "execute_result"
    }
   ],
   "source": [
    "hex(0x7 + 0x8)"
   ]
  },
  {
   "cell_type": "code",
   "execution_count": 11,
   "id": "4ff3daa1",
   "metadata": {},
   "outputs": [
    {
     "data": {
      "text/plain": [
       "8"
      ]
     },
     "execution_count": 11,
     "metadata": {},
     "output_type": "execute_result"
    }
   ],
   "source": [
    "2**3  # 2의 3승"
   ]
  },
  {
   "cell_type": "code",
   "execution_count": 12,
   "id": "7c83eeab",
   "metadata": {},
   "outputs": [
    {
     "data": {
      "text/plain": [
       "2.3333333333333335"
      ]
     },
     "execution_count": 12,
     "metadata": {},
     "output_type": "execute_result"
    }
   ],
   "source": [
    "7/3"
   ]
  },
  {
   "cell_type": "code",
   "execution_count": 13,
   "id": "c1987b45",
   "metadata": {},
   "outputs": [
    {
     "data": {
      "text/plain": [
       "2"
      ]
     },
     "execution_count": 13,
     "metadata": {},
     "output_type": "execute_result"
    }
   ],
   "source": [
    "7//3   # 몫만 구하기"
   ]
  },
  {
   "cell_type": "code",
   "execution_count": 14,
   "id": "3edbb082",
   "metadata": {},
   "outputs": [
    {
     "data": {
      "text/plain": [
       "1"
      ]
     },
     "execution_count": 14,
     "metadata": {},
     "output_type": "execute_result"
    }
   ],
   "source": [
    "7 % 3  # 나머지"
   ]
  },
  {
   "cell_type": "code",
   "execution_count": 15,
   "id": "bd497733",
   "metadata": {},
   "outputs": [],
   "source": [
    "# high level : C  -> C++ (C와의 차이점: 객체지향의 개념이 있다.)  ->  Java -> python"
   ]
  },
  {
   "cell_type": "code",
   "execution_count": 16,
   "id": "3d8cb245",
   "metadata": {},
   "outputs": [],
   "source": [
    "class A:\n",
    "    def functionA(self):\n",
    "        print(\"a\")\n",
    "    def functionB(self):\n",
    "        print(\"b\")"
   ]
  },
  {
   "cell_type": "code",
   "execution_count": 17,
   "id": "58bd54f8",
   "metadata": {},
   "outputs": [],
   "source": [
    "str_a = \"안녕\""
   ]
  },
  {
   "cell_type": "code",
   "execution_count": 18,
   "id": "c3f1cb19",
   "metadata": {},
   "outputs": [
    {
     "name": "stdout",
     "output_type": "stream",
     "text": [
      "안녕\n"
     ]
    }
   ],
   "source": [
    "print(str_a)"
   ]
  },
  {
   "cell_type": "code",
   "execution_count": 19,
   "id": "e5c85c19",
   "metadata": {},
   "outputs": [
    {
     "data": {
      "text/plain": [
       "'a'"
      ]
     },
     "execution_count": 19,
     "metadata": {},
     "output_type": "execute_result"
    }
   ],
   "source": [
    "'a'"
   ]
  },
  {
   "cell_type": "code",
   "execution_count": 20,
   "id": "c7ef142f",
   "metadata": {},
   "outputs": [
    {
     "data": {
      "text/plain": [
       "'a'"
      ]
     },
     "execution_count": 20,
     "metadata": {},
     "output_type": "execute_result"
    }
   ],
   "source": [
    "\"a\""
   ]
  },
  {
   "cell_type": "code",
   "execution_count": 24,
   "id": "f1b25b13",
   "metadata": {},
   "outputs": [
    {
     "name": "stdout",
     "output_type": "stream",
     "text": [
      "I said \"I am a student\"\n",
      "I said \"I am a student\"\n"
     ]
    }
   ],
   "source": [
    "# I said \"I am a student\"\n",
    "mes1 = 'I said \"I am a student\"'   \n",
    "mes2 = \"I said \\\"I am a student\\\"\"\n",
    "print(mes1)\n",
    "print(mes2)"
   ]
  },
  {
   "cell_type": "code",
   "execution_count": 25,
   "id": "a28b516a",
   "metadata": {},
   "outputs": [
    {
     "name": "stdout",
     "output_type": "stream",
     "text": [
      "1번줄\n",
      "2번줄\n",
      "3번줄\n",
      "\n",
      "1번줄\n",
      "2번줄\n",
      "3번줄\n"
     ]
    }
   ],
   "source": [
    "mes1 = \"1번줄\\n2번줄\\n3번줄\\n\"\n",
    "mes2 = \"\"\"1번줄\n",
    "2번줄\n",
    "3번줄\"\"\"\n",
    "print(mes1)\n",
    "print(mes2)"
   ]
  },
  {
   "cell_type": "code",
   "execution_count": 27,
   "id": "2252879c",
   "metadata": {},
   "outputs": [
    {
     "name": "stdout",
     "output_type": "stream",
     "text": [
      "\n",
      "Looking for Python with a different OS? Python for Windows, Linux/UNIX, macOS, Other\n",
      "\n",
      "Want to help test development versions of Python? Prereleases, Docker images\n",
      "\n",
      "Looking for Python 2.7? See below for specific releases\n",
      "\n"
     ]
    }
   ],
   "source": [
    "news = \"\"\"\n",
    "Looking for Python with a different OS? Python for Windows, Linux/UNIX, macOS, Other\n",
    "\n",
    "Want to help test development versions of Python? Prereleases, Docker images\n",
    "\n",
    "Looking for Python 2.7? See below for specific releases\n",
    "\"\"\"\n",
    "#'''  '''\n",
    "print(news)"
   ]
  },
  {
   "cell_type": "code",
   "execution_count": 28,
   "id": "8258f5e8",
   "metadata": {},
   "outputs": [
    {
     "data": {
      "text/plain": [
       "'helloeveryone'"
      ]
     },
     "execution_count": 28,
     "metadata": {},
     "output_type": "execute_result"
    }
   ],
   "source": [
    "a = \"hello\"\n",
    "b = \"everyone\"\n",
    "a + b"
   ]
  },
  {
   "cell_type": "code",
   "execution_count": 29,
   "id": "7bab2a36",
   "metadata": {},
   "outputs": [
    {
     "data": {
      "text/plain": [
       "'hello everyone'"
      ]
     },
     "execution_count": 29,
     "metadata": {},
     "output_type": "execute_result"
    }
   ],
   "source": [
    "a + \" \" + b"
   ]
  },
  {
   "cell_type": "code",
   "execution_count": 30,
   "id": "976a5c15",
   "metadata": {},
   "outputs": [
    {
     "data": {
      "text/plain": [
       "'Thank you very very very much'"
      ]
     },
     "execution_count": 30,
     "metadata": {},
     "output_type": "execute_result"
    }
   ],
   "source": [
    "a = \"Thank you \"\n",
    "b = \"very \"\n",
    "c = \"much\"\n",
    "a + b * 3 + c"
   ]
  },
  {
   "cell_type": "code",
   "execution_count": 31,
   "id": "7e4b9855",
   "metadata": {},
   "outputs": [
    {
     "name": "stdout",
     "output_type": "stream",
     "text": [
      "\n",
      "==========================================\n",
      "============예매하고 싶은 장소는?=========\n",
      "1. 서울역\n",
      "2. 대전역\n",
      "3. 부산역\n",
      "==========================================\n",
      "\n"
     ]
    }
   ],
   "source": [
    "menu = \"\"\"\n",
    "==========================================\n",
    "============예매하고 싶은 장소는?=========\n",
    "1. 서울역\n",
    "2. 대전역\n",
    "3. 부산역\n",
    "==========================================\n",
    "\"\"\"\n",
    "print(menu)"
   ]
  },
  {
   "cell_type": "code",
   "execution_count": 32,
   "id": "ccdd6e0d",
   "metadata": {},
   "outputs": [
    {
     "data": {
      "text/plain": [
       "'=============================='"
      ]
     },
     "execution_count": 32,
     "metadata": {},
     "output_type": "execute_result"
    }
   ],
   "source": [
    "\"=\"* 30"
   ]
  },
  {
   "cell_type": "code",
   "execution_count": 33,
   "id": "08c32eb0",
   "metadata": {},
   "outputs": [
    {
     "data": {
      "text/plain": [
       "142"
      ]
     },
     "execution_count": 33,
     "metadata": {},
     "output_type": "execute_result"
    }
   ],
   "source": [
    "len(menu)   # sizeof(menu)"
   ]
  },
  {
   "cell_type": "code",
   "execution_count": 35,
   "id": "821ca7ed",
   "metadata": {},
   "outputs": [],
   "source": [
    "mes = \"My choice is Komputer!\""
   ]
  },
  {
   "cell_type": "code",
   "execution_count": 36,
   "id": "ddde35d4",
   "metadata": {},
   "outputs": [
    {
     "data": {
      "text/plain": [
       "'Komputer'"
      ]
     },
     "execution_count": 36,
     "metadata": {},
     "output_type": "execute_result"
    }
   ],
   "source": [
    "mes[13:21]         #  mes[13:-1]"
   ]
  },
  {
   "cell_type": "code",
   "execution_count": 39,
   "id": "7535a5a0",
   "metadata": {},
   "outputs": [
    {
     "data": {
      "text/plain": [
       "'Komputer!'"
      ]
     },
     "execution_count": 39,
     "metadata": {},
     "output_type": "execute_result"
    }
   ],
   "source": [
    "mes[13:]"
   ]
  },
  {
   "cell_type": "code",
   "execution_count": 40,
   "id": "34b9352d",
   "metadata": {},
   "outputs": [
    {
     "data": {
      "text/plain": [
       "'My'"
      ]
     },
     "execution_count": 40,
     "metadata": {},
     "output_type": "execute_result"
    }
   ],
   "source": [
    "mes[:2]"
   ]
  },
  {
   "cell_type": "code",
   "execution_count": 37,
   "id": "b0bcd951",
   "metadata": {},
   "outputs": [
    {
     "data": {
      "text/plain": [
       "'K'"
      ]
     },
     "execution_count": 37,
     "metadata": {},
     "output_type": "execute_result"
    }
   ],
   "source": [
    "mes[13]"
   ]
  },
  {
   "cell_type": "code",
   "execution_count": 41,
   "id": "6a2cb801",
   "metadata": {},
   "outputs": [
    {
     "data": {
      "text/plain": [
       "'My choice is Komputer!'"
      ]
     },
     "execution_count": 41,
     "metadata": {},
     "output_type": "execute_result"
    }
   ],
   "source": [
    "mes[:]"
   ]
  },
  {
   "cell_type": "code",
   "execution_count": 38,
   "id": "013f70ca",
   "metadata": {},
   "outputs": [
    {
     "data": {
      "text/plain": [
       "'My choice is Computer!'"
      ]
     },
     "execution_count": 38,
     "metadata": {},
     "output_type": "execute_result"
    }
   ],
   "source": [
    "mes.replace(\"K\", \"C\")"
   ]
  },
  {
   "cell_type": "code",
   "execution_count": 42,
   "id": "82dcd393",
   "metadata": {},
   "outputs": [
    {
     "name": "stdout",
     "output_type": "stream",
     "text": [
      "result is 3\n"
     ]
    }
   ],
   "source": [
    "print(\"result is %d\"%3)"
   ]
  },
  {
   "cell_type": "code",
   "execution_count": 43,
   "id": "224e2547",
   "metadata": {},
   "outputs": [
    {
     "name": "stdout",
     "output_type": "stream",
     "text": [
      "1 + 2 = 3\n"
     ]
    }
   ],
   "source": [
    "print(\"%d + %d = %d\"%(1,2,3))"
   ]
  },
  {
   "cell_type": "code",
   "execution_count": 44,
   "id": "38018893",
   "metadata": {},
   "outputs": [
    {
     "name": "stdout",
     "output_type": "stream",
     "text": [
      "1 + 2 = 3\n"
     ]
    }
   ],
   "source": [
    "print(\"{0} + {1} = {2}\".format(1,2,3))  \n",
    "# 0번쨰 1번째 2번째에 (1,2,3)을 넣는다."
   ]
  },
  {
   "cell_type": "code",
   "execution_count": 46,
   "id": "18fe3224",
   "metadata": {},
   "outputs": [
    {
     "name": "stdout",
     "output_type": "stream",
     "text": [
      "2 + 1 = 3\n"
     ]
    }
   ],
   "source": [
    "print(\"{1} + {0} = {2}\".format(1,2,3))"
   ]
  },
  {
   "cell_type": "code",
   "execution_count": 45,
   "id": "f96cb21a",
   "metadata": {},
   "outputs": [
    {
     "name": "stdout",
     "output_type": "stream",
     "text": [
      "1 + 2 = 3\n"
     ]
    }
   ],
   "source": [
    "a = 1\n",
    "b = 2\n",
    "c = 3\n",
    "print(f\"{a} + {b} = {c}\")"
   ]
  },
  {
   "cell_type": "code",
   "execution_count": 47,
   "id": "1fb91640",
   "metadata": {},
   "outputs": [
    {
     "name": "stdout",
     "output_type": "stream",
     "text": [
      "result is 3.123457\n"
     ]
    }
   ],
   "source": [
    "print(\"result is %f\"%3.12345678)"
   ]
  },
  {
   "cell_type": "code",
   "execution_count": 49,
   "id": "6d64fbee",
   "metadata": {},
   "outputs": [
    {
     "name": "stdout",
     "output_type": "stream",
     "text": [
      "result is 3.12\n"
     ]
    }
   ],
   "source": [
    "print(\"result is %.2f\"%3.12345678)"
   ]
  },
  {
   "cell_type": "code",
   "execution_count": 58,
   "id": "94627e53",
   "metadata": {},
   "outputs": [
    {
     "data": {
      "text/plain": [
       "'김고려씨 이세종님 박충남씨'"
      ]
     },
     "execution_count": 58,
     "metadata": {},
     "output_type": "execute_result"
    }
   ],
   "source": [
    "문자열들 = [\"김고려씨\",\"이세종님\",\"박충남씨\"]\n",
    "문자열_new = \" \".join(문자열들)\n",
    "문자열_new"
   ]
  },
  {
   "cell_type": "code",
   "execution_count": 60,
   "id": "6ec5caf4",
   "metadata": {},
   "outputs": [
    {
     "data": {
      "text/plain": [
       "'김고려님 이세종님 박충남님'"
      ]
     },
     "execution_count": 60,
     "metadata": {},
     "output_type": "execute_result"
    }
   ],
   "source": [
    "문자열_new = 문자열_new.replace(\"씨\", \"님\")\n",
    "문자열_new"
   ]
  },
  {
   "cell_type": "code",
   "execution_count": 61,
   "id": "3f37a76d",
   "metadata": {},
   "outputs": [
    {
     "data": {
      "text/plain": [
       "['김고려님', '이세종님', '박충남님']"
      ]
     },
     "execution_count": 61,
     "metadata": {},
     "output_type": "execute_result"
    }
   ],
   "source": [
    "문자열_new.split()"
   ]
  },
  {
   "cell_type": "code",
   "execution_count": 51,
   "id": "b7025117",
   "metadata": {},
   "outputs": [
    {
     "data": {
      "text/plain": [
       "'김고려/이세종/박충남'"
      ]
     },
     "execution_count": 51,
     "metadata": {},
     "output_type": "execute_result"
    }
   ],
   "source": [
    "\"/\".join(문자열들)"
   ]
  },
  {
   "cell_type": "code",
   "execution_count": 62,
   "id": "1fd8f0f9",
   "metadata": {},
   "outputs": [
    {
     "data": {
      "text/plain": [
       "'apple'"
      ]
     },
     "execution_count": 62,
     "metadata": {},
     "output_type": "execute_result"
    }
   ],
   "source": [
    "a = \"Apple\"\n",
    "b = \"pineapple\"\n",
    "c = \"apple\"\n",
    "a.lower()"
   ]
  },
  {
   "cell_type": "code",
   "execution_count": 66,
   "id": "8c5c127c",
   "metadata": {},
   "outputs": [
    {
     "name": "stdout",
     "output_type": "stream",
     "text": [
      " apple pineapple apple \n"
     ]
    }
   ],
   "source": [
    "a = \" apple\"\n",
    "b = \"pineapple\"\n",
    "c = \"apple \"\n",
    "print(a, b, c)"
   ]
  },
  {
   "cell_type": "code",
   "execution_count": 64,
   "id": "96513975",
   "metadata": {},
   "outputs": [
    {
     "data": {
      "text/plain": [
       "'apple'"
      ]
     },
     "execution_count": 64,
     "metadata": {},
     "output_type": "execute_result"
    }
   ],
   "source": [
    "a.lstrip()"
   ]
  },
  {
   "cell_type": "code",
   "execution_count": 65,
   "id": "c2ac6c65",
   "metadata": {},
   "outputs": [
    {
     "data": {
      "text/plain": [
       "'apple'"
      ]
     },
     "execution_count": 65,
     "metadata": {},
     "output_type": "execute_result"
    }
   ],
   "source": [
    "a.strip()"
   ]
  },
  {
   "cell_type": "code",
   "execution_count": 67,
   "id": "387e4231",
   "metadata": {},
   "outputs": [
    {
     "data": {
      "text/plain": [
       "'apple'"
      ]
     },
     "execution_count": 67,
     "metadata": {},
     "output_type": "execute_result"
    }
   ],
   "source": [
    "c.strip()"
   ]
  },
  {
   "cell_type": "code",
   "execution_count": 68,
   "id": "ad25e084",
   "metadata": {},
   "outputs": [
    {
     "name": "stdout",
     "output_type": "stream",
     "text": [
      "\n",
      "apple pineapple apple\n",
      "\n"
     ]
    }
   ],
   "source": [
    "a = \"\\napple\"\n",
    "b = \"pineapple\"\n",
    "c = \"apple\\n\"\n",
    "print(a, b, c)"
   ]
  },
  {
   "cell_type": "code",
   "execution_count": 69,
   "id": "2096352d",
   "metadata": {},
   "outputs": [
    {
     "data": {
      "text/plain": [
       "'apple'"
      ]
     },
     "execution_count": 69,
     "metadata": {},
     "output_type": "execute_result"
    }
   ],
   "source": [
    "c.strip(\"\\n\")"
   ]
  },
  {
   "cell_type": "code",
   "execution_count": 70,
   "id": "cd2300ac",
   "metadata": {},
   "outputs": [
    {
     "name": "stdout",
     "output_type": "stream",
     "text": [
      "apple  pine apple  apple\n"
     ]
    }
   ],
   "source": [
    "a = \"apple \"\n",
    "b = \"pine apple\"\n",
    "c = \" apple\"\n",
    "print(a, b, c)"
   ]
  },
  {
   "cell_type": "code",
   "execution_count": 71,
   "id": "93bc1f36",
   "metadata": {},
   "outputs": [
    {
     "data": {
      "text/plain": [
       "('apple', 'pineapple', 'apple')"
      ]
     },
     "execution_count": 71,
     "metadata": {},
     "output_type": "execute_result"
    }
   ],
   "source": [
    "a.replace(\" \", \"\"), b.replace(\" \", \"\"), c.replace(\" \",\"\"),"
   ]
  },
  {
   "cell_type": "code",
   "execution_count": 72,
   "id": "86c4c77c",
   "metadata": {},
   "outputs": [],
   "source": [
    "#리스트"
   ]
  },
  {
   "cell_type": "code",
   "execution_count": 73,
   "id": "37fcc4c1",
   "metadata": {},
   "outputs": [
    {
     "data": {
      "text/plain": [
       "[1, 2, 3]"
      ]
     },
     "execution_count": 73,
     "metadata": {},
     "output_type": "execute_result"
    }
   ],
   "source": [
    "a = [1, 2, 3]\n",
    "a"
   ]
  },
  {
   "cell_type": "code",
   "execution_count": 75,
   "id": "62c867a0",
   "metadata": {},
   "outputs": [
    {
     "data": {
      "text/plain": [
       "[1, 1.5, 3]"
      ]
     },
     "execution_count": 75,
     "metadata": {},
     "output_type": "execute_result"
    }
   ],
   "source": [
    "a =[1, 1.5, 3]\n",
    "a"
   ]
  },
  {
   "cell_type": "code",
   "execution_count": 78,
   "id": "ff74776f",
   "metadata": {},
   "outputs": [
    {
     "data": {
      "text/plain": [
       "[1.0, 1.5, 3.0]"
      ]
     },
     "execution_count": 78,
     "metadata": {},
     "output_type": "execute_result"
    }
   ],
   "source": [
    "a =[1.0, 1.5, 3.0]\n",
    "a"
   ]
  },
  {
   "cell_type": "code",
   "execution_count": 79,
   "id": "3c034a63",
   "metadata": {},
   "outputs": [
    {
     "data": {
      "text/plain": [
       "1.5"
      ]
     },
     "execution_count": 79,
     "metadata": {},
     "output_type": "execute_result"
    }
   ],
   "source": [
    "a[1]"
   ]
  },
  {
   "cell_type": "code",
   "execution_count": 81,
   "id": "87c1b66a",
   "metadata": {},
   "outputs": [
    {
     "data": {
      "text/plain": [
       "[1.0, 15.5, 3.0]"
      ]
     },
     "execution_count": 81,
     "metadata": {},
     "output_type": "execute_result"
    }
   ],
   "source": [
    "a[1] = 15.5\n",
    "a"
   ]
  },
  {
   "cell_type": "code",
   "execution_count": 82,
   "id": "bff4012d",
   "metadata": {},
   "outputs": [
    {
     "data": {
      "text/plain": [
       "(3.0, 3.0)"
      ]
     },
     "execution_count": 82,
     "metadata": {},
     "output_type": "execute_result"
    }
   ],
   "source": [
    "a[2], a[-1]"
   ]
  },
  {
   "cell_type": "code",
   "execution_count": 83,
   "id": "6dd01533",
   "metadata": {},
   "outputs": [
    {
     "data": {
      "text/plain": [
       "[[1, 2], [3, 4, 5], [6, 7, 8, 9]]"
      ]
     },
     "execution_count": 83,
     "metadata": {},
     "output_type": "execute_result"
    }
   ],
   "source": [
    "a = [[1,2], [3,4,5], [6,7,8,9]]\n",
    "a"
   ]
  },
  {
   "cell_type": "code",
   "execution_count": 84,
   "id": "04387846",
   "metadata": {},
   "outputs": [
    {
     "data": {
      "text/plain": [
       "1"
      ]
     },
     "execution_count": 84,
     "metadata": {},
     "output_type": "execute_result"
    }
   ],
   "source": [
    "a[0][0]"
   ]
  },
  {
   "cell_type": "code",
   "execution_count": 85,
   "id": "d511b7f8",
   "metadata": {},
   "outputs": [
    {
     "data": {
      "text/plain": [
       "8"
      ]
     },
     "execution_count": 85,
     "metadata": {},
     "output_type": "execute_result"
    }
   ],
   "source": [
    "a[2][2]"
   ]
  },
  {
   "cell_type": "code",
   "execution_count": 86,
   "id": "34cd5943",
   "metadata": {},
   "outputs": [
    {
     "data": {
      "text/plain": [
       "[7, 8]"
      ]
     },
     "execution_count": 86,
     "metadata": {},
     "output_type": "execute_result"
    }
   ],
   "source": [
    "a[2][1:3]"
   ]
  },
  {
   "cell_type": "code",
   "execution_count": 88,
   "id": "c1b208a5",
   "metadata": {},
   "outputs": [
    {
     "data": {
      "text/plain": [
       "'안녕하세요 김세종님'"
      ]
     },
     "execution_count": 88,
     "metadata": {},
     "output_type": "execute_result"
    }
   ],
   "source": [
    "a = \"안녕하세요 \"\n",
    "b = \"김세종님\"\n",
    "a+ b"
   ]
  },
  {
   "cell_type": "code",
   "execution_count": 89,
   "id": "23e17c8a",
   "metadata": {},
   "outputs": [
    {
     "data": {
      "text/plain": [
       "[1, 2, 3, 4, 5, 6]"
      ]
     },
     "execution_count": 89,
     "metadata": {},
     "output_type": "execute_result"
    }
   ],
   "source": [
    "a = [1,2,3]\n",
    "b = [4,5,6]\n",
    "a + b"
   ]
  },
  {
   "cell_type": "code",
   "execution_count": 90,
   "id": "ce765cd9",
   "metadata": {},
   "outputs": [
    {
     "name": "stdout",
     "output_type": "stream",
     "text": [
      "Collecting numpy\n",
      "  Downloading numpy-1.22.3-cp39-cp39-win_amd64.whl (14.7 MB)\n",
      "Installing collected packages: numpy\n",
      "Successfully installed numpy-1.22.3\n"
     ]
    }
   ],
   "source": [
    "# !pip install numpy"
   ]
  },
  {
   "cell_type": "code",
   "execution_count": 91,
   "id": "536aa16c",
   "metadata": {},
   "outputs": [],
   "source": [
    "import numpy as np"
   ]
  },
  {
   "cell_type": "code",
   "execution_count": 92,
   "id": "24979e81",
   "metadata": {},
   "outputs": [
    {
     "data": {
      "text/plain": [
       "array([5, 7, 9])"
      ]
     },
     "execution_count": 92,
     "metadata": {},
     "output_type": "execute_result"
    }
   ],
   "source": [
    "a_np = np.array(a)\n",
    "b_np = np.array(b)\n",
    "a_np + b_np"
   ]
  },
  {
   "cell_type": "code",
   "execution_count": 93,
   "id": "cde53e18",
   "metadata": {},
   "outputs": [
    {
     "data": {
      "text/plain": [
       "[1, 2, 3]"
      ]
     },
     "execution_count": 93,
     "metadata": {},
     "output_type": "execute_result"
    }
   ],
   "source": [
    "a"
   ]
  },
  {
   "cell_type": "code",
   "execution_count": 94,
   "id": "c10fbbc8",
   "metadata": {},
   "outputs": [
    {
     "data": {
      "text/plain": [
       "[1, 2, 3, 1, 2, 3, 1, 2, 3]"
      ]
     },
     "execution_count": 94,
     "metadata": {},
     "output_type": "execute_result"
    }
   ],
   "source": [
    "a * 3"
   ]
  },
  {
   "cell_type": "code",
   "execution_count": 95,
   "id": "c9217d03",
   "metadata": {},
   "outputs": [
    {
     "data": {
      "text/plain": [
       "3"
      ]
     },
     "execution_count": 95,
     "metadata": {},
     "output_type": "execute_result"
    }
   ],
   "source": [
    "len(a)"
   ]
  },
  {
   "cell_type": "code",
   "execution_count": 96,
   "id": "7cae9b76",
   "metadata": {},
   "outputs": [
    {
     "data": {
      "text/plain": [
       "[1, 10, 3]"
      ]
     },
     "execution_count": 96,
     "metadata": {},
     "output_type": "execute_result"
    }
   ],
   "source": [
    "a [1] = 10\n",
    "a"
   ]
  },
  {
   "cell_type": "code",
   "execution_count": 97,
   "id": "82e6e97e",
   "metadata": {},
   "outputs": [
    {
     "data": {
      "text/plain": [
       "[1, 10, 3, 4]"
      ]
     },
     "execution_count": 97,
     "metadata": {},
     "output_type": "execute_result"
    }
   ],
   "source": [
    "a.append(4)\n",
    "a"
   ]
  },
  {
   "cell_type": "code",
   "execution_count": 98,
   "id": "c65c162c",
   "metadata": {},
   "outputs": [
    {
     "data": {
      "text/plain": [
       "[1, 10, 100, 3, 4]"
      ]
     },
     "execution_count": 98,
     "metadata": {},
     "output_type": "execute_result"
    }
   ],
   "source": [
    "a.insert(2, 100)\n",
    "a"
   ]
  },
  {
   "cell_type": "code",
   "execution_count": 100,
   "id": "c201cab3",
   "metadata": {},
   "outputs": [
    {
     "data": {
      "text/plain": [
       "[10, 20, 30, 40]"
      ]
     },
     "execution_count": 100,
     "metadata": {},
     "output_type": "execute_result"
    }
   ],
   "source": [
    "a = [10,20,30,40]\n",
    "a"
   ]
  },
  {
   "cell_type": "code",
   "execution_count": 101,
   "id": "0264d292",
   "metadata": {},
   "outputs": [
    {
     "data": {
      "text/plain": [
       "[10, 30, 40]"
      ]
     },
     "execution_count": 101,
     "metadata": {},
     "output_type": "execute_result"
    }
   ],
   "source": [
    "del a[1]\n",
    "a"
   ]
  },
  {
   "cell_type": "code",
   "execution_count": 102,
   "id": "97d4e86c",
   "metadata": {},
   "outputs": [
    {
     "data": {
      "text/plain": [
       "[10, 20, 30, 40]"
      ]
     },
     "execution_count": 102,
     "metadata": {},
     "output_type": "execute_result"
    }
   ],
   "source": [
    "a = [10,20,30,40]\n",
    "a"
   ]
  },
  {
   "cell_type": "code",
   "execution_count": 103,
   "id": "47e395e6",
   "metadata": {},
   "outputs": [
    {
     "data": {
      "text/plain": [
       "[10, 40]"
      ]
     },
     "execution_count": 103,
     "metadata": {},
     "output_type": "execute_result"
    }
   ],
   "source": [
    "del a[1:3]\n",
    "a"
   ]
  },
  {
   "cell_type": "code",
   "execution_count": 107,
   "id": "2147b7cf",
   "metadata": {},
   "outputs": [
    {
     "data": {
      "text/plain": [
       "[10, 20, 30, 40]"
      ]
     },
     "execution_count": 107,
     "metadata": {},
     "output_type": "execute_result"
    }
   ],
   "source": [
    "a = [10,20,30,40]\n",
    "a"
   ]
  },
  {
   "cell_type": "code",
   "execution_count": 105,
   "id": "dc24ce04",
   "metadata": {},
   "outputs": [
    {
     "data": {
      "text/plain": [
       "[10, 30, 40]"
      ]
     },
     "execution_count": 105,
     "metadata": {},
     "output_type": "execute_result"
    }
   ],
   "source": [
    "a.remove(20)\n",
    "a"
   ]
  },
  {
   "cell_type": "code",
   "execution_count": 114,
   "id": "5569876f",
   "metadata": {},
   "outputs": [
    {
     "data": {
      "text/plain": [
       "[]"
      ]
     },
     "execution_count": 114,
     "metadata": {},
     "output_type": "execute_result"
    }
   ],
   "source": [
    "# 스택, Stack, 후입선출, LIFO (Bottom, top)\n",
    "a = []\n",
    "a"
   ]
  },
  {
   "cell_type": "code",
   "execution_count": 115,
   "id": "e16fe213",
   "metadata": {},
   "outputs": [
    {
     "data": {
      "text/plain": [
       "[10]"
      ]
     },
     "execution_count": 115,
     "metadata": {},
     "output_type": "execute_result"
    }
   ],
   "source": [
    "a.append(10)\n",
    "a"
   ]
  },
  {
   "cell_type": "code",
   "execution_count": 116,
   "id": "b20dec78",
   "metadata": {},
   "outputs": [
    {
     "data": {
      "text/plain": [
       "[10, 20]"
      ]
     },
     "execution_count": 116,
     "metadata": {},
     "output_type": "execute_result"
    }
   ],
   "source": [
    "a.append(20)\n",
    "a"
   ]
  },
  {
   "cell_type": "code",
   "execution_count": 117,
   "id": "c3ec2fc7",
   "metadata": {},
   "outputs": [
    {
     "data": {
      "text/plain": [
       "[10, 20, 30]"
      ]
     },
     "execution_count": 117,
     "metadata": {},
     "output_type": "execute_result"
    }
   ],
   "source": [
    "a.append(30)\n",
    "a"
   ]
  },
  {
   "cell_type": "code",
   "execution_count": 118,
   "id": "451555ce",
   "metadata": {},
   "outputs": [
    {
     "data": {
      "text/plain": [
       "[10, 20, 30, 40]"
      ]
     },
     "execution_count": 118,
     "metadata": {},
     "output_type": "execute_result"
    }
   ],
   "source": [
    "a.append(40)\n",
    "a"
   ]
  },
  {
   "cell_type": "code",
   "execution_count": 109,
   "id": "1c82a836",
   "metadata": {},
   "outputs": [
    {
     "data": {
      "text/plain": [
       "([10, 20, 30], 40)"
      ]
     },
     "execution_count": 109,
     "metadata": {},
     "output_type": "execute_result"
    }
   ],
   "source": [
    "b = a.pop()\n",
    "a,b"
   ]
  },
  {
   "cell_type": "code",
   "execution_count": 110,
   "id": "feb9a73d",
   "metadata": {},
   "outputs": [
    {
     "data": {
      "text/plain": [
       "([10, 20], 30)"
      ]
     },
     "execution_count": 110,
     "metadata": {},
     "output_type": "execute_result"
    }
   ],
   "source": [
    "b = a.pop()\n",
    "a,b"
   ]
  },
  {
   "cell_type": "code",
   "execution_count": 111,
   "id": "2e8470cd",
   "metadata": {},
   "outputs": [
    {
     "data": {
      "text/plain": [
       "[10, 20, 30, 40]"
      ]
     },
     "execution_count": 111,
     "metadata": {},
     "output_type": "execute_result"
    }
   ],
   "source": [
    "# 큐 Queue 선입선출, FIFO (front, rear)\n",
    "a = [10,20,30,40]\n",
    "a"
   ]
  },
  {
   "cell_type": "code",
   "execution_count": 112,
   "id": "5f07a87e",
   "metadata": {},
   "outputs": [
    {
     "data": {
      "text/plain": [
       "([20, 30, 40], 10)"
      ]
     },
     "execution_count": 112,
     "metadata": {},
     "output_type": "execute_result"
    }
   ],
   "source": [
    "b = a.pop(0)\n",
    "a,b"
   ]
  },
  {
   "cell_type": "code",
   "execution_count": 119,
   "id": "9e888fdd",
   "metadata": {},
   "outputs": [],
   "source": [
    "# 우선 순위 큐\n",
    "# 대리님(5순위), 이사님(2순위), 사장님(1순위), 과장님(4순위)"
   ]
  },
  {
   "cell_type": "code",
   "execution_count": 120,
   "id": "24625fe8",
   "metadata": {},
   "outputs": [],
   "source": [
    "a = [5, 2, 1, 4]"
   ]
  },
  {
   "cell_type": "code",
   "execution_count": 121,
   "id": "4180ce90",
   "metadata": {},
   "outputs": [],
   "source": [
    "from queue import PriorityQueue"
   ]
  },
  {
   "cell_type": "code",
   "execution_count": 128,
   "id": "4a7d6b91",
   "metadata": {},
   "outputs": [],
   "source": [
    "pq = PriorityQueue()\n",
    "count = 0"
   ]
  },
  {
   "cell_type": "code",
   "execution_count": 129,
   "id": "1a0d494a",
   "metadata": {},
   "outputs": [],
   "source": [
    "pq.put(5)\n",
    "count+=1\n",
    "pq.put(2)\n",
    "count+=1\n",
    "pq.put(1)\n",
    "count+=1\n",
    "pq.put(4)\n",
    "count+=1"
   ]
  },
  {
   "cell_type": "code",
   "execution_count": 130,
   "id": "0e61b122",
   "metadata": {},
   "outputs": [
    {
     "data": {
      "text/plain": [
       "(1, 3)"
      ]
     },
     "execution_count": 130,
     "metadata": {},
     "output_type": "execute_result"
    }
   ],
   "source": [
    "a = pq.get()\n",
    "count-=1\n",
    "a, count"
   ]
  },
  {
   "cell_type": "code",
   "execution_count": 131,
   "id": "e93e4046",
   "metadata": {},
   "outputs": [
    {
     "data": {
      "text/plain": [
       "(2, 2)"
      ]
     },
     "execution_count": 131,
     "metadata": {},
     "output_type": "execute_result"
    }
   ],
   "source": [
    "a = pq.get()\n",
    "count-=1\n",
    "a, count"
   ]
  },
  {
   "cell_type": "code",
   "execution_count": 132,
   "id": "a41b6998",
   "metadata": {},
   "outputs": [
    {
     "data": {
      "text/plain": [
       "(4, 1)"
      ]
     },
     "execution_count": 132,
     "metadata": {},
     "output_type": "execute_result"
    }
   ],
   "source": [
    "a = pq.get()\n",
    "count-=1\n",
    "a, count"
   ]
  },
  {
   "cell_type": "code",
   "execution_count": 133,
   "id": "a0cec06e",
   "metadata": {},
   "outputs": [
    {
     "data": {
      "text/plain": [
       "(5, 0)"
      ]
     },
     "execution_count": 133,
     "metadata": {},
     "output_type": "execute_result"
    }
   ],
   "source": [
    "a = pq.get()\n",
    "count-=1\n",
    "a, count"
   ]
  },
  {
   "cell_type": "code",
   "execution_count": 134,
   "id": "498574bd",
   "metadata": {},
   "outputs": [],
   "source": [
    "pq = PriorityQueue()\n",
    "count = 0"
   ]
  },
  {
   "cell_type": "code",
   "execution_count": 136,
   "id": "cf036178",
   "metadata": {},
   "outputs": [],
   "source": [
    "pq.put([5, \"대리님이 시킨 일\"])\n",
    "count+=1\n",
    "pq.put([2, \"이사님이 시킨 일\"])\n",
    "count+=1\n",
    "pq.put([1, \"사장님이 시킨 일\"])\n",
    "count+=1\n",
    "pq.put([4, \"과장님이 시킨 일\"])\n",
    "count+=1"
   ]
  },
  {
   "cell_type": "code",
   "execution_count": 137,
   "id": "f0ca3b70",
   "metadata": {},
   "outputs": [
    {
     "data": {
      "text/plain": [
       "([1, '사장님이 시킨 일'], 3)"
      ]
     },
     "execution_count": 137,
     "metadata": {},
     "output_type": "execute_result"
    }
   ],
   "source": [
    "a = pq.get()\n",
    "count-=1\n",
    "a, count"
   ]
  },
  {
   "cell_type": "code",
   "execution_count": 1,
   "id": "77571127",
   "metadata": {},
   "outputs": [],
   "source": [
    "# 딕셔너리"
   ]
  },
  {
   "cell_type": "code",
   "execution_count": 2,
   "id": "61f02dd1",
   "metadata": {},
   "outputs": [
    {
     "data": {
      "text/plain": [
       "{'apple': '사과', 'grape': '포도', 'banana': '바나나'}"
      ]
     },
     "execution_count": 2,
     "metadata": {},
     "output_type": "execute_result"
    }
   ],
   "source": [
    "# 리스트  a = [10, 20, 30]\n",
    "# 딕셔너리\n",
    "my_d = {\"apple\":\"사과\", \"grape\":\"포도\", \"banana\":\"바나나\"}\n",
    "# { 키(key) : value }\n",
    "\n",
    "my_d"
   ]
  },
  {
   "cell_type": "code",
   "execution_count": 3,
   "id": "b34df7be",
   "metadata": {},
   "outputs": [],
   "source": [
    "# 국 영 수 \n",
    "point_a = [80, 90, 95]\n",
    "point_b = [90, 80, 85]\n",
    "\n",
    "dic_point_a = {\"국어\":80, \"영어\":90, \"수학\":95}\n",
    "dic_point_b = {\"국어\":90, \"영어\":80, \"수학\":85}\n"
   ]
  },
  {
   "cell_type": "code",
   "execution_count": 6,
   "id": "00966ba2",
   "metadata": {},
   "outputs": [
    {
     "data": {
      "text/plain": [
       "92"
      ]
     },
     "execution_count": 6,
     "metadata": {},
     "output_type": "execute_result"
    }
   ],
   "source": [
    "point_a[1]= 92\n",
    "point_a[1]"
   ]
  },
  {
   "cell_type": "code",
   "execution_count": 7,
   "id": "995f9e67",
   "metadata": {},
   "outputs": [
    {
     "data": {
      "text/plain": [
       "92"
      ]
     },
     "execution_count": 7,
     "metadata": {},
     "output_type": "execute_result"
    }
   ],
   "source": [
    "dic_point_a[\"영어\"] = 92\n",
    "dic_point_a[\"영어\"]"
   ]
  },
  {
   "cell_type": "code",
   "execution_count": 9,
   "id": "9fa80cce",
   "metadata": {},
   "outputs": [
    {
     "data": {
      "text/plain": [
       "{'국어': 80, '영어': 92, '수학': 95, '사회': 70}"
      ]
     },
     "execution_count": 9,
     "metadata": {},
     "output_type": "execute_result"
    }
   ],
   "source": [
    "dic_point_a[\"사회\"] = 70\n",
    "dic_point_a"
   ]
  },
  {
   "cell_type": "code",
   "execution_count": 10,
   "id": "67cfc6b7",
   "metadata": {},
   "outputs": [
    {
     "name": "stdout",
     "output_type": "stream",
     "text": [
      "None\n"
     ]
    }
   ],
   "source": [
    "print(dic_point_a.get(\"음악\"))\n",
    "# dic_point_a[\"음악\"] 으로 하면 오류남"
   ]
  },
  {
   "cell_type": "code",
   "execution_count": 11,
   "id": "e6d9770b",
   "metadata": {},
   "outputs": [
    {
     "data": {
      "text/plain": [
       "['국어', '영어', '수학', '사회']"
      ]
     },
     "execution_count": 11,
     "metadata": {},
     "output_type": "execute_result"
    }
   ],
   "source": [
    "list(dic_point_a.keys())"
   ]
  },
  {
   "cell_type": "code",
   "execution_count": 12,
   "id": "5682ad65",
   "metadata": {},
   "outputs": [
    {
     "data": {
      "text/plain": [
       "[80, 92, 95, 70]"
      ]
     },
     "execution_count": 12,
     "metadata": {},
     "output_type": "execute_result"
    }
   ],
   "source": [
    "list(dic_point_a.values())"
   ]
  },
  {
   "cell_type": "code",
   "execution_count": 14,
   "id": "3fe4fba6",
   "metadata": {},
   "outputs": [
    {
     "data": {
      "text/plain": [
       "[('국어', 80), ('영어', 92), ('수학', 95), ('사회', 70)]"
      ]
     },
     "execution_count": 14,
     "metadata": {},
     "output_type": "execute_result"
    }
   ],
   "source": [
    "a = list(dic_point_a.items())\n",
    "a"
   ]
  },
  {
   "cell_type": "code",
   "execution_count": 15,
   "id": "f93fb822",
   "metadata": {},
   "outputs": [
    {
     "data": {
      "text/plain": [
       "('국어', 80)"
      ]
     },
     "execution_count": 15,
     "metadata": {},
     "output_type": "execute_result"
    }
   ],
   "source": [
    "a[0]"
   ]
  },
  {
   "cell_type": "code",
   "execution_count": 17,
   "id": "d1d5cb91",
   "metadata": {},
   "outputs": [
    {
     "data": {
      "text/plain": [
       "'국어'"
      ]
     },
     "execution_count": 17,
     "metadata": {},
     "output_type": "execute_result"
    }
   ],
   "source": [
    "a[0][0]"
   ]
  },
  {
   "cell_type": "code",
   "execution_count": 18,
   "id": "fd5c909c",
   "metadata": {},
   "outputs": [
    {
     "data": {
      "text/plain": [
       "False"
      ]
     },
     "execution_count": 18,
     "metadata": {},
     "output_type": "execute_result"
    }
   ],
   "source": [
    "\"음악\" in dic_point_a"
   ]
  },
  {
   "cell_type": "code",
   "execution_count": 20,
   "id": "47629773",
   "metadata": {},
   "outputs": [
    {
     "data": {
      "text/plain": [
       "True"
      ]
     },
     "execution_count": 20,
     "metadata": {},
     "output_type": "execute_result"
    }
   ],
   "source": [
    "\"사회\" in dic_point_a"
   ]
  },
  {
   "cell_type": "code",
   "execution_count": 21,
   "id": "c5c3d30b",
   "metadata": {},
   "outputs": [
    {
     "data": {
      "text/plain": [
       "[1, 2, 3]"
      ]
     },
     "execution_count": 21,
     "metadata": {},
     "output_type": "execute_result"
    }
   ],
   "source": [
    "a = [1,2,3]\n",
    "a"
   ]
  },
  {
   "cell_type": "code",
   "execution_count": 22,
   "id": "85bbff70",
   "metadata": {},
   "outputs": [
    {
     "data": {
      "text/plain": [
       "[1, 2, 3]"
      ]
     },
     "execution_count": 22,
     "metadata": {},
     "output_type": "execute_result"
    }
   ],
   "source": [
    "C"
   ]
  },
  {
   "cell_type": "code",
   "execution_count": 23,
   "id": "35f2c517",
   "metadata": {},
   "outputs": [
    {
     "data": {
      "text/plain": [
       "[1, 20, 3]"
      ]
     },
     "execution_count": 23,
     "metadata": {},
     "output_type": "execute_result"
    }
   ],
   "source": [
    "b[1] = 20\n",
    "b"
   ]
  },
  {
   "cell_type": "code",
   "execution_count": 24,
   "id": "f0326caf",
   "metadata": {},
   "outputs": [
    {
     "data": {
      "text/plain": [
       "[1, 20, 3]"
      ]
     },
     "execution_count": 24,
     "metadata": {},
     "output_type": "execute_result"
    }
   ],
   "source": [
    "a"
   ]
  },
  {
   "cell_type": "code",
   "execution_count": 25,
   "id": "a55a23b2",
   "metadata": {},
   "outputs": [
    {
     "data": {
      "text/plain": [
       "[1, 2, 3]"
      ]
     },
     "execution_count": 25,
     "metadata": {},
     "output_type": "execute_result"
    }
   ],
   "source": [
    "a = [1,2,3]\n",
    "a"
   ]
  },
  {
   "cell_type": "code",
   "execution_count": 26,
   "id": "08e34ebc",
   "metadata": {},
   "outputs": [
    {
     "data": {
      "text/plain": [
       "[1, 2, 3]"
      ]
     },
     "execution_count": 26,
     "metadata": {},
     "output_type": "execute_result"
    }
   ],
   "source": [
    "b = a[:]\n",
    "b"
   ]
  },
  {
   "cell_type": "code",
   "execution_count": 27,
   "id": "ae040b5b",
   "metadata": {},
   "outputs": [],
   "source": [
    "b[1] = 20"
   ]
  },
  {
   "cell_type": "code",
   "execution_count": 28,
   "id": "c30cc432",
   "metadata": {},
   "outputs": [
    {
     "data": {
      "text/plain": [
       "[1, 20, 3]"
      ]
     },
     "execution_count": 28,
     "metadata": {},
     "output_type": "execute_result"
    }
   ],
   "source": [
    "b"
   ]
  },
  {
   "cell_type": "code",
   "execution_count": 29,
   "id": "acc59d4f",
   "metadata": {},
   "outputs": [
    {
     "data": {
      "text/plain": [
       "[1, 2, 3]"
      ]
     },
     "execution_count": 29,
     "metadata": {},
     "output_type": "execute_result"
    }
   ],
   "source": [
    "a"
   ]
  },
  {
   "cell_type": "code",
   "execution_count": 30,
   "id": "38385b73",
   "metadata": {},
   "outputs": [
    {
     "data": {
      "text/plain": [
       "[1, 2, 3]"
      ]
     },
     "execution_count": 30,
     "metadata": {},
     "output_type": "execute_result"
    }
   ],
   "source": [
    "a = [1,2,3]\n",
    "a"
   ]
  },
  {
   "cell_type": "code",
   "execution_count": 31,
   "id": "1565604e",
   "metadata": {},
   "outputs": [],
   "source": [
    "from copy import copy\n",
    "b = copy(a)"
   ]
  },
  {
   "cell_type": "code",
   "execution_count": 32,
   "id": "c6a362b6",
   "metadata": {},
   "outputs": [
    {
     "data": {
      "text/plain": [
       "[1, 20, 3]"
      ]
     },
     "execution_count": 32,
     "metadata": {},
     "output_type": "execute_result"
    }
   ],
   "source": [
    "b[1] = 20\n",
    "b"
   ]
  },
  {
   "cell_type": "code",
   "execution_count": 33,
   "id": "639b6a6e",
   "metadata": {},
   "outputs": [
    {
     "data": {
      "text/plain": [
       "[1, 2, 3]"
      ]
     },
     "execution_count": 33,
     "metadata": {},
     "output_type": "execute_result"
    }
   ],
   "source": [
    "a"
   ]
  },
  {
   "cell_type": "code",
   "execution_count": 34,
   "id": "c009003f",
   "metadata": {},
   "outputs": [],
   "source": [
    "a = [ [1,2], [3,4] ]\n",
    "b = copy(a)"
   ]
  },
  {
   "cell_type": "code",
   "execution_count": 35,
   "id": "29811092",
   "metadata": {},
   "outputs": [
    {
     "data": {
      "text/plain": [
       "[[1, 2], [3, 4]]"
      ]
     },
     "execution_count": 35,
     "metadata": {},
     "output_type": "execute_result"
    }
   ],
   "source": [
    "b"
   ]
  },
  {
   "cell_type": "code",
   "execution_count": 36,
   "id": "f3f1636f",
   "metadata": {},
   "outputs": [
    {
     "data": {
      "text/plain": [
       "[[10, 2], [3, 4]]"
      ]
     },
     "execution_count": 36,
     "metadata": {},
     "output_type": "execute_result"
    }
   ],
   "source": [
    "b[0][0] = 10\n",
    "b"
   ]
  },
  {
   "cell_type": "code",
   "execution_count": 37,
   "id": "60d6461b",
   "metadata": {},
   "outputs": [
    {
     "data": {
      "text/plain": [
       "[[10, 2], [3, 4]]"
      ]
     },
     "execution_count": 37,
     "metadata": {},
     "output_type": "execute_result"
    }
   ],
   "source": [
    "a"
   ]
  },
  {
   "cell_type": "code",
   "execution_count": 38,
   "id": "1888fa18",
   "metadata": {},
   "outputs": [],
   "source": [
    "import copy\n",
    "a = [ [1,2], [3,4] ]\n",
    "b = copy.deepcopy(a)"
   ]
  },
  {
   "cell_type": "code",
   "execution_count": 39,
   "id": "e2ec4233",
   "metadata": {},
   "outputs": [
    {
     "data": {
      "text/plain": [
       "[[1, 2], [3, 4]]"
      ]
     },
     "execution_count": 39,
     "metadata": {},
     "output_type": "execute_result"
    }
   ],
   "source": [
    "b"
   ]
  },
  {
   "cell_type": "code",
   "execution_count": 40,
   "id": "86411dee",
   "metadata": {},
   "outputs": [
    {
     "data": {
      "text/plain": [
       "[[10, 2], [3, 4]]"
      ]
     },
     "execution_count": 40,
     "metadata": {},
     "output_type": "execute_result"
    }
   ],
   "source": [
    "b[0][0] = 10\n",
    "b"
   ]
  },
  {
   "cell_type": "code",
   "execution_count": 41,
   "id": "5272fc0d",
   "metadata": {},
   "outputs": [
    {
     "data": {
      "text/plain": [
       "[[1, 2], [3, 4]]"
      ]
     },
     "execution_count": 41,
     "metadata": {},
     "output_type": "execute_result"
    }
   ],
   "source": [
    "a"
   ]
  },
  {
   "cell_type": "code",
   "execution_count": 43,
   "id": "457e7f47",
   "metadata": {},
   "outputs": [
    {
     "name": "stdout",
     "output_type": "stream",
     "text": [
      "안녕하세요\n"
     ]
    }
   ],
   "source": [
    "print(\"안녕\", end=\"\")\n",
    "print(\"하세요\")"
   ]
  },
  {
   "cell_type": "code",
   "execution_count": 45,
   "id": "11d5d616",
   "metadata": {},
   "outputs": [
    {
     "name": "stdout",
     "output_type": "stream",
     "text": [
      "010 1234 5678\n",
      "010-1234-5678\n",
      "01012345678\n"
     ]
    }
   ],
   "source": [
    "국번 = \"1234\"\n",
    "개인번호 = \"5678\"\n",
    "print(\"010\", 국번, 개인번호)\n",
    "print(\"010\", 국번, 개인번호, sep=\"-\")\n",
    "print(\"010\", 국번, 개인번호, sep=\"\")"
   ]
  },
  {
   "cell_type": "code",
   "execution_count": 47,
   "id": "86cac282",
   "metadata": {},
   "outputs": [
    {
     "name": "stdout",
     "output_type": "stream",
     "text": [
      "정수 하나 입력하세요123\n",
      "123\n"
     ]
    }
   ],
   "source": [
    "a = input(\"정수 하나 입력하세요\")\n",
    "print(a)"
   ]
  },
  {
   "cell_type": "code",
   "execution_count": 49,
   "id": "d171f715",
   "metadata": {},
   "outputs": [
    {
     "name": "stdout",
     "output_type": "stream",
     "text": [
      "정수 하나 입력하세요22\n"
     ]
    },
    {
     "ename": "TypeError",
     "evalue": "can only concatenate str (not \"int\") to str",
     "output_type": "error",
     "traceback": [
      "\u001b[1;31m---------------------------------------------------------------------------\u001b[0m",
      "\u001b[1;31mTypeError\u001b[0m                                 Traceback (most recent call last)",
      "Input \u001b[1;32mIn [49]\u001b[0m, in \u001b[0;36m<cell line: 2>\u001b[1;34m()\u001b[0m\n\u001b[0;32m      1\u001b[0m a \u001b[38;5;241m=\u001b[39m \u001b[38;5;28minput\u001b[39m(\u001b[38;5;124m\"\u001b[39m\u001b[38;5;124m정수 하나 입력하세요\u001b[39m\u001b[38;5;124m\"\u001b[39m)\n\u001b[1;32m----> 2\u001b[0m a \u001b[38;5;241m+\u001b[39m\u001b[38;5;241m=\u001b[39m \u001b[38;5;241m1\u001b[39m\n\u001b[0;32m      3\u001b[0m \u001b[38;5;28mprint\u001b[39m(a)\n",
      "\u001b[1;31mTypeError\u001b[0m: can only concatenate str (not \"int\") to str"
     ]
    }
   ],
   "source": [
    "a = input(\"정수 하나 입력하세요\")\n",
    "a += 1\n",
    "print(a)\n"
   ]
  },
  {
   "cell_type": "code",
   "execution_count": 50,
   "id": "37f38a2c",
   "metadata": {},
   "outputs": [
    {
     "data": {
      "text/plain": [
       "str"
      ]
     },
     "execution_count": 50,
     "metadata": {},
     "output_type": "execute_result"
    }
   ],
   "source": [
    "type(a)"
   ]
  },
  {
   "cell_type": "code",
   "execution_count": 51,
   "id": "d25c5b0c",
   "metadata": {},
   "outputs": [
    {
     "name": "stdout",
     "output_type": "stream",
     "text": [
      "정수 하나 입력하세요123\n",
      "124\n"
     ]
    }
   ],
   "source": [
    "a = input(\"정수 하나 입력하세요\")\n",
    "a = int(a)\n",
    "a += 1\n",
    "print(a)"
   ]
  },
  {
   "cell_type": "code",
   "execution_count": 53,
   "id": "cd8e568c",
   "metadata": {},
   "outputs": [
    {
     "name": "stdout",
     "output_type": "stream",
     "text": [
      "문자열 두 개 입력하세요안녕 하세요\n",
      "안녕 하세요\n"
     ]
    }
   ],
   "source": [
    "str1, str2 = input(\"문자열 두 개 입력하세요\").split()\n",
    "print(str1, str2)"
   ]
  },
  {
   "cell_type": "code",
   "execution_count": 54,
   "id": "3c9dceda",
   "metadata": {},
   "outputs": [
    {
     "name": "stdout",
     "output_type": "stream",
     "text": [
      "정수 두 개 입력하세요1 2\n",
      "1 2\n"
     ]
    }
   ],
   "source": [
    "str1, str2 = input(\"정수 두 개 입력하세요\").split()\n",
    "print(str1, str2)"
   ]
  },
  {
   "cell_type": "code",
   "execution_count": 55,
   "id": "8ef3897f",
   "metadata": {},
   "outputs": [
    {
     "name": "stdout",
     "output_type": "stream",
     "text": [
      "정수 두 개 입력하세요1 2\n",
      "1 2\n"
     ]
    }
   ],
   "source": [
    "str1, str2 = input(\"정수 두 개 입력하세요\").split()\n",
    "num1 = int(str1)\n",
    "num2 = int(str2)\n",
    "print(num1, num2)"
   ]
  },
  {
   "cell_type": "code",
   "execution_count": 56,
   "id": "c865334a",
   "metadata": {},
   "outputs": [],
   "source": [
    "# 제어문 - 조건문(if 종류), 반복분(for, while)"
   ]
  },
  {
   "cell_type": "code",
   "execution_count": 57,
   "id": "d7767fb2",
   "metadata": {},
   "outputs": [
    {
     "name": "stdout",
     "output_type": "stream",
     "text": [
      "비싸요\n"
     ]
    }
   ],
   "source": [
    "money = 1000\n",
    "\n",
    "if money > 500:\n",
    "    print(\"비싸요\")\n",
    "else:\n",
    "    print(\"싸네요\")"
   ]
  },
  {
   "cell_type": "code",
   "execution_count": 60,
   "id": "ef8a34cc",
   "metadata": {},
   "outputs": [
    {
     "name": "stdout",
     "output_type": "stream",
     "text": [
      "그럭저럭\n"
     ]
    }
   ],
   "source": [
    "if money>1000:\n",
    "    print(\"비싸요\")\n",
    "elif money<=1000 and money > 500:\n",
    "    print(\"그럭저럭\")\n",
    "else:\n",
    "    print(\"싸네요\")"
   ]
  },
  {
   "cell_type": "code",
   "execution_count": 61,
   "id": "fabfbcfb",
   "metadata": {},
   "outputs": [
    {
     "name": "stdout",
     "output_type": "stream",
     "text": [
      "5/4/3/2/1/"
     ]
    }
   ],
   "source": [
    "i = 5\n",
    "while i> 0:\n",
    "    print(i , end=\"/\")\n",
    "    i-=1"
   ]
  },
  {
   "cell_type": "code",
   "execution_count": 63,
   "id": "45b5359f",
   "metadata": {},
   "outputs": [
    {
     "name": "stdout",
     "output_type": "stream",
     "text": [
      "0/1/2/3/4/"
     ]
    }
   ],
   "source": [
    "for i in range(5):\n",
    "    print(i, end=\"/\")"
   ]
  },
  {
   "cell_type": "code",
   "execution_count": 64,
   "id": "326687fe",
   "metadata": {},
   "outputs": [
    {
     "name": "stdout",
     "output_type": "stream",
     "text": [
      "2/3/4/"
     ]
    }
   ],
   "source": [
    "for i in range(2,5):\n",
    "    print(i, end=\"/\")"
   ]
  },
  {
   "cell_type": "code",
   "execution_count": 65,
   "id": "fedb6ecf",
   "metadata": {},
   "outputs": [
    {
     "name": "stdout",
     "output_type": "stream",
     "text": [
      "2/4/6/8/"
     ]
    }
   ],
   "source": [
    "for i in range(2, 10, 2):\n",
    "    print(i, end=\"/\")"
   ]
  },
  {
   "cell_type": "code",
   "execution_count": 75,
   "id": "96792097",
   "metadata": {},
   "outputs": [
    {
     "name": "stdout",
     "output_type": "stream",
     "text": [
      "시작정수:1\n",
      "종료정수:10\n",
      "Sum of 1 to 10 = 55\n"
     ]
    }
   ],
   "source": [
    "num1 = int(input(\"시작정수:\"))\n",
    "num2 = int(input(\"종료정수:\"))\n",
    "\n",
    "sum1 = 0\n",
    "for i in range(num1, num2+1):\n",
    "    sum1 += i\n",
    "#print(\"Sum of\", num1,\"to\", num2, \"=\", sum1)\n",
    "print(f\"Sum of {num1} to {num2} = {sum1}\")\n"
   ]
  },
  {
   "cell_type": "code",
   "execution_count": 76,
   "id": "6b9e3305",
   "metadata": {},
   "outputs": [],
   "source": [
    "import time"
   ]
  },
  {
   "cell_type": "code",
   "execution_count": 77,
   "id": "f10d5ba6",
   "metadata": {},
   "outputs": [
    {
     "name": "stdout",
     "output_type": "stream",
     "text": [
      "a\n",
      "b\n"
     ]
    }
   ],
   "source": [
    "print(\"a\")\n",
    "time.sleep(1)\n",
    "print(\"b\")"
   ]
  },
  {
   "cell_type": "code",
   "execution_count": 90,
   "id": "e46c7611",
   "metadata": {},
   "outputs": [
    {
     "name": "stdout",
     "output_type": "stream",
     "text": [
      "60 59 58 57 56 55 54 53 52 51 50 49 48 47 46 45 44 43 42 41 40 39 38 37 36 35 34 33 32 31 30 29 28 27 26 25 24 23 22 21 20 19 18 17 16 15 14 13 12 11 10 9 8 7 6 5 4 3 2 1 0\n",
      "\n",
      "발사!\n"
     ]
    }
   ],
   "source": [
    "num1 = 61\n",
    "for i in range (61):\n",
    "    num1 -= 1\n",
    "    if (num1 == 0):\n",
    "        print(\"0\\n\\n발사!\")\n",
    "    else:\n",
    "        print(num1, end=\" \")\n",
    "       \n",
    "    #time.sleep(1)"
   ]
  },
  {
   "cell_type": "code",
   "execution_count": 94,
   "id": "03a3900c",
   "metadata": {},
   "outputs": [
    {
     "name": "stdout",
     "output_type": "stream",
     "text": [
      "60 59 58 57 56 55 54 53 52 51 50 49 48 47 46 45 44 43 42 41 40 39 38 37 36 35 34 33 32 31 30 29 28 27 26 25 24 23 22 21 20 19 18 17 16 15 14 13 12 11 10 9 8 7 6 5 4 3 2 1 0 \n",
      "\n",
      "발사!\n"
     ]
    }
   ],
   "source": [
    "num1 = 60\n",
    "for i in range (61):\n",
    "    \n",
    "    print(num1, end=\" \")\n",
    "    num1 -= 1\n",
    "    \n",
    "    #time.sleep(1)\n",
    "\n",
    "print(\"\\n\\n발사!\")"
   ]
  },
  {
   "cell_type": "code",
   "execution_count": 96,
   "id": "8f4a3994",
   "metadata": {},
   "outputs": [
    {
     "name": "stdout",
     "output_type": "stream",
     "text": [
      "60 59 58 57 56 55 54 53 52 51 50 49 48 47 46 45 44 43 42 41 40 39 38 37 36 35 34 33 32 31 30 29 28 27 26 25 24 23 22 21 20 19 18 17 16 15 14 13 12 11 10 9 8 7 6 5 4 3 2 1 0 \n",
      "발사!\n"
     ]
    }
   ],
   "source": [
    "for i in range(60, -1, -1):\n",
    "    print(i, end=\" \")\n",
    "    #time.sleep(1)\n",
    "print()\n",
    "print(\"발사!\")"
   ]
  },
  {
   "cell_type": "code",
   "execution_count": null,
   "id": "06ad72d6",
   "metadata": {},
   "outputs": [],
   "source": []
  },
  {
   "cell_type": "code",
   "execution_count": 102,
   "id": "d3f163f4",
   "metadata": {},
   "outputs": [
    {
     "name": "stdout",
     "output_type": "stream",
     "text": [
      "1 2 3 4 5 6 7 8 9 \n",
      "2 4 6 8 10 12 14 16 18 \n",
      "3 6 9 12 15 18 21 24 27 \n",
      "4 8 12 16 20 24 28 32 36 \n",
      "5 10 15 20 25 30 35 40 45 \n",
      "6 12 18 24 30 36 42 48 54 \n",
      "7 14 21 28 35 42 49 56 63 \n",
      "8 16 24 32 40 48 56 64 72 \n",
      "9 18 27 36 45 54 63 72 81 \n"
     ]
    }
   ],
   "source": [
    "for i in range (1, 10):\n",
    "    for j in range (1,10):\n",
    "        print(i*j, end=\" \")\n",
    "    print()\n",
    "    "
   ]
  },
  {
   "cell_type": "code",
   "execution_count": 108,
   "id": "93011a3b",
   "metadata": {},
   "outputs": [
    {
     "name": "stdout",
     "output_type": "stream",
     "text": [
      "1******\n",
      "12*****\n",
      "123****\n",
      "1234***\n",
      "12345**\n",
      "123456*\n",
      "1234567\n"
     ]
    }
   ],
   "source": [
    "a = \"*\"\n",
    "for i in range(1,8):\n",
    "    for 숫자 in range(1,i+1):\n",
    "        print(숫자, end=\"\")\n",
    "    print(a * (7-i))"
   ]
  },
  {
   "cell_type": "code",
   "execution_count": 116,
   "id": "aa0ae8a0",
   "metadata": {},
   "outputs": [
    {
     "name": "stdout",
     "output_type": "stream",
     "text": [
      "양수 입력:1\n",
      "양수 입력:2\n",
      "양수 입력:3\n",
      "양수 입력:-1\n",
      "평균:2, 최소값:1, 최대값:3\n"
     ]
    }
   ],
   "source": [
    "num1 = int(input(\"양수 입력:\"))\n",
    "if num1 > 0:\n",
    "    max_num = num1\n",
    "    min_num = num1\n",
    "    sum_num = num1\n",
    "    cnt = 1\n",
    "\n",
    "    while True:\n",
    "        num1 = int(input(\"양수 입력:\"))\n",
    "        if num1 < 0:\n",
    "            break\n",
    "\n",
    "        if num1 > max_num:\n",
    "            max_num = num1\n",
    "\n",
    "        if num1 < min_num:\n",
    "            min_num = num1\n",
    "\n",
    "        sum_num += num1\n",
    "        cnt += 1\n",
    "\n",
    "    print(f\"평균:{sum_num//cnt}, 최소값:{min_num}, 최대값:{max_num}\")"
   ]
  },
  {
   "cell_type": "code",
   "execution_count": 121,
   "id": "169eb3e0",
   "metadata": {},
   "outputs": [
    {
     "name": "stdout",
     "output_type": "stream",
     "text": [
      "양수 입력:1\n",
      "양수 입력:2\n",
      "양수 입력:3\n",
      "양수 입력:-1\n",
      "평균:2, 최소값:1, 최대값:3\n"
     ]
    }
   ],
   "source": [
    "num1 = 0\n",
    "max_num = 0\n",
    "min_num = 0\n",
    "a = []\n",
    "sum_num = 0\n",
    "\n",
    "while True:\n",
    "    num1 = int(input(\"양수 입력:\"))\n",
    "    if num1 < 0:\n",
    "        break\n",
    "    else:\n",
    "        a.append(num1)\n",
    "        \n",
    "    if num1 > max_num:\n",
    "        max_num = num1\n",
    "        \n",
    "    if min_num == 0:\n",
    "        min_num = num1\n",
    "    elif num1 < min_num:\n",
    "        min_num = num1\n",
    "    \n",
    "for i in range(len(a)):\n",
    "    sum_num += a[i]\n",
    "    \n",
    "avg = sum_num // len(a)\n",
    "    \n",
    "print(f\"평균:{avg}, 최소값:{min_num}, 최대값:{max_num}\")"
   ]
  },
  {
   "cell_type": "markdown",
   "id": "6b352377",
   "metadata": {},
   "source": []
  },
  {
   "cell_type": "code",
   "execution_count": 123,
   "id": "440d666a",
   "metadata": {},
   "outputs": [
    {
     "name": "stdout",
     "output_type": "stream",
     "text": [
      "양수 입력:1\n",
      "양수 입력:2\n",
      "양수 입력:3\n",
      "양수 입력:-1\n",
      "평균:2, 최소값:1, 최대값:3\n"
     ]
    }
   ],
   "source": [
    "num1 = 0\n",
    "\n",
    "a = []\n",
    "sum_num = 0\n",
    "\n",
    "while True:\n",
    "    num1 = int(input(\"양수 입력:\"))\n",
    "    if num1 < 0:\n",
    "        break\n",
    "    else:\n",
    "        a.append(num1)\n",
    "\n",
    "max_num = a[0]\n",
    "min_num = a[0]       \n",
    "for num in a:\n",
    "    if num > max_num:\n",
    "        max_num = a[num]\n",
    "    if num < min_num:\n",
    "        min_num = a[num]\n",
    "    sum_num += num\n",
    "    \n",
    "avg = sum_num // len(a)\n",
    "    \n",
    "print(f\"평균:{avg}, 최소값:{min_num}, 최대값:{max_num}\")"
   ]
  },
  {
   "cell_type": "code",
   "execution_count": 124,
   "id": "3ce51663",
   "metadata": {},
   "outputs": [
    {
     "name": "stdout",
     "output_type": "stream",
     "text": [
      "104\n"
     ]
    }
   ],
   "source": [
    "count = 0\n",
    "for a in range(1, 101):\n",
    "    for b in range(1, 101):\n",
    "        for c in range(1, 101):\n",
    "            if a*a + b*b == c*c:\n",
    "                count +=1\n",
    "print(count)"
   ]
  },
  {
   "cell_type": "code",
   "execution_count": 2,
   "id": "d60d810a",
   "metadata": {},
   "outputs": [
    {
     "name": "stdout",
     "output_type": "stream",
     "text": [
      "720 개\n"
     ]
    }
   ],
   "source": [
    "cnt = 0\n",
    "for i in range (1, 1000):\n",
    "    a = i//100\n",
    "    b = (i%100)//10\n",
    "    c = i%10\n",
    "    if (a == b):\n",
    "        continue\n",
    "    elif (b == c):\n",
    "        continue\n",
    "    elif (c == a):\n",
    "        continue\n",
    "    else:\n",
    "        #print(a,b,c)\n",
    "        cnt += 1\n",
    "print(cnt, \"개\")"
   ]
  },
  {
   "cell_type": "code",
   "execution_count": 3,
   "id": "44109325",
   "metadata": {},
   "outputs": [],
   "source": [
    "#함수"
   ]
  },
  {
   "cell_type": "code",
   "execution_count": 4,
   "id": "cbd97e2f",
   "metadata": {},
   "outputs": [],
   "source": [
    "def add2(a,b):\n",
    "    return a + b"
   ]
  },
  {
   "cell_type": "code",
   "execution_count": 5,
   "id": "ac42e503",
   "metadata": {},
   "outputs": [],
   "source": [
    "def func1():\n",
    "    print(\"\")"
   ]
  },
  {
   "cell_type": "code",
   "execution_count": 6,
   "id": "7fb0f588",
   "metadata": {},
   "outputs": [
    {
     "name": "stdout",
     "output_type": "stream",
     "text": [
      "3\n"
     ]
    }
   ],
   "source": [
    "def add2(a,b):\n",
    "    print(a+ b)\n",
    "add2(1,2)"
   ]
  },
  {
   "cell_type": "code",
   "execution_count": 8,
   "id": "454fb574",
   "metadata": {},
   "outputs": [
    {
     "name": "stdout",
     "output_type": "stream",
     "text": [
      "정수 하나 입력:1\n",
      "정수 하나 입력:2\n",
      "3\n"
     ]
    }
   ],
   "source": [
    "def add2():\n",
    "    a= int(input(\"정수 하나 입력:\"))\n",
    "    b = int(input(\"정수 하나 입력:\"))\n",
    "    return a + b\n",
    "c = add2()\n",
    "print(c)"
   ]
  },
  {
   "cell_type": "code",
   "execution_count": 11,
   "id": "780fdb41",
   "metadata": {},
   "outputs": [
    {
     "name": "stdout",
     "output_type": "stream",
     "text": [
      "10\n",
      "21\n"
     ]
    }
   ],
   "source": [
    "def add_many(*data):    # * 은 몇 개인지 모를때 \n",
    "    sum_val = 0\n",
    "    for item in data:\n",
    "        sum_val += item\n",
    "    return sum_val\n",
    "res = add_many(1, 2, 3, 4)\n",
    "print(res)\n",
    "res = add_many(1, 2, 3, 4, 5, 6)\n",
    "print(res)"
   ]
  },
  {
   "cell_type": "code",
   "execution_count": 15,
   "id": "80c48fc8",
   "metadata": {},
   "outputs": [
    {
     "name": "stdout",
     "output_type": "stream",
     "text": [
      "3\n",
      "8\n",
      "None\n"
     ]
    }
   ],
   "source": [
    "def cal_many(mode, *data):    # * 은 몇 개인지 모를때 \n",
    "    if mode == \"add\":\n",
    "        sum_val = 0\n",
    "        for item in data:\n",
    "            sum_val += item\n",
    "        return sum_val\n",
    "    elif mode == \"mul\":\n",
    "        mul_val = 1\n",
    "        for item in data:\n",
    "            mul_val *= item\n",
    "        return mul_val\n",
    "    \n",
    "    \n",
    "res = cal_many(\"add\", 1, 2)\n",
    "print(res)\n",
    "res = cal_many(\"mul\", 1, 2, 4)\n",
    "print(res)\n",
    "res = cal_many(\"sub\", 1, 2, 4)\n",
    "print(res)"
   ]
  },
  {
   "cell_type": "code",
   "execution_count": 18,
   "id": "bd012008",
   "metadata": {},
   "outputs": [
    {
     "name": "stdout",
     "output_type": "stream",
     "text": [
      "12 8 20 5.0\n"
     ]
    }
   ],
   "source": [
    "def sachick(a, b):\n",
    "    return a+b, a-b, a*b, a/b\n",
    "\n",
    "add_v, sub_v, mul_v, div_v = sachick(10,2)\n",
    "print(add_v, sub_v, mul_v, div_v )"
   ]
  },
  {
   "cell_type": "code",
   "execution_count": 19,
   "id": "ea8b6536",
   "metadata": {},
   "outputs": [
    {
     "data": {
      "text/plain": [
       "3"
      ]
     },
     "execution_count": 19,
     "metadata": {},
     "output_type": "execute_result"
    }
   ],
   "source": [
    "def add2(a, b=2):\n",
    "    return a + b\n",
    "\n",
    "add2(1)"
   ]
  },
  {
   "cell_type": "code",
   "execution_count": 20,
   "id": "87ceb678",
   "metadata": {},
   "outputs": [
    {
     "data": {
      "text/plain": [
       "3"
      ]
     },
     "execution_count": 20,
     "metadata": {},
     "output_type": "execute_result"
    }
   ],
   "source": [
    "def add2(a=1, b=2):\n",
    "    return a + b\n",
    "\n",
    "add2()"
   ]
  },
  {
   "cell_type": "code",
   "execution_count": 23,
   "id": "5bd13016",
   "metadata": {},
   "outputs": [
    {
     "name": "stdout",
     "output_type": "stream",
     "text": [
      "a in test 2\n",
      "a global 2\n"
     ]
    }
   ],
   "source": [
    "a = 1\n",
    "def test():\n",
    "    global a\n",
    "    a = a +1\n",
    "    print(\"a in test\", a)\n",
    "    \n",
    "test()\n",
    "print(\"a global\", a)"
   ]
  },
  {
   "cell_type": "code",
   "execution_count": 24,
   "id": "c909f777",
   "metadata": {},
   "outputs": [
    {
     "name": "stdout",
     "output_type": "stream",
     "text": [
      "3\n"
     ]
    }
   ],
   "source": [
    "\n",
    "def add(a,b):\n",
    "    return a+b\n",
    "print(add2(1,2))\n"
   ]
  },
  {
   "cell_type": "code",
   "execution_count": 27,
   "id": "91b71de6",
   "metadata": {},
   "outputs": [
    {
     "name": "stdout",
     "output_type": "stream",
     "text": [
      "3\n"
     ]
    }
   ],
   "source": [
    "# lamda\n",
    "\n",
    "add2_lambda = lambda a, b: a+b\n",
    "print(add2_lambda(1,2))"
   ]
  },
  {
   "cell_type": "code",
   "execution_count": 29,
   "id": "f947366c",
   "metadata": {},
   "outputs": [
    {
     "name": "stdout",
     "output_type": "stream",
     "text": [
      "3\n"
     ]
    }
   ],
   "source": [
    "print((lambda a,b: a+b)(1,2))"
   ]
  },
  {
   "cell_type": "code",
   "execution_count": 30,
   "id": "0e3590a9",
   "metadata": {},
   "outputs": [
    {
     "name": "stdout",
     "output_type": "stream",
     "text": [
      "정수 두개 입력:1 2\n"
     ]
    }
   ],
   "source": [
    "a, b = input(\"정수 두개 입력:\").split()\n",
    "a = int(a)\n",
    "b = int(b)"
   ]
  },
  {
   "cell_type": "code",
   "execution_count": 31,
   "id": "9380ee4f",
   "metadata": {},
   "outputs": [
    {
     "name": "stdout",
     "output_type": "stream",
     "text": [
      "정수 두개 입력:1 2\n"
     ]
    },
    {
     "data": {
      "text/plain": [
       "3"
      ]
     },
     "execution_count": 31,
     "metadata": {},
     "output_type": "execute_result"
    }
   ],
   "source": [
    "a, b = map(int, input(\"정수 두개 입력:\").split())\n",
    "a+b"
   ]
  },
  {
   "cell_type": "code",
   "execution_count": 36,
   "id": "d572a665",
   "metadata": {},
   "outputs": [],
   "source": [
    "def my_square(x):\n",
    "    return x**2"
   ]
  },
  {
   "cell_type": "code",
   "execution_count": 37,
   "id": "54bde9b3",
   "metadata": {},
   "outputs": [
    {
     "data": {
      "text/plain": [
       "[0, 1, 4, 9, 16]"
      ]
     },
     "execution_count": 37,
     "metadata": {},
     "output_type": "execute_result"
    }
   ],
   "source": [
    "list(map(my_square, range(5) ))"
   ]
  },
  {
   "cell_type": "code",
   "execution_count": 35,
   "id": "9a02719a",
   "metadata": {},
   "outputs": [
    {
     "data": {
      "text/plain": [
       "[0, 1, 4, 9, 16]"
      ]
     },
     "execution_count": 35,
     "metadata": {},
     "output_type": "execute_result"
    }
   ],
   "source": [
    "list(map( lambda x: x**2, range(5)))"
   ]
  },
  {
   "cell_type": "code",
   "execution_count": 41,
   "id": "4bdcc54d",
   "metadata": {},
   "outputs": [
    {
     "data": {
      "text/plain": [
       "10"
      ]
     },
     "execution_count": 41,
     "metadata": {},
     "output_type": "execute_result"
    }
   ],
   "source": [
    "from functools import reduce\n",
    "reduce( lambda x,y: x+y, range(5))          # reduce : 누적해서 값 계산\n"
   ]
  },
  {
   "cell_type": "code",
   "execution_count": 42,
   "id": "6a80ec72",
   "metadata": {},
   "outputs": [
    {
     "data": {
      "text/plain": [
       "[0, 1, 2, 3, 4]"
      ]
     },
     "execution_count": 42,
     "metadata": {},
     "output_type": "execute_result"
    }
   ],
   "source": [
    "list(filter (lambda x: x < 5, range(10)))    # filter: x<5가 true이면 값 출력\n"
   ]
  },
  {
   "cell_type": "code",
   "execution_count": 43,
   "id": "19ef3d57",
   "metadata": {},
   "outputs": [
    {
     "data": {
      "text/plain": [
       "[1, 3, 5, 7, 9]"
      ]
     },
     "execution_count": 43,
     "metadata": {},
     "output_type": "execute_result"
    }
   ],
   "source": [
    "list(filter (lambda x: x % 2, range(10)))"
   ]
  },
  {
   "cell_type": "code",
   "execution_count": 44,
   "id": "d7ee9803",
   "metadata": {},
   "outputs": [
    {
     "data": {
      "text/plain": [
       "[150, 170, 180, 175, 145]"
      ]
     },
     "execution_count": 44,
     "metadata": {},
     "output_type": "execute_result"
    }
   ],
   "source": [
    "new_pic=[]\n",
    "for pixel in [100,120,130,125,95]:\n",
    "    new_pic.append(pixel+50)\n",
    "new_pic"
   ]
  },
  {
   "cell_type": "code",
   "execution_count": 46,
   "id": "3978cab8",
   "metadata": {},
   "outputs": [],
   "source": [
    "pic_now = new_pic"
   ]
  },
  {
   "cell_type": "code",
   "execution_count": 47,
   "id": "b54d610a",
   "metadata": {},
   "outputs": [
    {
     "data": {
      "text/plain": [
       "[200, 220, 230, 225, 195]"
      ]
     },
     "execution_count": 47,
     "metadata": {},
     "output_type": "execute_result"
    }
   ],
   "source": [
    "list(map( lambda x: x + 50 , pic_now))"
   ]
  },
  {
   "cell_type": "code",
   "execution_count": 48,
   "id": "b94fde66",
   "metadata": {},
   "outputs": [],
   "source": [
    "f = open(\"my_file_1.txt\", \"w\")\n",
    "f.write(\"안녕, 처음으로 파이썬 파일 출력을 해봐\")\n",
    "f.close()"
   ]
  },
  {
   "cell_type": "code",
   "execution_count": 49,
   "id": "5067a88c",
   "metadata": {},
   "outputs": [],
   "source": [
    "with open(\"my_file_2.txt\", \"w\") as f:\n",
    "    f.write(\"ㅋㅋㅋㅋㅋㅋ\")\n",
    "\n",
    "# 이 구문에서는 close 안함"
   ]
  },
  {
   "cell_type": "code",
   "execution_count": 50,
   "id": "bde8a5f4",
   "metadata": {},
   "outputs": [],
   "source": [
    "with open(\"my_file_2.txt\", \"a\") as f:\n",
    "    f.write(\"with 구문\")"
   ]
  },
  {
   "cell_type": "code",
   "execution_count": 51,
   "id": "e138bda7",
   "metadata": {},
   "outputs": [
    {
     "name": "stdout",
     "output_type": "stream",
     "text": [
      "jjjj\n",
      "\n"
     ]
    }
   ],
   "source": [
    "f = open(\"my_file_3.txt\", \"r\")\n",
    "read_line = f.readline()\n",
    "f.close()\n",
    "print(read_line)"
   ]
  },
  {
   "cell_type": "code",
   "execution_count": 61,
   "id": "30cb63ad",
   "metadata": {},
   "outputs": [
    {
     "data": {
      "text/plain": [
       "['jjjj', 'kkk', 'iiii']"
      ]
     },
     "execution_count": 61,
     "metadata": {},
     "output_type": "execute_result"
    }
   ],
   "source": [
    "f = open(\"my_file_3.txt\", \"r\")\n",
    "contents = []\n",
    "while True:\n",
    "    read_line = f.readline()\n",
    "    if not read_line:\n",
    "        break\n",
    "    read_line = read_line.strip(\"\\n\")\n",
    "    contents.append(read_line)\n",
    "    \n",
    "f.close()\n",
    "\n",
    "contents"
   ]
  },
  {
   "cell_type": "code",
   "execution_count": 64,
   "id": "186940c0",
   "metadata": {},
   "outputs": [
    {
     "data": {
      "text/plain": [
       "'jjjj\\nkkk\\niiii'"
      ]
     },
     "execution_count": 64,
     "metadata": {},
     "output_type": "execute_result"
    }
   ],
   "source": [
    "f = open(\"my_file_3.txt\", \"r\")\n",
    "data = f.read()\n",
    "f.close()\n",
    "data"
   ]
  },
  {
   "cell_type": "code",
   "execution_count": 67,
   "id": "e0350200",
   "metadata": {},
   "outputs": [],
   "source": [
    "import pickle\n",
    "my_item = {\"id\":\"kim\", \"sword\":5, \"shield\":4}\n",
    "f = open(\"item_status.dat\", \"wb\")          # 이진(binary) 형태로 write\n",
    "pickle.dump(my_item, f)\n",
    "f.close()"
   ]
  },
  {
   "cell_type": "code",
   "execution_count": 69,
   "id": "52d774d8",
   "metadata": {},
   "outputs": [
    {
     "data": {
      "text/plain": [
       "{'id': 'kim', 'sword': 5, 'shield': 4}"
      ]
     },
     "execution_count": 69,
     "metadata": {},
     "output_type": "execute_result"
    }
   ],
   "source": [
    "f = open(\"item_status.dat\", \"rb\")\n",
    "data = pickle.load(f)\n",
    "f.close()\n",
    "data"
   ]
  },
  {
   "cell_type": "code",
   "execution_count": 72,
   "id": "b6116e27",
   "metadata": {},
   "outputs": [],
   "source": [
    "# 클래스\n",
    "class MyClass1:\n",
    "    # 멤버 변수, 속성(attribute)\n",
    "    \n",
    "    # 멤버 함수, method\n",
    "    def func1(self):\n",
    "        pass\n",
    "    def func2(self):\n",
    "        pass\n",
    "    \n",
    "    def __init__(self):\n",
    "        self.a = 1\n",
    "        self.b = 2\n",
    "    "
   ]
  },
  {
   "cell_type": "code",
   "execution_count": 88,
   "id": "e7e0960e",
   "metadata": {},
   "outputs": [],
   "source": [
    "# 내용물: 크림 붕어빵, 계란 붕어빵, 초코 붕어빵, 야채붕어빵\n",
    "# 모양: 붕어, 잉어, 네모\n",
    "class 붕어빵:\n",
    "    반죽 = \"밀가루\"\n",
    "    def __init__(self, 내용물, 모양):\n",
    "        self.내용물 = 내용물\n",
    "        self.모양 = 모양\n",
    "        self.남은양 = 5\n",
    "    def 한입먹는다(self):\n",
    "        self.남은양-=1\n",
    "    def 현상황은(self):\n",
    "        print(f\"난 {self.모양} 붕어빵입니다. \\\n",
    "현재{self.남은양}만큼 남았습니다. 반죽재료는 {붕어빵.반죽}입니다.\")\n",
    "    "
   ]
  },
  {
   "cell_type": "code",
   "execution_count": 89,
   "id": "f4c7251f",
   "metadata": {},
   "outputs": [],
   "source": [
    "크림붕어빵 = 붕어빵(\"크림\", \"잉어\")"
   ]
  },
  {
   "cell_type": "code",
   "execution_count": 90,
   "id": "93337b02",
   "metadata": {},
   "outputs": [
    {
     "name": "stdout",
     "output_type": "stream",
     "text": [
      "난 잉어 붕어빵입니다. 현재5만큼 남았습니다. 반죽재료는 밀가루입니다.\n"
     ]
    }
   ],
   "source": [
    "크림붕어빵.현상황은()"
   ]
  },
  {
   "cell_type": "code",
   "execution_count": 91,
   "id": "35cae10b",
   "metadata": {},
   "outputs": [],
   "source": [
    "야채붕어빵 = 붕어빵(\"야채\", \"네모\")"
   ]
  },
  {
   "cell_type": "code",
   "execution_count": 92,
   "id": "1aca78fd",
   "metadata": {},
   "outputs": [
    {
     "name": "stdout",
     "output_type": "stream",
     "text": [
      "난 네모 붕어빵입니다. 현재5만큼 남았습니다. 반죽재료는 밀가루입니다.\n"
     ]
    }
   ],
   "source": [
    "야채붕어빵.현상황은()"
   ]
  },
  {
   "cell_type": "code",
   "execution_count": 93,
   "id": "d63e4248",
   "metadata": {},
   "outputs": [
    {
     "name": "stdout",
     "output_type": "stream",
     "text": [
      "난 네모 붕어빵입니다. 현재4만큼 남았습니다. 반죽재료는 밀가루입니다.\n"
     ]
    }
   ],
   "source": [
    "야채붕어빵.한입먹는다()\n",
    "야채붕어빵.현상황은()"
   ]
  },
  {
   "cell_type": "code",
   "execution_count": 94,
   "id": "d599cecf",
   "metadata": {},
   "outputs": [
    {
     "data": {
      "text/plain": [
       "'밀가루'"
      ]
     },
     "execution_count": 94,
     "metadata": {},
     "output_type": "execute_result"
    }
   ],
   "source": [
    "야채붕어빵.반죽"
   ]
  },
  {
   "cell_type": "code",
   "execution_count": 95,
   "id": "c1e1ced1",
   "metadata": {},
   "outputs": [
    {
     "data": {
      "text/plain": [
       "'밀가루'"
      ]
     },
     "execution_count": 95,
     "metadata": {},
     "output_type": "execute_result"
    }
   ],
   "source": [
    "크림붕어빵.반죽"
   ]
  },
  {
   "cell_type": "code",
   "execution_count": 96,
   "id": "a34589ac",
   "metadata": {},
   "outputs": [
    {
     "data": {
      "text/plain": [
       "'밀가루'"
      ]
     },
     "execution_count": 96,
     "metadata": {},
     "output_type": "execute_result"
    }
   ],
   "source": [
    "붕어빵.반죽"
   ]
  },
  {
   "cell_type": "code",
   "execution_count": 97,
   "id": "610b232b",
   "metadata": {},
   "outputs": [],
   "source": [
    "붕어빵.반죽 = \"쌀가루\""
   ]
  },
  {
   "cell_type": "code",
   "execution_count": 98,
   "id": "33148d62",
   "metadata": {},
   "outputs": [
    {
     "data": {
      "text/plain": [
       "'쌀가루'"
      ]
     },
     "execution_count": 98,
     "metadata": {},
     "output_type": "execute_result"
    }
   ],
   "source": [
    "크림붕어빵.반죽"
   ]
  },
  {
   "cell_type": "code",
   "execution_count": 99,
   "id": "b55368a9",
   "metadata": {},
   "outputs": [
    {
     "data": {
      "text/plain": [
       "'\\n자동차 클래스\\n\\n객체공통속성: 브랜드\\n객체별속성: 자동차모델명, 현재속도(-20-200)\\n객체별행동: speedup() 현재속도를 +10\\n            speeddown() 현재속도를 -10\\n   \\n3대 이상 자동차 생성\\n브랜드가 변경(M&A)\\n'"
      ]
     },
     "execution_count": 99,
     "metadata": {},
     "output_type": "execute_result"
    }
   ],
   "source": [
    "\"\"\"\n",
    "자동차 클래스\n",
    "\n",
    "객체공통속성: 브랜드\n",
    "객체별속성: 자동차모델명, 현재속도(-20-200)\n",
    "객체별행동: speedup() 현재속도를 +10\n",
    "            speeddown() 현재속도를 -10\n",
    "   \n",
    "3대 이상 자동차 생성\n",
    "브랜드가 변경(M&A)\n",
    "\n",
    "\n",
    "\n",
    "전기자동차 클래스\n",
    "\n",
    "배터리충전량 20~80\n",
    "bat_charge(): 10 up\n",
    "bat_charge(): 10 up\n",
    "bat_motoron(): 10 down\n",
    "speedup(), speeddown() 재정의(속도 -20~ 120)\n",
    "\n",
    "\n",
    "\"\"\""
   ]
  },
  {
   "cell_type": "code",
   "execution_count": 2,
   "id": "ef9f8cd8",
   "metadata": {},
   "outputs": [],
   "source": [
    "class 자동차:\n",
    "    브랜드 = \"a\"\n",
    "    def __init__(self, 모델명):\n",
    "        self.모델명 = 모델명\n",
    "        self.현재속도 = 0\n",
    "    \n",
    "    def speedup(self):\n",
    "        if self.현재속도<=190:\n",
    "            self.현재속도+=10\n",
    "            print(f\"현재속도는 {self.현재속도}입니다.\")\n",
    "        else:\n",
    "            print(f\"현재속도는 {self.현재속도}입니다. 200이상의 속도는 x\")\n",
    "    \n",
    "    def speeddown(self):\n",
    "        if self.현재속도>= -10:\n",
    "            self.현재속도-=10\n",
    "            print(f\"현재속도는 {self.현재속도}입니다.\")\n",
    "        else:\n",
    "            print(f\"현재속도는 {self.현재속도}입니다. -20이하의 속도는 x\")\n",
    "    def breakk(self):\n",
    "        self.현재속도 = 0\n",
    "        print(f\"현재속도는 {self.현재속도}입니다.\")"
   ]
  },
  {
   "cell_type": "code",
   "execution_count": 167,
   "id": "da5e29eb",
   "metadata": {},
   "outputs": [],
   "source": [
    "자동차1 = 자동차(\"car1\")\n",
    "자동차2 = 자동차(\"car2\")\n",
    "자동차3 = 자동차(\"car3\")"
   ]
  },
  {
   "cell_type": "code",
   "execution_count": null,
   "id": "56d48438",
   "metadata": {},
   "outputs": [],
   "source": []
  },
  {
   "cell_type": "code",
   "execution_count": 106,
   "id": "18c6bbe4",
   "metadata": {},
   "outputs": [
    {
     "data": {
      "text/plain": [
       "'a'"
      ]
     },
     "execution_count": 106,
     "metadata": {},
     "output_type": "execute_result"
    }
   ],
   "source": [
    "자동차1.브랜드"
   ]
  },
  {
   "cell_type": "code",
   "execution_count": 109,
   "id": "e2b8b63c",
   "metadata": {},
   "outputs": [],
   "source": [
    "자동차.브랜드 = \"b\""
   ]
  },
  {
   "cell_type": "code",
   "execution_count": 110,
   "id": "64ebae54",
   "metadata": {},
   "outputs": [
    {
     "data": {
      "text/plain": [
       "'b'"
      ]
     },
     "execution_count": 110,
     "metadata": {},
     "output_type": "execute_result"
    }
   ],
   "source": [
    "자동차1.브랜드"
   ]
  },
  {
   "cell_type": "code",
   "execution_count": 140,
   "id": "c7f303ab",
   "metadata": {},
   "outputs": [
    {
     "name": "stdout",
     "output_type": "stream",
     "text": [
      "현재속도는 200입니다. 200이상의 속도는 x\n"
     ]
    }
   ],
   "source": [
    "자동차1.speedup()"
   ]
  },
  {
   "cell_type": "code",
   "execution_count": 168,
   "id": "004a702b",
   "metadata": {},
   "outputs": [
    {
     "name": "stdout",
     "output_type": "stream",
     "text": [
      "현재속도는 -10입니다.\n"
     ]
    }
   ],
   "source": [
    "자동차1.speeddown()"
   ]
  },
  {
   "cell_type": "code",
   "execution_count": 169,
   "id": "79945ad5",
   "metadata": {},
   "outputs": [
    {
     "name": "stdout",
     "output_type": "stream",
     "text": [
      "현재속도는 0입니다.\n"
     ]
    }
   ],
   "source": [
    "자동차1.breakk() "
   ]
  },
  {
   "cell_type": "code",
   "execution_count": 170,
   "id": "af5f8731",
   "metadata": {},
   "outputs": [],
   "source": [
    "class 붕어빵:\n",
    "    반죽 = \"밀가루\"\n",
    "    def __init__(self, 내용물, 모양):\n",
    "        self.내용물 = 내용물\n",
    "        self.모양 = 모양\n",
    "        self.남은양 = 5\n",
    "    def 한입먹는다(self):\n",
    "        self.남은양-=1\n",
    "    def 현상황은(self):\n",
    "        print(f\"난 {self.모양} 붕어빵입니다. \\\n",
    "현재{self.남은양}만큼 남았습니다. 반죽재료는 {붕어빵.반죽}입니다.\")\n",
    "    "
   ]
  },
  {
   "cell_type": "code",
   "execution_count": 216,
   "id": "ed4a48f8",
   "metadata": {},
   "outputs": [],
   "source": [
    "class 따뜻한붕어빵2(붕어빵):\n",
    "    def __init__(self, 내용물, 모양):      # 따뜻한붕어빵 init\n",
    "        super().__init__(내용물, 모양)      # 붕어빵 init  (내용물, 붕어)이런식으로 쓸쑤도 있음\n",
    "        self.온도 = 10\n",
    "    def 온도up(self):\n",
    "        self.온도 += 2\n",
    "        print(self.온도)\n",
    "    def 온도down(self):\n",
    "        self.온도 -= 2\n",
    "        print(self.온도)"
   ]
  },
  {
   "cell_type": "code",
   "execution_count": 217,
   "id": "1dc1543d",
   "metadata": {},
   "outputs": [],
   "source": [
    "붕어1 = 따뜻한붕어빵2(\"계란\", \"붕어\")"
   ]
  },
  {
   "cell_type": "code",
   "execution_count": 218,
   "id": "bb02cc08",
   "metadata": {},
   "outputs": [
    {
     "name": "stdout",
     "output_type": "stream",
     "text": [
      "난 붕어 붕어빵입니다. 현재4만큼 남았습니다. 반죽재료는 밀가루입니다.\n"
     ]
    }
   ],
   "source": [
    "붕어1.한입먹는다()\n",
    "붕어1.현상황은()"
   ]
  },
  {
   "cell_type": "code",
   "execution_count": 219,
   "id": "7fe01186",
   "metadata": {},
   "outputs": [],
   "source": [
    "따붕2 = 따뜻한붕어빵2(\"계란\", \"붕어\")"
   ]
  },
  {
   "cell_type": "code",
   "execution_count": 220,
   "id": "0a473259",
   "metadata": {},
   "outputs": [],
   "source": [
    "따붕2.한입먹는다()"
   ]
  },
  {
   "cell_type": "code",
   "execution_count": 221,
   "id": "842d09ef",
   "metadata": {},
   "outputs": [
    {
     "name": "stdout",
     "output_type": "stream",
     "text": [
      "난 붕어 붕어빵입니다. 현재4만큼 남았습니다. 반죽재료는 밀가루입니다.\n"
     ]
    }
   ],
   "source": [
    "따붕2.현상황은()"
   ]
  },
  {
   "cell_type": "code",
   "execution_count": 222,
   "id": "af0bbe96",
   "metadata": {},
   "outputs": [
    {
     "name": "stdout",
     "output_type": "stream",
     "text": [
      "12\n"
     ]
    }
   ],
   "source": [
    "따붕2.온도up()"
   ]
  },
  {
   "cell_type": "code",
   "execution_count": 223,
   "id": "a89c7033",
   "metadata": {},
   "outputs": [],
   "source": [
    "class 따뜻한붕어빵3(따뜻한붕어빵2):\n",
    "    def __init__(self, 내용물, 모양):\n",
    "        super().__init__(내용물, 모양)\n",
    "        \n",
    "    # 함수 재정의 가능\n",
    "    def 현상황은(self):\n",
    "        print(f\"난 {self.모양}모양이고 속은 {self.내용물} 붕어빵입니다. \\\n",
    "현재{self.남은양}만큼 남았습니다. 반죽재료는 {붕어빵.반죽}입니다.\")"
   ]
  },
  {
   "cell_type": "code",
   "execution_count": 224,
   "id": "867bfc2e",
   "metadata": {},
   "outputs": [],
   "source": [
    "따붕3 = 따뜻한붕어빵3(\"계란\", \"붕어\")"
   ]
  },
  {
   "cell_type": "code",
   "execution_count": 225,
   "id": "e6694ac2",
   "metadata": {},
   "outputs": [
    {
     "name": "stdout",
     "output_type": "stream",
     "text": [
      "난 붕어모양이고 속은 계란 붕어빵입니다. 현재5만큼 남았습니다. 반죽재료는 밀가루입니다.\n"
     ]
    }
   ],
   "source": [
    "따붕3.현상황은()"
   ]
  },
  {
   "cell_type": "code",
   "execution_count": 15,
   "id": "ad8a0af5",
   "metadata": {},
   "outputs": [],
   "source": [
    "class 전기자동차(자동차):\n",
    "    def __init__(self, 모델명):\n",
    "        super().__init__(모델명)\n",
    "        self.배터리충전량 = 60\n",
    "        \n",
    "    def bat_charge(self):\n",
    "        self.배터리충전량 += 10\n",
    "        if self.배터리충전량 > 80:\n",
    "            self.배터리충전량 = 80\n",
    "            print(f\"배터리는 {self.배터리충전량}입니다. 80이상은 x\")\n",
    "        else:\n",
    "            print(f\"배터리는 {self.배터리충전량}입니다.\")\n",
    "        \n",
    "    def bat_motoron(self):\n",
    "        self.배터리충전량 -= 10\n",
    "        if self.배터리충전량 < 20:\n",
    "            self.배터리충전량 = 20\n",
    "            print(f\"배터리는 {self.배터리충전량}입니다. 20이하는 x\")\n",
    "        else:\n",
    "            print(f\"배터리는 {self.배터리충전량}입니다.\")\n",
    "    \n",
    "    def speedup(self):\n",
    "        self.현재속도+=10\n",
    "        if self.현재속도>120:\n",
    "            self.현재속도 = 120\n",
    "            print(f\"현재속도는 {self.현재속도}입니다. 120이상의 속도는 x\")\n",
    "            \n",
    "        else:\n",
    "            print(f\"현재속도는 {self.현재속도}입니다.\")"
   ]
  },
  {
   "cell_type": "code",
   "execution_count": 16,
   "id": "2dee5d3c",
   "metadata": {},
   "outputs": [],
   "source": [
    "전1 = 전기자동차(\"car4\")"
   ]
  },
  {
   "cell_type": "code",
   "execution_count": 17,
   "id": "de5cdfd3",
   "metadata": {},
   "outputs": [
    {
     "name": "stdout",
     "output_type": "stream",
     "text": [
      "배터리는 70입니다.\n"
     ]
    }
   ],
   "source": [
    "전1.bat_charge()"
   ]
  },
  {
   "cell_type": "code",
   "execution_count": 18,
   "id": "5b1e77f9",
   "metadata": {},
   "outputs": [
    {
     "name": "stdout",
     "output_type": "stream",
     "text": [
      "배터리는 60입니다.\n"
     ]
    }
   ],
   "source": [
    "전1.bat_motoron()"
   ]
  },
  {
   "cell_type": "code",
   "execution_count": 19,
   "id": "f90c093d",
   "metadata": {},
   "outputs": [
    {
     "name": "stdout",
     "output_type": "stream",
     "text": [
      "현재속도는 10입니다.\n"
     ]
    }
   ],
   "source": [
    "전1.speedup()"
   ]
  },
  {
   "cell_type": "code",
   "execution_count": 20,
   "id": "c62f16b2",
   "metadata": {},
   "outputs": [
    {
     "name": "stdout",
     "output_type": "stream",
     "text": [
      "현재속도는 0입니다.\n"
     ]
    }
   ],
   "source": [
    "전1.breakk()"
   ]
  },
  {
   "cell_type": "code",
   "execution_count": 49,
   "id": "0a6d8be6",
   "metadata": {},
   "outputs": [],
   "source": [
    "class Teacher:\n",
    "    def __init__(self):\n",
    "        self.__주민번호 = \"123456-1234567\"\n",
    "        self.언어 = \"파이썬\"\n",
    "    def teach(self):\n",
    "        print(f\"{self.언어}를 학생들에게 가르쳐줘요\")\n",
    "    def program(self):\n",
    "        print(\"f{self.언어}로 상품을 만들어요\")\n",
    "    def tell주민번호(self):\n",
    "        print(f\"저의 주민번호는 {self.__주민번호}입니다.\")"
   ]
  },
  {
   "cell_type": "code",
   "execution_count": 50,
   "id": "477f1b7c",
   "metadata": {},
   "outputs": [],
   "source": [
    "class NextGeneration(Teacher):\n",
    "    pass"
   ]
  },
  {
   "cell_type": "code",
   "execution_count": 51,
   "id": "eb331bf8",
   "metadata": {},
   "outputs": [],
   "source": [
    "fresh_eng = NextGeneration()"
   ]
  },
  {
   "cell_type": "code",
   "execution_count": 52,
   "id": "0e0a45c6",
   "metadata": {},
   "outputs": [
    {
     "data": {
      "text/plain": [
       "'파이썬'"
      ]
     },
     "execution_count": 52,
     "metadata": {},
     "output_type": "execute_result"
    }
   ],
   "source": [
    "fresh_eng.언어"
   ]
  },
  {
   "cell_type": "code",
   "execution_count": 53,
   "id": "8a84691e",
   "metadata": {},
   "outputs": [
    {
     "ename": "AttributeError",
     "evalue": "'NextGeneration' object has no attribute '주민번호'",
     "output_type": "error",
     "traceback": [
      "\u001b[1;31m---------------------------------------------------------------------------\u001b[0m",
      "\u001b[1;31mAttributeError\u001b[0m                            Traceback (most recent call last)",
      "Input \u001b[1;32mIn [53]\u001b[0m, in \u001b[0;36m<cell line: 1>\u001b[1;34m()\u001b[0m\n\u001b[1;32m----> 1\u001b[0m \u001b[43mfresh_eng\u001b[49m\u001b[38;5;241;43m.\u001b[39;49m\u001b[43m주민번호\u001b[49m\n",
      "\u001b[1;31mAttributeError\u001b[0m: 'NextGeneration' object has no attribute '주민번호'"
     ]
    }
   ],
   "source": [
    "fresh_eng.주민번호    # 주민번호는 변수명 앞에 __넣어서 참조 못함."
   ]
  },
  {
   "cell_type": "code",
   "execution_count": 54,
   "id": "d196e0b7",
   "metadata": {},
   "outputs": [],
   "source": [
    "me = Teacher()"
   ]
  },
  {
   "cell_type": "code",
   "execution_count": 55,
   "id": "33d9adbc",
   "metadata": {},
   "outputs": [
    {
     "data": {
      "text/plain": [
       "'파이썬'"
      ]
     },
     "execution_count": 55,
     "metadata": {},
     "output_type": "execute_result"
    }
   ],
   "source": [
    "me.언어"
   ]
  },
  {
   "cell_type": "code",
   "execution_count": 56,
   "id": "58126437",
   "metadata": {},
   "outputs": [
    {
     "ename": "AttributeError",
     "evalue": "'Teacher' object has no attribute '주민번호'",
     "output_type": "error",
     "traceback": [
      "\u001b[1;31m---------------------------------------------------------------------------\u001b[0m",
      "\u001b[1;31mAttributeError\u001b[0m                            Traceback (most recent call last)",
      "Input \u001b[1;32mIn [56]\u001b[0m, in \u001b[0;36m<cell line: 1>\u001b[1;34m()\u001b[0m\n\u001b[1;32m----> 1\u001b[0m \u001b[43mme\u001b[49m\u001b[38;5;241;43m.\u001b[39;49m\u001b[43m주민번호\u001b[49m\n",
      "\u001b[1;31mAttributeError\u001b[0m: 'Teacher' object has no attribute '주민번호'"
     ]
    }
   ],
   "source": [
    "me.주민번호    # 은닉되어있는 정보는 함수로 꺼내줘야함"
   ]
  },
  {
   "cell_type": "code",
   "execution_count": 57,
   "id": "85e6825b",
   "metadata": {},
   "outputs": [
    {
     "name": "stdout",
     "output_type": "stream",
     "text": [
      "저의 주민번호는 123456-1234567입니다.\n"
     ]
    }
   ],
   "source": [
    "me.tell주민번호()"
   ]
  },
  {
   "cell_type": "code",
   "execution_count": null,
   "id": "8d9aa0b6",
   "metadata": {},
   "outputs": [],
   "source": []
  },
  {
   "cell_type": "code",
   "execution_count": null,
   "id": "4bf1b112",
   "metadata": {},
   "outputs": [],
   "source": []
  },
  {
   "cell_type": "code",
   "execution_count": 61,
   "id": "f06dc2e6",
   "metadata": {},
   "outputs": [],
   "source": [
    "class A:\n",
    "    def __init__(self):\n",
    "        self.va = 1\n",
    "    def fB(self):\n",
    "        print(\"zz\")"
   ]
  },
  {
   "cell_type": "code",
   "execution_count": 64,
   "id": "0075b897",
   "metadata": {},
   "outputs": [],
   "source": [
    "class B(A):\n",
    "    \"\"\"\n",
    "    def __init__(self):\n",
    "        super().__init__()\n",
    "        self.va = \"abc\"\n",
    "    \"\"\"\n",
    "    \n",
    "    def fB(self):\n",
    "        print(self.va)"
   ]
  },
  {
   "cell_type": "code",
   "execution_count": 65,
   "id": "77fd9367",
   "metadata": {},
   "outputs": [
    {
     "name": "stdout",
     "output_type": "stream",
     "text": [
      "1\n"
     ]
    }
   ],
   "source": [
    "b = B()\n",
    "b.fB()"
   ]
  },
  {
   "cell_type": "code",
   "execution_count": 66,
   "id": "8db0167e",
   "metadata": {},
   "outputs": [],
   "source": [
    "class Wallet:\n",
    "    def 담는다(self):\n",
    "        print(\"나는 무언가를 담아요\")"
   ]
  },
  {
   "cell_type": "code",
   "execution_count": 67,
   "id": "e8b3a7e3",
   "metadata": {},
   "outputs": [],
   "source": [
    "class Me:\n",
    "    def __init__(self):\n",
    "        self.내가만든가죽공예품들 = []\n",
    "    def product(self, 제품하나):\n",
    "        self.내가만든가죽공예품들.append(제품하나) "
   ]
  },
  {
   "cell_type": "code",
   "execution_count": 68,
   "id": "f7eee82a",
   "metadata": {},
   "outputs": [],
   "source": [
    "me = Me()"
   ]
  },
  {
   "cell_type": "code",
   "execution_count": 70,
   "id": "22beb0c6",
   "metadata": {},
   "outputs": [],
   "source": [
    "w1 = Wallet()\n",
    "me.product(w1)"
   ]
  },
  {
   "cell_type": "code",
   "execution_count": 71,
   "id": "3ce5403b",
   "metadata": {},
   "outputs": [],
   "source": [
    "w2 = Wallet()\n",
    "me.product(w2)\n",
    "w3 = Wallet()\n",
    "me.product(w3)\n",
    "w4 = Wallet()\n",
    "me.product(w4)"
   ]
  },
  {
   "cell_type": "code",
   "execution_count": 72,
   "id": "6f248126",
   "metadata": {},
   "outputs": [
    {
     "name": "stdout",
     "output_type": "stream",
     "text": [
      "나는 무언가를 담아요\n"
     ]
    }
   ],
   "source": [
    "me.내가만든가죽공예품들[0].담는다()\n",
    "\n",
    "\"\"\"\n",
    "is-a: 상속관계 (똑같은것) \n",
    "has-a: 포함관계 (부품처럼 사용되는 것)\n",
    "\"\"\""
   ]
  },
  {
   "cell_type": "code",
   "execution_count": 73,
   "id": "bf5417da",
   "metadata": {},
   "outputs": [],
   "source": [
    "class A:\n",
    "    def fA(self):\n",
    "        print(\"AAA\")"
   ]
  },
  {
   "cell_type": "code",
   "execution_count": 74,
   "id": "aa485eae",
   "metadata": {},
   "outputs": [],
   "source": [
    "class B:\n",
    "    def fB(self):\n",
    "        print(\"BBB\")"
   ]
  },
  {
   "cell_type": "code",
   "execution_count": 75,
   "id": "c0510a44",
   "metadata": {},
   "outputs": [],
   "source": [
    "# 다중상속\n",
    "\n",
    "class Me(A, B):\n",
    "    pass"
   ]
  },
  {
   "cell_type": "code",
   "execution_count": 76,
   "id": "a6b029ec",
   "metadata": {},
   "outputs": [],
   "source": [
    "me = Me()"
   ]
  },
  {
   "cell_type": "code",
   "execution_count": 77,
   "id": "1c84ee64",
   "metadata": {},
   "outputs": [
    {
     "name": "stdout",
     "output_type": "stream",
     "text": [
      "AAA\n",
      "BBB\n"
     ]
    }
   ],
   "source": [
    "me.fA()\n",
    "me.fB()"
   ]
  },
  {
   "cell_type": "code",
   "execution_count": 78,
   "id": "64b04928",
   "metadata": {},
   "outputs": [],
   "source": [
    "from abc import *"
   ]
  },
  {
   "cell_type": "code",
   "execution_count": 79,
   "id": "efd0372d",
   "metadata": {},
   "outputs": [],
   "source": [
    "# 추상 클래스 : 전체 틀만 상속(상속에서 함수 내용 안채워주면 에러뜸)\n",
    "\n",
    "class StudentBase(metaclass=ABCMeta):\n",
    "    @abstractmethod\n",
    "    def study(self):\n",
    "        pass\n",
    "    @abstractmethod\n",
    "    def goSchool(self):\n",
    "        pass"
   ]
  },
  {
   "cell_type": "code",
   "execution_count": 81,
   "id": "350e6c04",
   "metadata": {},
   "outputs": [],
   "source": [
    "class ElemStudent(StudentBase):\n",
    "    def study(self):\n",
    "        print(\"초등 1~6학년 과목을 공부한다\")\n",
    "    def goSchool(self):\n",
    "        print(\"집 근처 학교를 간다\")"
   ]
  },
  {
   "cell_type": "code",
   "execution_count": 82,
   "id": "5d298812",
   "metadata": {},
   "outputs": [],
   "source": [
    "stu1 = ElemStudent()"
   ]
  },
  {
   "cell_type": "code",
   "execution_count": 83,
   "id": "6010740d",
   "metadata": {},
   "outputs": [
    {
     "name": "stdout",
     "output_type": "stream",
     "text": [
      "집 근처 학교를 간다\n"
     ]
    }
   ],
   "source": [
    "stu1.goSchool()"
   ]
  },
  {
   "cell_type": "code",
   "execution_count": 84,
   "id": "984d85fe",
   "metadata": {},
   "outputs": [
    {
     "name": "stdout",
     "output_type": "stream",
     "text": [
      "초등 1~6학년 과목을 공부한다\n"
     ]
    }
   ],
   "source": [
    "stu1.study()"
   ]
  },
  {
   "cell_type": "code",
   "execution_count": null,
   "id": "ae46702f",
   "metadata": {},
   "outputs": [],
   "source": []
  },
  {
   "cell_type": "code",
   "execution_count": 85,
   "id": "c7ae542d",
   "metadata": {},
   "outputs": [],
   "source": [
    "# 예외 처리"
   ]
  },
  {
   "cell_type": "code",
   "execution_count": 86,
   "id": "e36d3bcd",
   "metadata": {},
   "outputs": [
    {
     "data": {
      "text/plain": [
       "5.0"
      ]
     },
     "execution_count": 86,
     "metadata": {},
     "output_type": "execute_result"
    }
   ],
   "source": [
    "10/2"
   ]
  },
  {
   "cell_type": "code",
   "execution_count": 87,
   "id": "8b17ed9d",
   "metadata": {},
   "outputs": [
    {
     "ename": "ZeroDivisionError",
     "evalue": "division by zero",
     "output_type": "error",
     "traceback": [
      "\u001b[1;31m---------------------------------------------------------------------------\u001b[0m",
      "\u001b[1;31mZeroDivisionError\u001b[0m                         Traceback (most recent call last)",
      "Input \u001b[1;32mIn [87]\u001b[0m, in \u001b[0;36m<cell line: 1>\u001b[1;34m()\u001b[0m\n\u001b[1;32m----> 1\u001b[0m \u001b[38;5;241;43m10\u001b[39;49m\u001b[38;5;241;43m/\u001b[39;49m\u001b[38;5;241;43m0\u001b[39;49m\n",
      "\u001b[1;31mZeroDivisionError\u001b[0m: division by zero"
     ]
    }
   ],
   "source": [
    "10/0"
   ]
  },
  {
   "cell_type": "code",
   "execution_count": 88,
   "id": "49b15b24",
   "metadata": {},
   "outputs": [],
   "source": [
    "x = 0\n",
    "if x != 0:\n",
    "    print(10/x)"
   ]
  },
  {
   "cell_type": "code",
   "execution_count": 89,
   "id": "709844af",
   "metadata": {},
   "outputs": [
    {
     "name": "stdout",
     "output_type": "stream",
     "text": [
      "0으로 나누면 안 되요\n"
     ]
    }
   ],
   "source": [
    "x = 0\n",
    "try:\n",
    "    print(10/x)\n",
    "except:\n",
    "    print(\"0으로 나누면 안 되요\")"
   ]
  },
  {
   "cell_type": "code",
   "execution_count": 93,
   "id": "cce91474",
   "metadata": {},
   "outputs": [
    {
     "data": {
      "text/plain": [
       "2"
      ]
     },
     "execution_count": 93,
     "metadata": {},
     "output_type": "execute_result"
    }
   ],
   "source": [
    "x_list = [1,2,0,3]\n",
    "x_list[1]"
   ]
  },
  {
   "cell_type": "code",
   "execution_count": 94,
   "id": "fee72c06",
   "metadata": {},
   "outputs": [
    {
     "ename": "IndexError",
     "evalue": "list index out of range",
     "output_type": "error",
     "traceback": [
      "\u001b[1;31m---------------------------------------------------------------------------\u001b[0m",
      "\u001b[1;31mIndexError\u001b[0m                                Traceback (most recent call last)",
      "Input \u001b[1;32mIn [94]\u001b[0m, in \u001b[0;36m<cell line: 1>\u001b[1;34m()\u001b[0m\n\u001b[1;32m----> 1\u001b[0m \u001b[43mx_list\u001b[49m\u001b[43m[\u001b[49m\u001b[38;5;241;43m10\u001b[39;49m\u001b[43m]\u001b[49m\n",
      "\u001b[1;31mIndexError\u001b[0m: list index out of range"
     ]
    }
   ],
   "source": [
    "x_list[10]"
   ]
  },
  {
   "cell_type": "code",
   "execution_count": 97,
   "id": "986e994b",
   "metadata": {},
   "outputs": [
    {
     "name": "stdout",
     "output_type": "stream",
     "text": [
      "10.0\n",
      "5.0\n"
     ]
    },
    {
     "ename": "ZeroDivisionError",
     "evalue": "division by zero",
     "output_type": "error",
     "traceback": [
      "\u001b[1;31m---------------------------------------------------------------------------\u001b[0m",
      "\u001b[1;31mZeroDivisionError\u001b[0m                         Traceback (most recent call last)",
      "Input \u001b[1;32mIn [97]\u001b[0m, in \u001b[0;36m<cell line: 1>\u001b[1;34m()\u001b[0m\n\u001b[0;32m      1\u001b[0m \u001b[38;5;28;01mfor\u001b[39;00m i \u001b[38;5;129;01min\u001b[39;00m x_list:\n\u001b[1;32m----> 2\u001b[0m     \u001b[38;5;28mprint\u001b[39m (\u001b[38;5;241;43m10\u001b[39;49m\u001b[38;5;241;43m/\u001b[39;49m\u001b[43mi\u001b[49m)\n",
      "\u001b[1;31mZeroDivisionError\u001b[0m: division by zero"
     ]
    }
   ],
   "source": [
    "for i in x_list:\n",
    "    print (10/i)"
   ]
  },
  {
   "cell_type": "code",
   "execution_count": 100,
   "id": "7657f78c",
   "metadata": {},
   "outputs": [
    {
     "name": "stdout",
     "output_type": "stream",
     "text": [
      "10.0\n",
      "5.0\n",
      "2.5\n",
      "3.3333333333333335\n",
      "Index가 넘어갔어요.\n"
     ]
    }
   ],
   "source": [
    "x_list = [1,2,4,3]\n",
    "try:\n",
    "    for i in range(5):\n",
    "        print (10/x_list[i])\n",
    "except ZeroDivisionError:\n",
    "    print(\"0으로 나누면 안되요\")\n",
    "except IndexError:\n",
    "    print(\"Index가 넘어갔어요.\")"
   ]
  },
  {
   "cell_type": "code",
   "execution_count": 101,
   "id": "69e3f988",
   "metadata": {},
   "outputs": [],
   "source": [
    "# 파이썬 예외 계층도 = 파이썬 내장 예외 처리"
   ]
  },
  {
   "cell_type": "code",
   "execution_count": 102,
   "id": "33eed49e",
   "metadata": {},
   "outputs": [],
   "source": [
    "import myMod1"
   ]
  },
  {
   "cell_type": "code",
   "execution_count": 103,
   "id": "3726bcc7",
   "metadata": {},
   "outputs": [
    {
     "data": {
      "text/plain": [
       "3.14"
      ]
     },
     "execution_count": 103,
     "metadata": {},
     "output_type": "execute_result"
    }
   ],
   "source": [
    "myMod1.myPi"
   ]
  },
  {
   "cell_type": "code",
   "execution_count": 104,
   "id": "ad40f69f",
   "metadata": {},
   "outputs": [
    {
     "data": {
      "text/plain": [
       "3"
      ]
     },
     "execution_count": 104,
     "metadata": {},
     "output_type": "execute_result"
    }
   ],
   "source": [
    "myMod1.myAdd(1,2)"
   ]
  },
  {
   "cell_type": "code",
   "execution_count": 107,
   "id": "1322f4ee",
   "metadata": {},
   "outputs": [],
   "source": [
    "from myMod1 import myAdd, myPi\n",
    "#form myMod1 import *"
   ]
  },
  {
   "cell_type": "code",
   "execution_count": 108,
   "id": "da78c8c1",
   "metadata": {},
   "outputs": [
    {
     "data": {
      "text/plain": [
       "3.14"
      ]
     },
     "execution_count": 108,
     "metadata": {},
     "output_type": "execute_result"
    }
   ],
   "source": [
    "myPi"
   ]
  },
  {
   "cell_type": "code",
   "execution_count": 109,
   "id": "c517e7d5",
   "metadata": {},
   "outputs": [],
   "source": [
    "# 패키지\n",
    "\n",
    "from aaa.bbb.bbb1 import bbb1_val"
   ]
  },
  {
   "cell_type": "code",
   "execution_count": 110,
   "id": "a4eb7e26",
   "metadata": {},
   "outputs": [
    {
     "data": {
      "text/plain": [
       "1"
      ]
     },
     "execution_count": 110,
     "metadata": {},
     "output_type": "execute_result"
    }
   ],
   "source": [
    "bbb1_val"
   ]
  },
  {
   "cell_type": "code",
   "execution_count": 111,
   "id": "783d22cd",
   "metadata": {},
   "outputs": [],
   "source": [
    "from aaa.ccc.ccc1 import ccc1_val"
   ]
  },
  {
   "cell_type": "code",
   "execution_count": 112,
   "id": "31f187b3",
   "metadata": {},
   "outputs": [
    {
     "data": {
      "text/plain": [
       "2"
      ]
     },
     "execution_count": 112,
     "metadata": {},
     "output_type": "execute_result"
    }
   ],
   "source": [
    "ccc1_val"
   ]
  },
  {
   "cell_type": "code",
   "execution_count": 115,
   "id": "1ed422df",
   "metadata": {},
   "outputs": [
    {
     "name": "stdout",
     "output_type": "stream",
     "text": [
      "1번째 과목은 : 국어\n",
      "2번째 과목은 : 영어\n",
      "3번째 과목은 : 수학\n"
     ]
    }
   ],
   "source": [
    "my_subjects = [\"국어\", \"영어\", \"수학\"]\n",
    "for i, subject in enumerate(my_subjects):     # enumerate 몇번째 데이터인지\n",
    "    print(f\"{i+1}번째 과목은 : {subject}\")"
   ]
  },
  {
   "cell_type": "code",
   "execution_count": 116,
   "id": "8eb24898",
   "metadata": {},
   "outputs": [
    {
     "data": {
      "text/plain": [
       "3"
      ]
     },
     "execution_count": 116,
     "metadata": {},
     "output_type": "execute_result"
    }
   ],
   "source": [
    "max([1, 2, 3])"
   ]
  },
  {
   "cell_type": "code",
   "execution_count": 117,
   "id": "e2dbeca5",
   "metadata": {},
   "outputs": [
    {
     "data": {
      "text/plain": [
       "1"
      ]
     },
     "execution_count": 117,
     "metadata": {},
     "output_type": "execute_result"
    }
   ],
   "source": [
    "min([1,2 ,3])"
   ]
  },
  {
   "cell_type": "code",
   "execution_count": 118,
   "id": "119d8896",
   "metadata": {},
   "outputs": [
    {
     "data": {
      "text/plain": [
       "6"
      ]
     },
     "execution_count": 118,
     "metadata": {},
     "output_type": "execute_result"
    }
   ],
   "source": [
    "sum([1,2,3])"
   ]
  },
  {
   "cell_type": "code",
   "execution_count": 119,
   "id": "f61a7b82",
   "metadata": {},
   "outputs": [
    {
     "data": {
      "text/plain": [
       "1235"
      ]
     },
     "execution_count": 119,
     "metadata": {},
     "output_type": "execute_result"
    }
   ],
   "source": [
    "round(1234.5678)"
   ]
  },
  {
   "cell_type": "code",
   "execution_count": 120,
   "id": "01e54bba",
   "metadata": {},
   "outputs": [
    {
     "data": {
      "text/plain": [
       "1234.57"
      ]
     },
     "execution_count": 120,
     "metadata": {},
     "output_type": "execute_result"
    }
   ],
   "source": [
    "round(1234.5678, 2)"
   ]
  },
  {
   "cell_type": "code",
   "execution_count": 121,
   "id": "59736950",
   "metadata": {},
   "outputs": [
    {
     "data": {
      "text/plain": [
       "1200.0"
      ]
     },
     "execution_count": 121,
     "metadata": {},
     "output_type": "execute_result"
    }
   ],
   "source": [
    "round(1234.5678, -2)"
   ]
  },
  {
   "cell_type": "code",
   "execution_count": 122,
   "id": "db9228d7",
   "metadata": {},
   "outputs": [
    {
     "data": {
      "text/plain": [
       "[1, 5, 2, 6, 3]"
      ]
     },
     "execution_count": 122,
     "metadata": {},
     "output_type": "execute_result"
    }
   ],
   "source": [
    "a = [1, 5, 2, 6, 3]\n",
    "a"
   ]
  },
  {
   "cell_type": "code",
   "execution_count": 124,
   "id": "6b4f0ff2",
   "metadata": {},
   "outputs": [
    {
     "data": {
      "text/plain": [
       "[1, 2, 3, 5, 6]"
      ]
     },
     "execution_count": 124,
     "metadata": {},
     "output_type": "execute_result"
    }
   ],
   "source": [
    "a.sort()    # 정렬\n",
    "a"
   ]
  },
  {
   "cell_type": "code",
   "execution_count": 125,
   "id": "ea9ecf55",
   "metadata": {},
   "outputs": [
    {
     "data": {
      "text/plain": [
       "[1, 5, 2, 6, 3]"
      ]
     },
     "execution_count": 125,
     "metadata": {},
     "output_type": "execute_result"
    }
   ],
   "source": [
    "a = [1, 5, 2, 6, 3]\n",
    "a"
   ]
  },
  {
   "cell_type": "code",
   "execution_count": 126,
   "id": "878a6e3b",
   "metadata": {},
   "outputs": [
    {
     "data": {
      "text/plain": [
       "[1, 2, 3, 5, 6]"
      ]
     },
     "execution_count": 126,
     "metadata": {},
     "output_type": "execute_result"
    }
   ],
   "source": [
    "sorted(a)"
   ]
  },
  {
   "cell_type": "code",
   "execution_count": 127,
   "id": "bbfc380c",
   "metadata": {},
   "outputs": [
    {
     "data": {
      "text/plain": [
       "[1, 5, 2, 6, 3]"
      ]
     },
     "execution_count": 127,
     "metadata": {},
     "output_type": "execute_result"
    }
   ],
   "source": [
    "a"
   ]
  },
  {
   "cell_type": "code",
   "execution_count": 128,
   "id": "b2b40ca0",
   "metadata": {},
   "outputs": [
    {
     "data": {
      "text/plain": [
       "str"
      ]
     },
     "execution_count": 128,
     "metadata": {},
     "output_type": "execute_result"
    }
   ],
   "source": [
    "type(\"aaa\")"
   ]
  },
  {
   "cell_type": "code",
   "execution_count": 129,
   "id": "59368e94",
   "metadata": {},
   "outputs": [
    {
     "data": {
      "text/plain": [
       "int"
      ]
     },
     "execution_count": 129,
     "metadata": {},
     "output_type": "execute_result"
    }
   ],
   "source": [
    "type(1)"
   ]
  },
  {
   "cell_type": "code",
   "execution_count": 132,
   "id": "5fcfe74c",
   "metadata": {},
   "outputs": [],
   "source": [
    "과목 = [\"국\", \"영\", \"수\"]\n",
    "중간점수 = [80, 85, 90]\n",
    "기말점수 = [82, 92, 72]"
   ]
  },
  {
   "cell_type": "code",
   "execution_count": 133,
   "id": "efeef2b1",
   "metadata": {},
   "outputs": [
    {
     "data": {
      "text/plain": [
       "[('국', 80, 82), ('영', 85, 92), ('수', 90, 72)]"
      ]
     },
     "execution_count": 133,
     "metadata": {},
     "output_type": "execute_result"
    }
   ],
   "source": [
    "list(zip(과목, 중간점수, 기말점수))"
   ]
  },
  {
   "cell_type": "code",
   "execution_count": 135,
   "id": "921403b1",
   "metadata": {},
   "outputs": [
    {
     "data": {
      "text/plain": [
       "(1, 2, 3)"
      ]
     },
     "execution_count": 135,
     "metadata": {},
     "output_type": "execute_result"
    }
   ],
   "source": [
    "a_tuple = (1,2,3)\n",
    "a_tuple"
   ]
  },
  {
   "cell_type": "code",
   "execution_count": 136,
   "id": "98cc1068",
   "metadata": {},
   "outputs": [
    {
     "data": {
      "text/plain": [
       "3"
      ]
     },
     "execution_count": 136,
     "metadata": {},
     "output_type": "execute_result"
    }
   ],
   "source": [
    "a_tuple[2]"
   ]
  },
  {
   "cell_type": "code",
   "execution_count": 137,
   "id": "995a1de0",
   "metadata": {},
   "outputs": [
    {
     "ename": "TypeError",
     "evalue": "'tuple' object does not support item assignment",
     "output_type": "error",
     "traceback": [
      "\u001b[1;31m---------------------------------------------------------------------------\u001b[0m",
      "\u001b[1;31mTypeError\u001b[0m                                 Traceback (most recent call last)",
      "Input \u001b[1;32mIn [137]\u001b[0m, in \u001b[0;36m<cell line: 1>\u001b[1;34m()\u001b[0m\n\u001b[1;32m----> 1\u001b[0m a_tuple[\u001b[38;5;241m1\u001b[39m] \u001b[38;5;241m=\u001b[39m \u001b[38;5;241m20\u001b[39m\n",
      "\u001b[1;31mTypeError\u001b[0m: 'tuple' object does not support item assignment"
     ]
    }
   ],
   "source": [
    "# 튜플은 값을 바꿀 수 없음\n",
    "\n",
    "a_tuple[1] = 20"
   ]
  },
  {
   "cell_type": "code",
   "execution_count": null,
   "id": "11b96c29",
   "metadata": {},
   "outputs": [],
   "source": []
  }
 ],
 "metadata": {
  "kernelspec": {
   "display_name": "Python 3 (ipykernel)",
   "language": "python",
   "name": "python3"
  },
  "language_info": {
   "codemirror_mode": {
    "name": "ipython",
    "version": 3
   },
   "file_extension": ".py",
   "mimetype": "text/x-python",
   "name": "python",
   "nbconvert_exporter": "python",
   "pygments_lexer": "ipython3",
   "version": "3.9.7"
  }
 },
 "nbformat": 4,
 "nbformat_minor": 5
}
