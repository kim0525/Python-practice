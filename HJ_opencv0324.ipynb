{
 "cells": [
  {
   "cell_type": "code",
   "execution_count": 3,
   "id": "f928d23d",
   "metadata": {},
   "outputs": [],
   "source": [
    "import cv2"
   ]
  },
  {
   "cell_type": "code",
   "execution_count": 4,
   "id": "3e673645",
   "metadata": {},
   "outputs": [],
   "source": [
    "# !pip install opencv-python"
   ]
  },
  {
   "cell_type": "code",
   "execution_count": 5,
   "id": "e2d494c9",
   "metadata": {},
   "outputs": [
    {
     "data": {
      "text/plain": [
       "'4.5.5'"
      ]
     },
     "execution_count": 5,
     "metadata": {},
     "output_type": "execute_result"
    }
   ],
   "source": [
    "cv2.__version__"
   ]
  },
  {
   "cell_type": "code",
   "execution_count": 12,
   "id": "d06efcaa",
   "metadata": {},
   "outputs": [],
   "source": [
    "img = cv2.imread(\"lenna.bmp\")"
   ]
  },
  {
   "cell_type": "code",
   "execution_count": 13,
   "id": "7589e137",
   "metadata": {},
   "outputs": [
    {
     "data": {
      "text/plain": [
       "(512, 512, 3)"
      ]
     },
     "execution_count": 13,
     "metadata": {},
     "output_type": "execute_result"
    }
   ],
   "source": [
    "img.shape  #(가로세로 길이와 3컬러)"
   ]
  },
  {
   "cell_type": "code",
   "execution_count": 14,
   "id": "5871d759",
   "metadata": {},
   "outputs": [
    {
     "data": {
      "text/plain": [
       "array([[[125, 137, 226],\n",
       "        [125, 137, 226],\n",
       "        [133, 137, 223],\n",
       "        ...,\n",
       "        [122, 148, 230],\n",
       "        [110, 130, 221],\n",
       "        [ 90,  99, 200]],\n",
       "\n",
       "       [[125, 137, 226],\n",
       "        [125, 137, 226],\n",
       "        [133, 137, 223],\n",
       "        ...,\n",
       "        [122, 148, 230],\n",
       "        [110, 130, 221],\n",
       "        [ 90,  99, 200]],\n",
       "\n",
       "       [[125, 137, 226],\n",
       "        [125, 137, 226],\n",
       "        [133, 137, 223],\n",
       "        ...,\n",
       "        [122, 148, 230],\n",
       "        [110, 130, 221],\n",
       "        [ 90,  99, 200]],\n",
       "\n",
       "       ...,\n",
       "\n",
       "       [[ 60,  18,  84],\n",
       "        [ 60,  18,  84],\n",
       "        [ 58,  27,  92],\n",
       "        ...,\n",
       "        [ 84,  73, 173],\n",
       "        [ 76,  68, 172],\n",
       "        [ 79,  62, 177]],\n",
       "\n",
       "       [[ 57,  22,  82],\n",
       "        [ 57,  22,  82],\n",
       "        [ 62,  32,  96],\n",
       "        ...,\n",
       "        [ 79,  70, 179],\n",
       "        [ 81,  71, 181],\n",
       "        [ 81,  74, 185]],\n",
       "\n",
       "       [[ 57,  22,  82],\n",
       "        [ 57,  22,  82],\n",
       "        [ 62,  32,  96],\n",
       "        ...,\n",
       "        [ 79,  70, 179],\n",
       "        [ 81,  71, 181],\n",
       "        [ 81,  74, 185]]], dtype=uint8)"
      ]
     },
     "execution_count": 14,
     "metadata": {},
     "output_type": "execute_result"
    }
   ],
   "source": [
    "img   # 125, 137, 226   B G R"
   ]
  },
  {
   "cell_type": "code",
   "execution_count": null,
   "id": "cf54bfe4",
   "metadata": {},
   "outputs": [],
   "source": [
    "if img.any():\n",
    "    cv2.namedWindow('Image')\n",
    "    cv2.imshow('image', img)\n",
    "    cv2.waitKey()\n",
    "    cv2.destroyAllWindows()"
   ]
  },
  {
   "cell_type": "code",
   "execution_count": 15,
   "id": "6c6230f4",
   "metadata": {},
   "outputs": [],
   "source": [
    "img1 = cv2.imread('cat.bmp', cv2.IMREAD_GRAYSCALE)"
   ]
  },
  {
   "cell_type": "code",
   "execution_count": 16,
   "id": "fb8c6aae",
   "metadata": {},
   "outputs": [
    {
     "data": {
      "text/plain": [
       "(480, 640)"
      ]
     },
     "execution_count": 16,
     "metadata": {},
     "output_type": "execute_result"
    }
   ],
   "source": [
    "img1.shape"
   ]
  },
  {
   "cell_type": "code",
   "execution_count": 17,
   "id": "ad7f17fd",
   "metadata": {},
   "outputs": [],
   "source": [
    "import numpy as np"
   ]
  },
  {
   "cell_type": "code",
   "execution_count": 18,
   "id": "be3aea74",
   "metadata": {},
   "outputs": [
    {
     "data": {
      "text/plain": [
       "array([[0, 0, 0],\n",
       "       [0, 0, 0]], dtype=uint8)"
      ]
     },
     "execution_count": 18,
     "metadata": {},
     "output_type": "execute_result"
    }
   ],
   "source": [
    "np.zeros((2, 3), np.uint8)"
   ]
  },
  {
   "cell_type": "code",
   "execution_count": 19,
   "id": "0c8200aa",
   "metadata": {},
   "outputs": [
    {
     "data": {
      "text/plain": [
       "array([[1, 1, 1],\n",
       "       [1, 1, 1]], dtype=uint8)"
      ]
     },
     "execution_count": 19,
     "metadata": {},
     "output_type": "execute_result"
    }
   ],
   "source": [
    "np.ones((2,3), np.uint8)"
   ]
  },
  {
   "cell_type": "code",
   "execution_count": 20,
   "id": "edbe1500",
   "metadata": {},
   "outputs": [
    {
     "data": {
      "text/plain": [
       "array([[1.2, 1.2, 1.2],\n",
       "       [1.2, 1.2, 1.2]], dtype=float32)"
      ]
     },
     "execution_count": 20,
     "metadata": {},
     "output_type": "execute_result"
    }
   ],
   "source": [
    "np.full((2,3), 1.2, np.float32)"
   ]
  },
  {
   "cell_type": "code",
   "execution_count": 21,
   "id": "494b5607",
   "metadata": {},
   "outputs": [
    {
     "data": {
      "text/plain": [
       "array([[1, 1, 1],\n",
       "       [1, 1, 1]], dtype=uint8)"
      ]
     },
     "execution_count": 21,
     "metadata": {},
     "output_type": "execute_result"
    }
   ],
   "source": [
    "np.empty((2, 3), np.uint8)    # 자리는 어떻고"
   ]
  },
  {
   "cell_type": "code",
   "execution_count": 24,
   "id": "f1948cef",
   "metadata": {},
   "outputs": [],
   "source": [
    "mat1 = np.array([[11, 12, 13, 14],\n",
    "                    [21, 22, 23, 24],\n",
    "                    [31, 32, 33, 34]]).astype(np.uint8)"
   ]
  },
  {
   "cell_type": "code",
   "execution_count": 26,
   "id": "8ac4d9f4",
   "metadata": {},
   "outputs": [
    {
     "data": {
      "text/plain": [
       "numpy.ndarray"
      ]
     },
     "execution_count": 26,
     "metadata": {},
     "output_type": "execute_result"
    }
   ],
   "source": [
    "type(mat1)"
   ]
  },
  {
   "cell_type": "code",
   "execution_count": null,
   "id": "159a8d3f",
   "metadata": {},
   "outputs": [],
   "source": [
    "# numpy 활용"
   ]
  },
  {
   "cell_type": "code",
   "execution_count": 29,
   "id": "8a2d3505",
   "metadata": {},
   "outputs": [],
   "source": [
    "mat1 = mat1.astype(np.uint8)"
   ]
  },
  {
   "cell_type": "code",
   "execution_count": 30,
   "id": "55ca5045",
   "metadata": {},
   "outputs": [
    {
     "data": {
      "text/plain": [
       "dtype('uint8')"
      ]
     },
     "execution_count": 30,
     "metadata": {},
     "output_type": "execute_result"
    }
   ],
   "source": [
    "mat1.dtype"
   ]
  },
  {
   "cell_type": "code",
   "execution_count": 31,
   "id": "3d569059",
   "metadata": {},
   "outputs": [
    {
     "data": {
      "text/plain": [
       "array([[ 11, 100,  13,  14],\n",
       "       [ 21,  22,  23,  24],\n",
       "       [ 31,  32,  33,  34]], dtype=uint8)"
      ]
     },
     "execution_count": 31,
     "metadata": {},
     "output_type": "execute_result"
    }
   ],
   "source": [
    "mat1[0,1] = 100\n",
    "mat1"
   ]
  },
  {
   "cell_type": "code",
   "execution_count": 32,
   "id": "fe620db9",
   "metadata": {},
   "outputs": [
    {
     "data": {
      "text/plain": [
       "array([[ 11, 100,  13,  14],\n",
       "       [ 21,  22,  23,  24],\n",
       "       [200, 200, 200, 200]], dtype=uint8)"
      ]
     },
     "execution_count": 32,
     "metadata": {},
     "output_type": "execute_result"
    }
   ],
   "source": [
    "mat1[2, :] = 200\n",
    "mat1"
   ]
  },
  {
   "cell_type": "code",
   "execution_count": 35,
   "id": "f5488db1",
   "metadata": {},
   "outputs": [
    {
     "data": {
      "text/plain": [
       "array([[ 11, 100,  13,  14],\n",
       "       [ 21,  22,  23,  24],\n",
       "       [200,  30,  30, 200]], dtype=uint8)"
      ]
     },
     "execution_count": 35,
     "metadata": {},
     "output_type": "execute_result"
    }
   ],
   "source": [
    "mat1[2, 1:3] = 30\n",
    "mat1"
   ]
  },
  {
   "cell_type": "code",
   "execution_count": 37,
   "id": "67c235ce",
   "metadata": {},
   "outputs": [],
   "source": [
    "\n",
    "img1 = cv2.imread('cat.bmp')\n",
    "\n",
    "img2 = img1\n",
    "img3 = img1.copy()\n",
    "\n",
    "img1[:, :] = (0, 255, 255)  # yellow\n",
    "\n",
    "cv2.imshow('img1', img1)\n",
    "cv2.imshow('img2', img2)\n",
    "cv2.imshow('img3', img3)\n",
    "cv2.waitKey()\n",
    "cv2.destroyAllWindows()\n"
   ]
  },
  {
   "cell_type": "code",
   "execution_count": 39,
   "id": "e63a12a7",
   "metadata": {},
   "outputs": [],
   "source": [
    "img1 = cv2.imread('lenna.bmp', cv2.IMREAD_GRAYSCALE)\n",
    "\n",
    "img2 = img1[200:400, 200:400]\n",
    "img3 = img1[200:400, 200:400].copy()\n",
    "\n",
    "img2 += 20        # 밝기 증가\n",
    "\n",
    "cv2.imshow('img1', img1)\n",
    "cv2.imshow('img2', img2)\n",
    "cv2.imshow('img3', img3)\n",
    "cv2.waitKey()\n",
    "cv2.destroyAllWindows()"
   ]
  },
  {
   "cell_type": "code",
   "execution_count": 40,
   "id": "2827e907",
   "metadata": {},
   "outputs": [
    {
     "data": {
      "text/plain": [
       "array([ 0,  1,  2,  3,  4,  5,  6,  7,  8,  9, 10, 11])"
      ]
     },
     "execution_count": 40,
     "metadata": {},
     "output_type": "execute_result"
    }
   ],
   "source": [
    "np.arange(12)"
   ]
  },
  {
   "cell_type": "code",
   "execution_count": 42,
   "id": "6e2d6e52",
   "metadata": {},
   "outputs": [
    {
     "data": {
      "text/plain": [
       "array([[ 0,  1,  2,  3],\n",
       "       [ 4,  5,  6,  7],\n",
       "       [ 8,  9, 10, 11]])"
      ]
     },
     "execution_count": 42,
     "metadata": {},
     "output_type": "execute_result"
    }
   ],
   "source": [
    "np.arange(12).reshape(3, 4)"
   ]
  },
  {
   "cell_type": "code",
   "execution_count": 43,
   "id": "b804c2f5",
   "metadata": {},
   "outputs": [
    {
     "data": {
      "text/plain": [
       "array([ 0,  1,  2,  3,  4,  5,  6,  7,  8,  9, 10, 11])"
      ]
     },
     "execution_count": 43,
     "metadata": {},
     "output_type": "execute_result"
    }
   ],
   "source": [
    "np.arange(12).reshape(3, 4).flatten()"
   ]
  },
  {
   "cell_type": "code",
   "execution_count": 44,
   "id": "a35cda56",
   "metadata": {},
   "outputs": [
    {
     "data": {
      "text/plain": [
       "array([[1, 1, 1, 1],\n",
       "       [1, 1, 1, 1],\n",
       "       [1, 1, 1, 1]])"
      ]
     },
     "execution_count": 44,
     "metadata": {},
     "output_type": "execute_result"
    }
   ],
   "source": [
    "mat1 = np.ones((3, 4), np.int32)    # 1's matrix\n",
    "mat1"
   ]
  },
  {
   "cell_type": "code",
   "execution_count": 45,
   "id": "0bed5b59",
   "metadata": {},
   "outputs": [
    {
     "data": {
      "text/plain": [
       "array([[ 0,  1,  2,  3],\n",
       "       [ 4,  5,  6,  7],\n",
       "       [ 8,  9, 10, 11]])"
      ]
     },
     "execution_count": 45,
     "metadata": {},
     "output_type": "execute_result"
    }
   ],
   "source": [
    "\n",
    "mat2 = np.arange(12).reshape(3, 4)\n",
    "mat2"
   ]
  },
  {
   "cell_type": "code",
   "execution_count": 47,
   "id": "ef845f33",
   "metadata": {},
   "outputs": [
    {
     "data": {
      "text/plain": [
       "array([[ 1,  2,  3,  4],\n",
       "       [ 5,  6,  7,  8],\n",
       "       [ 9, 10, 11, 12]])"
      ]
     },
     "execution_count": 47,
     "metadata": {},
     "output_type": "execute_result"
    }
   ],
   "source": [
    "mat3 = mat1 + mat2\n",
    "mat3"
   ]
  },
  {
   "cell_type": "code",
   "execution_count": 46,
   "id": "9a8ff076",
   "metadata": {},
   "outputs": [
    {
     "data": {
      "text/plain": [
       "array([[ 0,  2,  4,  6],\n",
       "       [ 8, 10, 12, 14],\n",
       "       [16, 18, 20, 22]])"
      ]
     },
     "execution_count": 46,
     "metadata": {},
     "output_type": "execute_result"
    }
   ],
   "source": [
    "mat4 = mat2 * 2\n",
    "mat4"
   ]
  },
  {
   "cell_type": "code",
   "execution_count": null,
   "id": "aa1af318",
   "metadata": {},
   "outputs": [],
   "source": []
  },
  {
   "cell_type": "code",
   "execution_count": 48,
   "id": "6fc94a68",
   "metadata": {},
   "outputs": [],
   "source": [
    "#4장 video.py"
   ]
  },
  {
   "cell_type": "code",
   "execution_count": 3,
   "id": "2989b97a",
   "metadata": {},
   "outputs": [],
   "source": [
    "cap = cv2.VideoCapture('stopwatch.avi')"
   ]
  },
  {
   "cell_type": "code",
   "execution_count": 4,
   "id": "37f723b5",
   "metadata": {},
   "outputs": [
    {
     "data": {
      "text/plain": [
       "640.0"
      ]
     },
     "execution_count": 4,
     "metadata": {},
     "output_type": "execute_result"
    }
   ],
   "source": [
    "cap.get(cv2.CAP_PROP_FRAME_WIDTH)"
   ]
  },
  {
   "cell_type": "code",
   "execution_count": 5,
   "id": "d854d095",
   "metadata": {},
   "outputs": [
    {
     "data": {
      "text/plain": [
       "480.0"
      ]
     },
     "execution_count": 5,
     "metadata": {},
     "output_type": "execute_result"
    }
   ],
   "source": [
    "cap.get(cv2.CAP_PROP_FRAME_HEIGHT)"
   ]
  },
  {
   "cell_type": "code",
   "execution_count": 6,
   "id": "bd7088bf",
   "metadata": {},
   "outputs": [
    {
     "data": {
      "text/plain": [
       "378.0"
      ]
     },
     "execution_count": 6,
     "metadata": {},
     "output_type": "execute_result"
    }
   ],
   "source": [
    "cap.get(cv2.CAP_PROP_FRAME_COUNT)"
   ]
  },
  {
   "cell_type": "code",
   "execution_count": 7,
   "id": "d4f55a83",
   "metadata": {},
   "outputs": [
    {
     "data": {
      "text/plain": [
       "30.0"
      ]
     },
     "execution_count": 7,
     "metadata": {},
     "output_type": "execute_result"
    }
   ],
   "source": [
    "fps= cap.get(cv2.CAP_PROP_FPS)   # 초당 30장을 보여준다.\n",
    "fps"
   ]
  },
  {
   "cell_type": "code",
   "execution_count": 8,
   "id": "a73583cc",
   "metadata": {},
   "outputs": [
    {
     "data": {
      "text/plain": [
       "12.6"
      ]
     },
     "execution_count": 8,
     "metadata": {},
     "output_type": "execute_result"
    }
   ],
   "source": [
    "378/30    #동영상의 길이 12초"
   ]
  },
  {
   "cell_type": "code",
   "execution_count": 9,
   "id": "001d2022",
   "metadata": {},
   "outputs": [
    {
     "data": {
      "text/plain": [
       "33"
      ]
     },
     "execution_count": 9,
     "metadata": {},
     "output_type": "execute_result"
    }
   ],
   "source": [
    "delay = round(1000/fps)\n",
    "delay"
   ]
  },
  {
   "cell_type": "code",
   "execution_count": 10,
   "id": "cf526957",
   "metadata": {},
   "outputs": [],
   "source": [
    "ret, frame = cap.read()"
   ]
  },
  {
   "cell_type": "code",
   "execution_count": 11,
   "id": "407f6790",
   "metadata": {},
   "outputs": [
    {
     "data": {
      "text/plain": [
       "True"
      ]
     },
     "execution_count": 11,
     "metadata": {},
     "output_type": "execute_result"
    }
   ],
   "source": [
    "ret   # True = 그림이 있다.   재생이 끝나면 False"
   ]
  },
  {
   "cell_type": "code",
   "execution_count": 12,
   "id": "52dd8512",
   "metadata": {},
   "outputs": [
    {
     "data": {
      "text/plain": [
       "(480, 640, 3)"
      ]
     },
     "execution_count": 12,
     "metadata": {},
     "output_type": "execute_result"
    }
   ],
   "source": [
    "frame.shape"
   ]
  },
  {
   "cell_type": "code",
   "execution_count": 13,
   "id": "5fc4c78e",
   "metadata": {},
   "outputs": [
    {
     "data": {
      "text/plain": [
       "array([29, 30, 60], dtype=uint8)"
      ]
     },
     "execution_count": 13,
     "metadata": {},
     "output_type": "execute_result"
    }
   ],
   "source": [
    "frame[0][0]"
   ]
  },
  {
   "cell_type": "code",
   "execution_count": 14,
   "id": "630c6fe5",
   "metadata": {},
   "outputs": [],
   "source": [
    "inversed = ~frame"
   ]
  },
  {
   "cell_type": "code",
   "execution_count": 15,
   "id": "3b1dfd9a",
   "metadata": {},
   "outputs": [
    {
     "data": {
      "text/plain": [
       "array([226, 225, 195], dtype=uint8)"
      ]
     },
     "execution_count": 15,
     "metadata": {},
     "output_type": "execute_result"
    }
   ],
   "source": [
    "inversed[0][0]"
   ]
  },
  {
   "cell_type": "code",
   "execution_count": 16,
   "id": "9890df31",
   "metadata": {},
   "outputs": [
    {
     "data": {
      "text/plain": [
       "array([255, 255, 255], dtype=uint8)"
      ]
     },
     "execution_count": 16,
     "metadata": {},
     "output_type": "execute_result"
    }
   ],
   "source": [
    "frame[0][0] + inversed[0][0]"
   ]
  },
  {
   "cell_type": "code",
   "execution_count": 18,
   "id": "c0d45551",
   "metadata": {},
   "outputs": [],
   "source": [
    "inversed = ~frame"
   ]
  },
  {
   "cell_type": "code",
   "execution_count": null,
   "id": "a1b735c8",
   "metadata": {},
   "outputs": [],
   "source": [
    "while True:\n",
    "    ret, frame = cap.read()\n",
    "    if not ret:\n",
    "        break\n",
    "    inversed = ~frame\n",
    "    cv2.imshow('frame', frame)\n",
    "    cv2.imshow('inversed', inversed)\n",
    "    cv2.waitKey()\n",
    "    cv2.destroyAllWindows()"
   ]
  },
  {
   "cell_type": "code",
   "execution_count": 1,
   "id": "fbfd1adf",
   "metadata": {},
   "outputs": [],
   "source": [
    "import numpy as np\n",
    "import cv2\n",
    "cap = cv2.VideoCapture(\"stopwatch.avi\")\n",
    "fps = cap.get(cv2.CAP_PROP_FPS)\n",
    "delay = round(1000 / fps)\n",
    "while True:\n",
    "    ret,frame = cap.read()\n",
    "    if not ret:\n",
    "        break\n",
    "    inversed = ~frame\n",
    "    cv2.imshow('frame', frame)\n",
    "    cv2.imshow('inversed', inversed)\n",
    "    if cv2.waitKey(delay) == 27:\n",
    "        break\n",
    "cv2.destroyAllWindows()"
   ]
  },
  {
   "cell_type": "code",
   "execution_count": 1,
   "id": "edad27f9",
   "metadata": {},
   "outputs": [],
   "source": [
    "# 146p drawing.py"
   ]
  },
  {
   "cell_type": "code",
   "execution_count": 2,
   "id": "8129d10b",
   "metadata": {},
   "outputs": [],
   "source": [
    "import numpy as np"
   ]
  },
  {
   "cell_type": "code",
   "execution_count": 3,
   "id": "f00f23e9",
   "metadata": {},
   "outputs": [],
   "source": [
    "img = np.full((400, 400, 3), 255, np.uint8)"
   ]
  },
  {
   "cell_type": "code",
   "execution_count": 5,
   "id": "cbfd925e",
   "metadata": {},
   "outputs": [],
   "source": [
    "         #     x, y 값                 색           선두께\n",
    "cv2.line(img, (50, 50), (200, 50), (0, 0, 255))\n",
    "cv2.line(img, (50, 100), (200, 100), (255, 0, 255), 3)\n",
    "cv2.line(img, (50, 150), (200, 150), (255, 0, 0), 10)\n",
    "\n",
    "\n",
    "cv2.line(img, (250, 50), (350, 100), (0, 0, 255), 1, cv2.LINE_4)\n",
    "cv2.line(img, (250, 70), (350, 120), (255, 0, 255), 1, cv2.LINE_8)\n",
    "cv2.line(img, (250, 90), (350, 140), (255, 0, 0), 1, cv2.LINE_AA)\n",
    "\n",
    "cv2.arrowedLine(img, (50, 200), (150, 200), (0, 0, 255), 1)\n",
    "cv2.arrowedLine(img, (50, 250), (350, 250), (255, 0, 255), 1)\n",
    "cv2.arrowedLine(img, (50, 300), (350, 300), (255, 0, 0), 1, cv2.LINE_8, 0, 0.05)\n",
    "\n",
    "cv2.drawMarker(img, (50, 350), (0, 0, 255), cv2.MARKER_CROSS)\n",
    "cv2.drawMarker(img, (100, 350), (0, 0, 255), cv2.MARKER_TILTED_CROSS)\n",
    "cv2.drawMarker(img, (150, 350), (0, 0, 255), cv2.MARKER_STAR)\n",
    "cv2.drawMarker(img, (200, 350), (0, 0, 255), cv2.MARKER_DIAMOND)\n",
    "cv2.drawMarker(img, (250, 350), (0, 0, 255), cv2.MARKER_SQUARE)\n",
    "cv2.drawMarker(img, (300, 350), (0, 0, 255), cv2.MARKER_TRIANGLE_UP)\n",
    "cv2.drawMarker(img, (350, 350), (0, 0, 255), cv2.MARKER_TRIANGLE_DOWN)\n",
    "\n",
    "cv2.imshow(\"img\", img)\n",
    "cv2.waitKey()\n",
    "cv2.destroyAllWindows()"
   ]
  },
  {
   "cell_type": "code",
   "execution_count": 8,
   "id": "2e8fd935",
   "metadata": {},
   "outputs": [],
   "source": [
    "img = np.full((400, 400, 3), 255, np.uint8)\n",
    "                                                  #  두께\n",
    "cv2.rectangle(img, (50, 50), (150, 100), (0, 0, 255), 2)\n",
    "cv2.rectangle(img, (50, 150), (150, 200), (0, 0, 128), -1)\n",
    "\n",
    "cv2.circle(img, (300, 120), 30, (255, 255, 0), -1, cv2.LINE_AA)\n",
    "cv2.circle(img, (300, 120), 60, (255, 0, 0), 3, cv2.LINE_AA)\n",
    "\n",
    "cv2.ellipse(img, (120, 300), (60, 30), -20, 0, 270, (255, 255, 0), cv2.FILLED, cv2.LINE_AA)\n",
    "cv2.ellipse(img, (120, 300), (100, 50), 20, 0, 360, (0, 255, 0), 2, cv2.LINE_AA)\n",
    "\n",
    "pts = np.array([[250, 250], [300, 250], [300, 300], [350, 300], [350, 350], [250, 350]])\n",
    "cv2.polylines(img, [pts], True, (255, 0, 255), 2)\n",
    "\n",
    "cv2.imshow(\"img\", img)\n",
    "cv2.waitKey()\n",
    "cv2.destroyAllWindows()"
   ]
  },
  {
   "cell_type": "code",
   "execution_count": 9,
   "id": "74cda7d9",
   "metadata": {},
   "outputs": [],
   "source": [
    "img = np.full((500, 800, 3), 255, np.uint8)\n",
    "\n",
    "cv2.putText(img, \"FONT_HERSHEY_SIMPLEX\", (20, 50), cv2.FONT_HERSHEY_SIMPLEX, 1, (0, 0, 255))\n",
    "cv2.putText(img, \"FONT_HERSHEY_PLAIN\", (20, 100), cv2.FONT_HERSHEY_PLAIN, 1, (0, 0, 255))\n",
    "cv2.putText(img, \"FONT_HERSHEY_DUPLEX\", (20, 150), cv2.FONT_HERSHEY_DUPLEX, 1, (0, 0, 255))\n",
    "cv2.putText(img, \"FONT_HERSHEY_COMPLEX\", (20, 200), cv2.FONT_HERSHEY_COMPLEX, 1, (255, 0, 0))\n",
    "cv2.putText(img, \"FONT_HERSHEY_TRIPLEX\", (20, 250), cv2.FONT_HERSHEY_TRIPLEX, 1, (255, 0, 0))\n",
    "cv2.putText(img, \"FONT_HERSHEY_COMPLEX_SMALL\", (20, 300), cv2.FONT_HERSHEY_COMPLEX_SMALL, 1, (255, 0, 0))\n",
    "cv2.putText(img, \"FONT_HERSHEY_SCRIPT_SIMPLEX\", (20, 350), cv2.FONT_HERSHEY_SCRIPT_SIMPLEX, 1, (255, 0, 255))\n",
    "cv2.putText(img, \"FONT_HERSHEY_SCRIPT_COMPLEX\", (20, 400), cv2.FONT_HERSHEY_SCRIPT_COMPLEX, 1, (255, 0, 255))\n",
    "cv2.putText(img, \"FONT_HERSHEY_COMPLEX | FONT_ITALIC\", (20, 450), cv2.FONT_HERSHEY_COMPLEX | cv2.FONT_ITALIC, 1, (255, 0, 0))\n",
    "\n",
    "cv2.imshow(\"img\", img)\n",
    "cv2.waitKey()\n",
    "cv2.destroyAllWindows()"
   ]
  },
  {
   "cell_type": "code",
   "execution_count": 10,
   "id": "f3ea2a69",
   "metadata": {},
   "outputs": [],
   "source": [
    "# 163p mouse.py"
   ]
  },
  {
   "cell_type": "code",
   "execution_count": 13,
   "id": "527ba282",
   "metadata": {},
   "outputs": [
    {
     "name": "stdout",
     "output_type": "stream",
     "text": [
      "EVENT_LBUTTONDOWN: 347, 138\n",
      "EVENT_LBUTTONUP: 135, 253\n"
     ]
    }
   ],
   "source": [
    "\n",
    "def on_mouse(event, x, y, flags, param):\n",
    "    global oldx, oldy\n",
    "\n",
    "    if event == cv2.EVENT_LBUTTONDOWN:\n",
    "        oldx, oldy = x, y\n",
    "        print('EVENT_LBUTTONDOWN: %d, %d' % (x, y))\n",
    "\n",
    "    elif event == cv2.EVENT_LBUTTONUP:\n",
    "        print('EVENT_LBUTTONUP: %d, %d' % (x, y))\n",
    "\n",
    "    elif event == cv2.EVENT_MOUSEMOVE:\n",
    "        if flags & cv2.EVENT_FLAG_LBUTTON:\n",
    "            cv2.line(img, (oldx, oldy), (x, y), (0, 255, 255), 2)\n",
    "            cv2.imshow('img', img)\n",
    "            oldx, oldy = x, y\n",
    "\n",
    "\n",
    "img = cv2.imread('lenna.bmp')\n",
    "\n",
    "if img is None:\n",
    "    print('Image load failed!')\n",
    "    sys.exit()\n",
    "\n",
    "cv2.namedWindow('img')\n",
    "cv2.setMouseCallback('img', on_mouse)\n",
    "\n",
    "cv2.imshow('img', img)\n",
    "cv2.waitKey()\n",
    "cv2.destroyAllWindows()\n"
   ]
  },
  {
   "cell_type": "code",
   "execution_count": null,
   "id": "df79bf60",
   "metadata": {},
   "outputs": [],
   "source": []
  },
  {
   "cell_type": "code",
   "execution_count": 1,
   "id": "96105fce",
   "metadata": {},
   "outputs": [],
   "source": [
    "import numpy as np\n",
    "import cv2"
   ]
  },
  {
   "cell_type": "code",
   "execution_count": 2,
   "id": "b6cabfca",
   "metadata": {},
   "outputs": [],
   "source": [
    "filename = 'mydata.json'"
   ]
  },
  {
   "cell_type": "code",
   "execution_count": 3,
   "id": "398dee2a",
   "metadata": {},
   "outputs": [],
   "source": [
    "name = 'Jane'\n",
    "age = 10\n",
    "pt1 = (100, 200)\n",
    "scores = (80, 90, 50)\n",
    "mat1 = np.array([[1.0, 1.5], [2.0, 3.2]], dtype=np.float32)"
   ]
  },
  {
   "cell_type": "code",
   "execution_count": 4,
   "id": "1889ad1f",
   "metadata": {},
   "outputs": [],
   "source": [
    "fs = cv2.FileStorage(filename, cv2.FILE_STORAGE_WRITE)"
   ]
  },
  {
   "cell_type": "code",
   "execution_count": 5,
   "id": "acaddcb1",
   "metadata": {},
   "outputs": [
    {
     "data": {
      "text/plain": [
       "<FileStorage 0000016332F65350>"
      ]
     },
     "execution_count": 5,
     "metadata": {},
     "output_type": "execute_result"
    }
   ],
   "source": [
    "fs"
   ]
  },
  {
   "cell_type": "code",
   "execution_count": 6,
   "id": "d5361fe2",
   "metadata": {},
   "outputs": [],
   "source": [
    "fs.write('name', name)\n",
    "fs.write('age', age)\n",
    "fs.write('point', pt1)\n",
    "fs.write('scores', scores)\n",
    "fs.write('data', mat1)\n",
    "\n",
    "fs.release()"
   ]
  },
  {
   "cell_type": "code",
   "execution_count": 7,
   "id": "58ebe188",
   "metadata": {},
   "outputs": [],
   "source": [
    "fs = cv2.FileStorage(filename, cv2.FILE_STORAGE_READ)"
   ]
  },
  {
   "cell_type": "code",
   "execution_count": 8,
   "id": "f1e0f618",
   "metadata": {},
   "outputs": [
    {
     "data": {
      "text/plain": [
       "<FileStorage 0000016332F65570>"
      ]
     },
     "execution_count": 8,
     "metadata": {},
     "output_type": "execute_result"
    }
   ],
   "source": [
    "fs"
   ]
  },
  {
   "cell_type": "code",
   "execution_count": 9,
   "id": "5603556d",
   "metadata": {},
   "outputs": [
    {
     "data": {
      "text/plain": [
       "'Jane'"
      ]
     },
     "execution_count": 9,
     "metadata": {},
     "output_type": "execute_result"
    }
   ],
   "source": [
    "name = fs.getNode('name').string()\n",
    "name"
   ]
  },
  {
   "cell_type": "code",
   "execution_count": 10,
   "id": "c4b29140",
   "metadata": {},
   "outputs": [
    {
     "data": {
      "text/plain": [
       "10"
      ]
     },
     "execution_count": 10,
     "metadata": {},
     "output_type": "execute_result"
    }
   ],
   "source": [
    "age = int(fs.getNode('age').real())\n",
    "age"
   ]
  },
  {
   "cell_type": "code",
   "execution_count": 11,
   "id": "1dddd1c4",
   "metadata": {},
   "outputs": [
    {
     "data": {
      "text/plain": [
       "(100, 200)"
      ]
     },
     "execution_count": 11,
     "metadata": {},
     "output_type": "execute_result"
    }
   ],
   "source": [
    "pt1 = tuple(fs.getNode('point').mat().astype(np.int32).flatten())\n",
    "pt1"
   ]
  },
  {
   "cell_type": "code",
   "execution_count": 12,
   "id": "745295cf",
   "metadata": {},
   "outputs": [
    {
     "data": {
      "text/plain": [
       "((80.0, 90.0, 50.0),\n",
       " array([[1. , 1.5],\n",
       "        [2. , 3.2]], dtype=float32))"
      ]
     },
     "execution_count": 12,
     "metadata": {},
     "output_type": "execute_result"
    }
   ],
   "source": [
    "scores = tuple(fs.getNode('scores').mat().flatten())\n",
    "mat1 = fs.getNode('data').mat()\n",
    "scores, mat1"
   ]
  },
  {
   "cell_type": "code",
   "execution_count": 13,
   "id": "61032693",
   "metadata": {},
   "outputs": [],
   "source": [
    "fs.release()     # opencv는 뭘 저장할 때 json 형태로 저장"
   ]
  },
  {
   "cell_type": "code",
   "execution_count": 14,
   "id": "43c470b6",
   "metadata": {},
   "outputs": [],
   "source": [
    "src = cv2.imread('airplane.bmp', cv2.IMREAD_COLOR)\n",
    "mask = cv2.imread('mask_plane.bmp', cv2.IMREAD_GRAYSCALE)\n",
    "dst = cv2.imread('field.bmp', cv2.IMREAD_COLOR)"
   ]
  },
  {
   "cell_type": "code",
   "execution_count": 15,
   "id": "a4560cb7",
   "metadata": {},
   "outputs": [
    {
     "data": {
      "text/plain": [
       "array([[[203, 199, 207],\n",
       "        [199, 200, 208],\n",
       "        [202, 201, 211],\n",
       "        ...,\n",
       "        [198, 190, 194],\n",
       "        [195, 188, 190],\n",
       "        [193, 184, 189]],\n",
       "\n",
       "       [[203, 199, 207],\n",
       "        [204, 198, 207],\n",
       "        [200, 199, 209],\n",
       "        ...,\n",
       "        [173, 157, 148],\n",
       "        [170, 156, 143],\n",
       "        [184, 173, 166]],\n",
       "\n",
       "       [[203, 196, 208],\n",
       "        [204, 196, 208],\n",
       "        [203, 198, 208],\n",
       "        ...,\n",
       "        [152, 129, 109],\n",
       "        [151, 121, 108],\n",
       "        [148, 126,  97]],\n",
       "\n",
       "       ...,\n",
       "\n",
       "       [[ 51,  29,  15],\n",
       "        [ 49,  32,  29],\n",
       "        [ 49,  49,  61],\n",
       "        ...,\n",
       "        [ 45,  62,  38],\n",
       "        [ 46,  75,  56],\n",
       "        [ 40, 110, 100]],\n",
       "\n",
       "       [[ 50,  26,  11],\n",
       "        [ 50,  45,  54],\n",
       "        [ 47,  44,  50],\n",
       "        ...,\n",
       "        [ 49,  56,  35],\n",
       "        [ 47,  61,  42],\n",
       "        [ 44,  77,  64]],\n",
       "\n",
       "       [[ 50,  42,  52],\n",
       "        [ 46,  71, 108],\n",
       "        [ 47,  56,  58],\n",
       "        ...,\n",
       "        [ 50,  42,  23],\n",
       "        [ 48,  61,  41],\n",
       "        [ 47,  62,  46]]], dtype=uint8)"
      ]
     },
     "execution_count": 15,
     "metadata": {},
     "output_type": "execute_result"
    }
   ],
   "source": [
    "cv2.copyTo(src, mask, dst)"
   ]
  },
  {
   "cell_type": "code",
   "execution_count": 16,
   "id": "a2eae388",
   "metadata": {},
   "outputs": [],
   "source": [
    "cv2.imshow('src', src)\n",
    "cv2.imshow('dst', dst)\n",
    "cv2.imshow('mask', mask)\n",
    "cv2.waitKey()\n",
    "cv2.destroyAllWindows()"
   ]
  },
  {
   "cell_type": "code",
   "execution_count": 17,
   "id": "a2cc98d2",
   "metadata": {},
   "outputs": [],
   "source": [
    "# 205p\n",
    "src = cv2.imread('lenna.bmp', cv2.IMREAD_GRAYSCALE)"
   ]
  },
  {
   "cell_type": "code",
   "execution_count": 19,
   "id": "445068b7",
   "metadata": {},
   "outputs": [
    {
     "data": {
      "text/plain": [
       "numpy.ndarray"
      ]
     },
     "execution_count": 19,
     "metadata": {},
     "output_type": "execute_result"
    }
   ],
   "source": [
    "type(src)"
   ]
  },
  {
   "cell_type": "code",
   "execution_count": 18,
   "id": "02df1593",
   "metadata": {},
   "outputs": [],
   "source": [
    "dst = cv2.add(src, 100)\n",
    "\n",
    "cv2.imshow('src', src)\n",
    "cv2.imshow('dst', dst)\n",
    "cv2.waitKey()\n",
    "cv2.destroyAllWindows()"
   ]
  },
  {
   "cell_type": "code",
   "execution_count": 22,
   "id": "15df6eb4",
   "metadata": {},
   "outputs": [],
   "source": [
    "# 209p\n",
    "\n",
    "dst_bright = cv2.add(src, 100)\n",
    "dst_contrast = cv2.multiply(src, 2.0)\n",
    "\n",
    "cv2.imshow('src', src)\n",
    "cv2.imshow('dst_bright', dst_bright)\n",
    "cv2.imshow('dst_contrast', dst_contrast)\n",
    "cv2.waitKey()\n",
    "cv2.destroyAllWindows()"
   ]
  },
  {
   "cell_type": "code",
   "execution_count": 23,
   "id": "055e6a48",
   "metadata": {},
   "outputs": [],
   "source": [
    "# 212p\n",
    "\n",
    "dst_bright = cv2.add(src, 100)\n",
    "dst_contrast = cv2.multiply(src, 2.0)\n",
    "alpha = 1.0\n",
    "dst_alpha = np.clip(src + (src - 128.)*alpha, 0, 255).astype(np.uint8)\n",
    "\n",
    "\n",
    "cv2.imshow('src', src)\n",
    "cv2.imshow('dst_bright', dst_bright)\n",
    "cv2.imshow('dst_contrast', dst_contrast)\n",
    "cv2.imshow('dst_alpha', dst_alpha)\n",
    "cv2.waitKey()\n",
    "cv2.destroyAllWindows()"
   ]
  },
  {
   "cell_type": "code",
   "execution_count": 24,
   "id": "b6bbacd2",
   "metadata": {},
   "outputs": [],
   "source": [
    "def calcGrayHist(img):\n",
    "    channels = [0]\n",
    "    histSize = [256]\n",
    "    histRange = [0, 256]\n",
    "\n",
    "    hist = cv2.calcHist([img], channels, None, histSize, histRange)\n",
    "\n",
    "    return hist\n",
    "\n",
    "\n",
    "def getGrayHistImage(hist):\n",
    "    histMax = np.max(hist)\n",
    "\n",
    "    imgHist = np.full((100, 256), 255, dtype=np.uint8)\n",
    "    for x in range(256):\n",
    "        pt1 = (x, 100)\n",
    "        pt2 = (x, 100 - int(hist[x, 0] * 100 / histMax))\n",
    "        cv2.line(imgHist, pt1, pt2, 0)\n",
    "\n",
    "    return imgHist"
   ]
  },
  {
   "cell_type": "code",
   "execution_count": 25,
   "id": "3f09c18a",
   "metadata": {},
   "outputs": [],
   "source": [
    "src = cv2.imread('hawkes.bmp', cv2.IMREAD_GRAYSCALE)"
   ]
  },
  {
   "cell_type": "code",
   "execution_count": 26,
   "id": "311ef661",
   "metadata": {},
   "outputs": [],
   "source": [
    "cv2.imshow('src', src)\n",
    "cv2.imshow('srcHist', getGrayHistImage(calcGrayHist(src)))\n",
    "\n",
    "#cv2.imshow('dst', dst)\n",
    "#cv2.imshow('dstHist', getGrayHistImage(calcGrayHist(dst)))\n",
    "\n",
    "cv2.waitKey()\n",
    "cv2.destroyAllWindows()\n"
   ]
  },
  {
   "cell_type": "code",
   "execution_count": 30,
   "id": "b61cdb24",
   "metadata": {},
   "outputs": [],
   "source": [
    "# 222p\n",
    "src = cv2.imread('hawkes.bmp', cv2.IMREAD_GRAYSCALE)\n",
    "\n",
    "\n",
    "gmin = float(np.min(src))\n",
    "gmax = float(np.max(src))\n",
    "\n",
    "dst_st = ((src - gmin) * 255. / (gmax - gmin)).astype(np.uint8)\n",
    "\n",
    "cv2.imshow('src', src)\n",
    "cv2.imshow('srcHist', getGrayHistImage(calcGrayHist(src)))\n",
    "\n",
    "cv2.imshow('dst_st', dst_st)\n",
    "cv2.imshow('dstHist', getGrayHistImage(calcGrayHist(dst_st)))\n",
    "\n",
    "cv2.waitKey()\n",
    "cv2.destroyAllWindows()"
   ]
  },
  {
   "cell_type": "code",
   "execution_count": 33,
   "id": "de0025d3",
   "metadata": {},
   "outputs": [],
   "source": [
    "# 226\n",
    "\n",
    "src = cv2.imread('hawkes.bmp', cv2.IMREAD_GRAYSCALE)\n",
    "\n",
    "dst_eq = cv2.equalizeHist(src)\n",
    "\n",
    "cv2.imshow('src', src)\n",
    "cv2.imshow('srcHist', getGrayHistImage(calcGrayHist(src)))\n",
    "\n",
    "cv2.imshow('dst_eq', dst_eq)\n",
    "cv2.imshow('dstHist_eq', getGrayHistImage(calcGrayHist(dst_eq)))\n",
    "\n",
    "cv2.imshow('dst_st', dst_st)\n",
    "cv2.imshow('dstHist_st', getGrayHistImage(calcGrayHist(dst_st)))\n",
    "\n",
    "cv2.waitKey()\n",
    "cv2.destroyAllWindows()\n"
   ]
  },
  {
   "cell_type": "code",
   "execution_count": 37,
   "id": "61513dcc",
   "metadata": {},
   "outputs": [],
   "source": [
    "src = cv2.imread('rose.bmp', cv2.IMREAD_GRAYSCALE)\n",
    "\n",
    "emboss = np.array([[-1, -1, 0],\n",
    "                   [-1, 0, 1],\n",
    "                   [0, 1, 1]], np.float32)\n",
    "\n",
    "dst_d128 = cv2.filter2D(src, -1, emboss, delta=128)\n",
    "dst_d0 = cv2.filter2D(src, -1, emboss, delta=0)\n",
    "dst_d255 = cv2.filter2D(src, -1, emboss, delta=255)\n",
    "\n",
    "cv2.imshow('src', src)\n",
    "cv2.imshow('dst_d128', dst_d128)\n",
    "cv2.imshow('dst_d0', dst_d0)\n",
    "cv2.imshow('dst_d255', dst_d255)\n",
    "cv2.waitKey()\n",
    "cv2.destroyAllWindows()"
   ]
  },
  {
   "cell_type": "code",
   "execution_count": 38,
   "id": "79f0ddf7",
   "metadata": {},
   "outputs": [],
   "source": [
    "blurring = np.array([[1//9, 1/9, 1/9],\n",
    "                     [1//9, 1/9, 1/9],\n",
    "                     [1//9, 1/9, 1/9]], np.float32)"
   ]
  },
  {
   "cell_type": "code",
   "execution_count": 39,
   "id": "27ee5b7f",
   "metadata": {},
   "outputs": [],
   "source": [
    "dst_blur = cv2.filter2D(src, -1, blurring, delta =0)"
   ]
  },
  {
   "cell_type": "code",
   "execution_count": 41,
   "id": "ce26d6bb",
   "metadata": {},
   "outputs": [],
   "source": [
    "cv2.imshow('src', src)\n",
    "cv2.imshow('dst_blur', dst_blur)\n",
    "cv2.waitKey()\n",
    "cv2.destroyAllWindows()"
   ]
  },
  {
   "cell_type": "code",
   "execution_count": 42,
   "id": "d4fb503a",
   "metadata": {},
   "outputs": [],
   "source": [
    "# 267p\n",
    "\n",
    "src = cv2.imread('lenna.bmp', cv2.IMREAD_GRAYSCALE)\n",
    "\n",
    "cv2.imshow('src', src)\n",
    "\n",
    "for stddev in [10, 20, 30]:\n",
    "    noise = np.zeros(src.shape, np.int32)\n",
    "    cv2.randn(noise, 0, stddev)\n",
    "\n",
    "    dst = cv2.add(src, noise, dtype=cv2.CV_8UC1)\n",
    "\n",
    "    desc = 'stddev = %d' % stddev\n",
    "    cv2.putText(dst, desc, (10, 30), cv2.FONT_HERSHEY_SIMPLEX,\n",
    "               1.0, 255, 1, cv2.LINE_AA)\n",
    "    cv2.imshow('dst', dst)\n",
    "    cv2.waitKey()\n",
    "\n",
    "cv2.destroyAllWindows()"
   ]
  },
  {
   "cell_type": "code",
   "execution_count": 44,
   "id": "434bef84",
   "metadata": {},
   "outputs": [],
   "source": [
    "# 280p\n",
    "\n",
    "src = cv2.imread('tekapo.bmp')"
   ]
  },
  {
   "cell_type": "code",
   "execution_count": 45,
   "id": "fd1ab830",
   "metadata": {},
   "outputs": [],
   "source": [
    "rows = src.shape[0]\n",
    "cols = src.shape[1]"
   ]
  },
  {
   "cell_type": "code",
   "execution_count": 46,
   "id": "fc06afdb",
   "metadata": {},
   "outputs": [],
   "source": [
    "src_pts = np.array([[0, 0],\n",
    "                    [cols - 1, 0],\n",
    "                    [cols - 1, rows - 1]]).astype(np.float32)\n",
    "dst_pts = np.array([[50, 50],\n",
    "                    [cols - 100, 100],\n",
    "                    [cols - 50, rows - 50]]).astype(np.float32)\n",
    "\n",
    "affine_mat = cv2.getAffineTransform(src_pts, dst_pts)\n",
    "\n",
    "dst = cv2.warpAffine(src, affine_mat, (0, 0))\n",
    "\n",
    "cv2.imshow('src', src)\n",
    "cv2.imshow('dst', dst)\n",
    "cv2.waitKey()\n",
    "cv2.destroyAllWindows()"
   ]
  },
  {
   "cell_type": "code",
   "execution_count": 47,
   "id": "b4e60cb7",
   "metadata": {},
   "outputs": [],
   "source": [
    "src = cv2.imread('tekapo.bmp')\n",
    "\n",
    "affine_mat = np.array([[1, 0, 150],\n",
    "                       [0, 1, 100]]).astype(np.float32)\n",
    "\n",
    "dst = cv2.warpAffine(src, affine_mat, (0, 0))\n",
    "\n",
    "cv2.imshow('src', src)\n",
    "cv2.imshow('dst', dst)\n",
    "cv2.waitKey()\n",
    "cv2.destroyAllWindows()"
   ]
  },
  {
   "cell_type": "code",
   "execution_count": 48,
   "id": "fddd8c97",
   "metadata": {},
   "outputs": [],
   "source": [
    "\n",
    "# 300p\n",
    "\n",
    "def on_mouse(event, x, y, flags, param):\n",
    "    global cnt, src_pts\n",
    "    if event == cv2.EVENT_LBUTTONDOWN:\n",
    "        if cnt < 4:\n",
    "            src_pts[cnt, :] = np.array([x, y]).astype(np.float32)\n",
    "            cnt += 1\n",
    "\n",
    "            cv2.circle(src, (x, y), 5, (0, 0, 255), -1)\n",
    "            cv2.imshow('src', src)\n",
    "        \n",
    "        if cnt == 4:\n",
    "            w = 200\n",
    "            h = 300\n",
    "\n",
    "            dst_pts = np.array([[0, 0],\n",
    "                                [w - 1, 0],\n",
    "                                [w - 1, h - 1],\n",
    "                                [0, h - 1]]).astype(np.float32)\n",
    "\n",
    "            pers_mat = cv2.getPerspectiveTransform(src_pts, dst_pts)\n",
    "\n",
    "            dst = cv2.warpPerspective(src, pers_mat, (w, h))\n",
    "\n",
    "            cv2.imshow('dst', dst)"
   ]
  },
  {
   "cell_type": "code",
   "execution_count": 51,
   "id": "80651c68",
   "metadata": {},
   "outputs": [],
   "source": [
    "cnt = 0\n",
    "src_pts = np.zeros([4, 2], dtype=np.float32)\n",
    "src = cv2.imread('card.bmp')\n",
    "\n",
    "if src is None:\n",
    "    print('Image load failed!')\n",
    "    sys.exit()\n",
    "\n",
    "cv2.namedWindow('src')\n",
    "cv2.setMouseCallback('src', on_mouse)\n",
    "\n",
    "cv2.imshow('src', src)\n",
    "cv2.waitKey(0)\n",
    "cv2.destroyAllWindows()"
   ]
  },
  {
   "cell_type": "code",
   "execution_count": 56,
   "id": "7f51e6fa",
   "metadata": {},
   "outputs": [],
   "source": [
    "src = cv2.imread('kids.png')\n",
    "\n",
    "classifier = cv2.CascadeClassifier('haarcascade_frontalface_default.xml')\n",
    "\n",
    "\n",
    "faces = classifier.detectMultiScale(src)\n",
    "\n",
    "for (x, y, w, h) in faces:\n",
    "    cv2.rectangle(src, (x, y), (x + w, y + h), (255, 0, 255), 2)\n",
    "\n",
    "cv2.imshow('src', src)\n",
    "cv2.waitKey()\n",
    "cv2.destroyAllWindows()"
   ]
  },
  {
   "cell_type": "code",
   "execution_count": 58,
   "id": "fa1878ef",
   "metadata": {},
   "outputs": [],
   "source": [
    "src = cv2.imread('kids.png')\n",
    "\n",
    "face_classifier = cv2.CascadeClassifier('haarcascade_frontalface_default.xml')\n",
    "eye_classifier = cv2.CascadeClassifier('haarcascade_eye.xml')\n",
    "\n",
    "faces = face_classifier.detectMultiScale(src)\n",
    "\n",
    "for (x1, y1, w1, h1) in faces:\n",
    "    cv2.rectangle(src, (x1, y1), (x1 + w1, y1 + h1), (255, 0, 255), 2)\n",
    "\n",
    "    faceROI = src[y1:y1 + h1, x1:x1 + w1]\n",
    "    eyes = eye_classifier.detectMultiScale(faceROI)\n",
    "\n",
    "    for (x2, y2, w2, h2) in eyes:\n",
    "        center = (int(x2 + w2 / 2), int(y2 + h2 / 2))\n",
    "        cv2.circle(faceROI, center, int(w2 / 2), (255, 0, 0), 2, cv2.LINE_AA)\n",
    "\n",
    "cv2.imshow('src', src)\n",
    "cv2.waitKey()\n",
    "cv2.destroyAllWindows()\n",
    "\n"
   ]
  },
  {
   "cell_type": "code",
   "execution_count": null,
   "id": "b0e68bfa",
   "metadata": {},
   "outputs": [],
   "source": []
  }
 ],
 "metadata": {
  "kernelspec": {
   "display_name": "Python 3 (ipykernel)",
   "language": "python",
   "name": "python3"
  },
  "language_info": {
   "codemirror_mode": {
    "name": "ipython",
    "version": 3
   },
   "file_extension": ".py",
   "mimetype": "text/x-python",
   "name": "python",
   "nbconvert_exporter": "python",
   "pygments_lexer": "ipython3",
   "version": "3.9.7"
  }
 },
 "nbformat": 4,
 "nbformat_minor": 5
}
