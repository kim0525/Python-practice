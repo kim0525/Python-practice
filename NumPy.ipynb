{
 "cells": [
  {
   "cell_type": "code",
   "execution_count": null,
   "id": "8d9990a2",
   "metadata": {},
   "outputs": [],
   "source": [
    "#133p\n",
    "\n",
    "import numpy as np\n",
    "my_arr = np.arange(100_000)  # 0 ~ 9999\n",
    "list(my_arr)\n",
    "for _ in range(10):         # _ 써서하는거는 그냥 10번만 돌린다는 뜻\n",
    "    my_arr2 = my_arr * 2\n",
    "\n",
    "#135p\n",
    "%time for _in range(10) : my arr2 = my arr*2\n",
    "\n"
   ]
  },
  {
   "cell_type": "code",
   "execution_count": null,
   "id": "795f20f7",
   "metadata": {},
   "outputs": [],
   "source": []
  }
 ],
 "metadata": {
  "kernelspec": {
   "display_name": "Python 3 (ipykernel)",
   "language": "python",
   "name": "python3"
  },
  "language_info": {
   "codemirror_mode": {
    "name": "ipython",
    "version": 3
   },
   "file_extension": ".py",
   "mimetype": "text/x-python",
   "name": "python",
   "nbconvert_exporter": "python",
   "pygments_lexer": "ipython3",
   "version": "3.9.7"
  }
 },
 "nbformat": 4,
 "nbformat_minor": 5
}
